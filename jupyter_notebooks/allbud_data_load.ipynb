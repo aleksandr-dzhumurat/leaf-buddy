{
 "cells": [
  {
   "cell_type": "code",
   "execution_count": 6,
   "id": "dc20c59c-489e-484b-9a5a-f8b789d16a9c",
   "metadata": {},
   "outputs": [
    {
     "name": "stdout",
     "output_type": "stream",
     "text": [
      "packages istalled\n"
     ]
    }
   ],
   "source": [
    "from IPython.display import clear_output\n",
    "\n",
    "# !pip install bs4\n",
    "\n",
    "clear_output()\n",
    "print('packages istalled')"
   ]
  },
  {
   "cell_type": "code",
   "execution_count": 19,
   "id": "77f7155e-f8cd-41ca-94f1-2fa0a76ed1fb",
   "metadata": {},
   "outputs": [],
   "source": [
    "ROOT_DATA_DIR = '/srv/data'\n",
    "\n",
    "ROOT_DATA_DIR = '../../../Downloads/data'\n",
    "\n",
    "def get_path(dir_name):\n",
    "    root_data_dir = os.environ['ROOT_DATA_DIR']\n",
    "    return os.path.join(root_data_dir, dir_name)"
   ]
  },
  {
   "cell_type": "markdown",
   "id": "3261d6e4-d4a3-4f42-abea-a93088c53efc",
   "metadata": {},
   "source": [
    "[semrush: leafly competitors](https://www.semrush.com/website/leafly.com/competitors/)"
   ]
  },
  {
   "cell_type": "markdown",
   "id": "27d7206f-6dda-4a87-aaf8-ef162bc15df3",
   "metadata": {},
   "source": [
    "[Search results](https://www.allbud.com/marijuana-strains/search?results=40)\n",
    "\n"
   ]
  },
  {
   "cell_type": "code",
   "execution_count": 9,
   "id": "b05436a0-c782-40e6-b9a5-d58c541a9a0d",
   "metadata": {},
   "outputs": [],
   "source": [
    "from bs4 import BeautifulSoup\n",
    "\n",
    "def get_artists_pages(result_csv_path: str):\n",
    "    page_list: List[str] = prepare_pages_list()\n",
    "    logger.info(result_csv_path)\n",
    "    \n",
    "    if not os.path.exists(result_csv_path):\n",
    "        res_df = pd.DataFrame([], columns=['artist_name', 'artist_link'])\n",
    "        for current_alphabet_page in page_list:\n",
    "            artists_scraper = BeautifulSoup(\n",
    "                markup=requests.get(current_alphabet_page).content, features=\"html.parser\"\n",
    "            )\n",
    "            res = artists_scraper.find(name=\"div\", class_='masonry-text-view masonry-text-view-all')\n",
    "            artists = res.find_all(name='li')\n",
    "\n",
    "            res = []\n",
    "            for artist in artists:\n",
    "                artist_info = artist.find('a')\n",
    "                res.append((artist_info['href'], artist_info.get_text()))\n",
    "            current_page_df = pd.DataFrame(res, columns=['artist_name', 'artist_link'])\n",
    "            res_df = pd.concat([res_df, current_page_df])\n",
    "        res_df.to_csv(result_csv_path, index=False)\n",
    "        logger.info(\"Artists pages saved to %s: %d rows\", result_csv_path, res_df.shape[0])"
   ]
  },
  {
   "cell_type": "code",
   "execution_count": 10,
   "id": "474dbd70-ac64-4ab4-b6b4-7313c6d5f250",
   "metadata": {},
   "outputs": [],
   "source": [
    "import os\n",
    "\n",
    "input_file_path = os.path.join(ROOT_DATA_DIR, 'AllBud.html')\n",
    "\n",
    "with open(input_file_path, 'r', encoding='utf-8') as file:\n",
    "    html_content = file.read()\n",
    "items_scraper = BeautifulSoup(\n",
    "    markup=html_content, features=\"html.parser\"\n",
    ")"
   ]
  },
  {
   "cell_type": "code",
   "execution_count": 11,
   "id": "794fe420-fc2d-4f85-9447-ce371781c7df",
   "metadata": {},
   "outputs": [
    {
     "name": "stdout",
     "output_type": "stream",
     "text": [
      "reading from dump\n"
     ]
    },
    {
     "data": {
      "text/html": [
       "<div>\n",
       "<style scoped>\n",
       "    .dataframe tbody tr th:only-of-type {\n",
       "        vertical-align: middle;\n",
       "    }\n",
       "\n",
       "    .dataframe tbody tr th {\n",
       "        vertical-align: top;\n",
       "    }\n",
       "\n",
       "    .dataframe thead th {\n",
       "        text-align: right;\n",
       "    }\n",
       "</style>\n",
       "<table border=\"1\" class=\"dataframe\">\n",
       "  <thead>\n",
       "    <tr style=\"text-align: right;\">\n",
       "      <th></th>\n",
       "      <th>title</th>\n",
       "      <th>link</th>\n",
       "      <th>num_favorites</th>\n",
       "      <th>avg_rating</th>\n",
       "      <th>num_ratings</th>\n",
       "      <th>percentages</th>\n",
       "      <th>tags</th>\n",
       "    </tr>\n",
       "  </thead>\n",
       "  <tbody>\n",
       "    <tr>\n",
       "      <th>0</th>\n",
       "      <td>Casey Jones</td>\n",
       "      <td>/marijuana-strains/sativa-dominant-hybrid/case...</td>\n",
       "      <td>1249 Favorites</td>\n",
       "      <td>4.6</td>\n",
       "      <td>38</td>\n",
       "      <td>THC: 22%</td>\n",
       "      <td>Sativa Dominant|80% Sativa/20% Indica</td>\n",
       "    </tr>\n",
       "    <tr>\n",
       "      <th>1</th>\n",
       "      <td>Gorilla Glue #4</td>\n",
       "      <td>/marijuana-strains/indica-dominant-hybrid/gori...</td>\n",
       "      <td>17105 Favorites</td>\n",
       "      <td>4.6</td>\n",
       "      <td>339</td>\n",
       "      <td>THC: 32%</td>\n",
       "      <td>Indica Dominant|60% Indica/40% Sativa</td>\n",
       "    </tr>\n",
       "    <tr>\n",
       "      <th>2</th>\n",
       "      <td>Cherry Pie</td>\n",
       "      <td>/marijuana-strains/indica-dominant-hybrid/cher...</td>\n",
       "      <td>3768 Favorites</td>\n",
       "      <td>4.5</td>\n",
       "      <td>110</td>\n",
       "      <td>THC: 16% - 24%, CBD: 1%</td>\n",
       "      <td>Indica Dominant|80% Indica/20% Sativa</td>\n",
       "    </tr>\n",
       "    <tr>\n",
       "      <th>3</th>\n",
       "      <td>Amnesia Haze</td>\n",
       "      <td>/marijuana-strains/sativa-dominant-hybrid/amne...</td>\n",
       "      <td>2406 Favorites</td>\n",
       "      <td>4.5</td>\n",
       "      <td>55</td>\n",
       "      <td>THC: 20% - 22%, CBD: 1%</td>\n",
       "      <td>Sativa Dominant|80% Sativa/20% Indica</td>\n",
       "    </tr>\n",
       "    <tr>\n",
       "      <th>4</th>\n",
       "      <td>Blueberry</td>\n",
       "      <td>/marijuana-strains/indica-dominant-hybrid/blue...</td>\n",
       "      <td>2880 Favorites</td>\n",
       "      <td>4.5</td>\n",
       "      <td>95</td>\n",
       "      <td>THC: 16% - 24%, CBN: 1%</td>\n",
       "      <td>Indica Dominant|80% Indica/20% Sativa</td>\n",
       "    </tr>\n",
       "  </tbody>\n",
       "</table>\n",
       "</div>"
      ],
      "text/plain": [
       "             title                                               link  \\\n",
       "0      Casey Jones  /marijuana-strains/sativa-dominant-hybrid/case...   \n",
       "1  Gorilla Glue #4  /marijuana-strains/indica-dominant-hybrid/gori...   \n",
       "2       Cherry Pie  /marijuana-strains/indica-dominant-hybrid/cher...   \n",
       "3     Amnesia Haze  /marijuana-strains/sativa-dominant-hybrid/amne...   \n",
       "4        Blueberry  /marijuana-strains/indica-dominant-hybrid/blue...   \n",
       "\n",
       "     num_favorites  avg_rating  num_ratings               percentages  \\\n",
       "0   1249 Favorites         4.6           38                 THC: 22%    \n",
       "1  17105 Favorites         4.6          339                 THC: 32%    \n",
       "2   3768 Favorites         4.5          110  THC: 16% - 24%, CBD: 1%    \n",
       "3   2406 Favorites         4.5           55  THC: 20% - 22%, CBD: 1%    \n",
       "4   2880 Favorites         4.5           95  THC: 16% - 24%, CBN: 1%    \n",
       "\n",
       "                                    tags  \n",
       "0  Sativa Dominant|80% Sativa/20% Indica  \n",
       "1  Indica Dominant|60% Indica/40% Sativa  \n",
       "2  Indica Dominant|80% Indica/20% Sativa  \n",
       "3  Sativa Dominant|80% Sativa/20% Indica  \n",
       "4  Indica Dominant|80% Indica/20% Sativa  "
      ]
     },
     "execution_count": 11,
     "metadata": {},
     "output_type": "execute_result"
    }
   ],
   "source": [
    "import pandas as pd\n",
    "\n",
    "import re\n",
    "\n",
    "catalog_data_path = os.path.join(ROOT_DATA_DIR, 'allbud_catalog.csv')\n",
    "\n",
    "if not os.path.exists(catalog_data_path):\n",
    "    print('Extracting from HTML')\n",
    "    df_entries = []\n",
    "    items = items_scraper.find_all(name='div', class_=\"col-sm-6 col-md-4 col-lg-3\")\n",
    "    for i in items:\n",
    "        title = i.find(class_='object-title').find(class_='visible-xs').text\n",
    "        link = i.find(class_='object-title').find('a')['href']\n",
    "        tags = '|'.join([t.strip() for t in i.find(class_='subtitle').text.split('\\n') if len(t.strip()) > 1])\n",
    "        percentages = re.sub(r'\\s+', ' ', i.find(class_='details').find(class_='percentages').text.replace('\\n', ' '))\n",
    "        num_favorites = i.find(class_='details').find(class_='favorites').text.replace('\\n', ' ')\n",
    "        avg_rating = i.find(class_='details').find(class_='ratings').find(class_='rating-num').text\n",
    "        num_ratings = i.find(class_='details').find(class_='ratings').find(class_='rating-votes').find(class_='product-rating-votes').text.strip()\n",
    "        df_entries.append((title, link, num_favorites, avg_rating, num_ratings, percentages, tags))\n",
    "    catalog_df = pd.DataFrame(df_entries, columns=['title','link','num_favorites','avg_rating','num_ratings','percentages','tags'])\n",
    "    \n",
    "    catalog_df.to_csv(catalog_data_path, index=False)\n",
    "else:\n",
    "    print('reading from dump')\n",
    "    catalog_df = pd.read_csv(catalog_data_path)\n",
    "catalog_df.head()"
   ]
  },
  {
   "cell_type": "code",
   "execution_count": 34,
   "id": "a7fe0fc3-c38b-4a66-b9dd-f9837f49fa3c",
   "metadata": {},
   "outputs": [
    {
     "data": {
      "text/plain": [
       "0    (Sativa Dominant, 80% Sativa, 20% Indica)\n",
       "1    (Indica Dominant, 60% Indica, 40% Sativa)\n",
       "2    (Indica Dominant, 80% Indica, 20% Sativa)\n",
       "3    (Sativa Dominant, 80% Sativa, 20% Indica)\n",
       "4    (Indica Dominant, 80% Indica, 20% Sativa)\n",
       "Name: tags, dtype: object"
      ]
     },
     "execution_count": 34,
     "metadata": {},
     "output_type": "execute_result"
    }
   ],
   "source": [
    "def parse_tags(x):\n",
    "    dominant, shares_str = x.split('|')\n",
    "    sativa_share, indica_share = shares_str.split('/')\n",
    "    return (dominant, sativa_share, indica_share)\n",
    "\n",
    "catalog_df['tags'].head().apply(lambda x: parse_tags(x))"
   ]
  },
  {
   "cell_type": "code",
   "execution_count": 21,
   "id": "ddb232f7-e0aa-4a59-a637-44a13dcea2f8",
   "metadata": {},
   "outputs": [
    {
     "name": "stdout",
     "output_type": "stream",
     "text": [
      "All done!\n"
     ]
    }
   ],
   "source": [
    "import requests\n",
    "\n",
    "def save_html(url, file_path):\n",
    "    response = requests.get(url)\n",
    "    if response.status_code == 200:\n",
    "        html_content = response.text\n",
    "        \n",
    "        with open(file_path, 'w', encoding='utf-8') as file:\n",
    "            file.write(html_content)\n",
    "    else:\n",
    "        print(\"Failed to retrieve webpage %s. Status code:\" % (url, response.status_code))\n",
    "\n",
    "# root_data_dir = '/srv/data'\n",
    "root_data_dir = get_path('pipelines-data')\n",
    "html_data_dir = 'allbuds_html_pages'\n",
    "\n",
    "html_dir = os.path.join(root_data_dir, html_data_dir)\n",
    "if not os.path.exists(html_dir):\n",
    "    os.mkdir(html_dir)\n",
    "if len(os.listdir(html_dir)) == 0:\n",
    "    for ind, row in catalog_df.iterrows():\n",
    "        url = f\"https://www.allbud.com{row['link']}\"\n",
    "        html_path = os.path.join(html_dir, f\"{row['link'].replace('/', '_')}.html\")\n",
    "        if not os.path.exists(html_path):\n",
    "            save_html(url, html_path)\n",
    "        else:\n",
    "            pass\n",
    "        if ind % 50 == 0:\n",
    "            print('%d out of %d' % (ind, catalog_df.shape[0]))\n",
    "    clear_output()\n",
    "print('All done!')"
   ]
  },
  {
   "cell_type": "code",
   "execution_count": 46,
   "id": "be20b330-c281-4b87-b392-67bcc029d419",
   "metadata": {},
   "outputs": [
    {
     "name": "stdout",
     "output_type": "stream",
     "text": [
      "Loading from /Users/username/PycharmProjects/leaf-bro-data/data/pipelines-data/item_cards.json..\n",
      "['description', 'item', 'positive_effects', 'relieved_effects', 'flavours', 'aromas']\n",
      "Loading from /Users/username/PycharmProjects/leaf-bro-data/data/pipelines-data/reviews.json..\n",
      "['item', 'review']\n",
      "All done, num descriptions 4181, num reviews 13743\n",
      "Num errors 0\n"
     ]
    }
   ],
   "source": [
    "import json\n",
    "import os\n",
    "\n",
    "\n",
    "descriptions_json_path = os.path.join(root_data_dir, 'item_cards.json')\n",
    "reviews_json_path = os.path.join(root_data_dir, 'reviews.json')\n",
    "\n",
    "descrs = []\n",
    "reviews = []\n",
    "errors = []\n",
    "if not os.path.exists(descriptions_json_path):\n",
    "    for i in os.listdir(html_dir):\n",
    "        if len(descrs) % 500 == 0:\n",
    "            print('Processed: %s' % len(descrs))\n",
    "        description_dict = {}\n",
    "        input_file_path = os.path.join(html_dir, i)\n",
    "        with open(input_file_path, 'r', encoding='utf-8') as file:\n",
    "            html_content = file.read()\n",
    "        item_card_scraper = BeautifulSoup(\n",
    "            markup=html_content, features=\"html.parser\"\n",
    "        )\n",
    "        description_dict.update({\n",
    "            \"description\": re.sub(r'\\s+', ' ', item_card_scraper.find(class_='panel-body well description').text.replace('\\n', ' '))\n",
    "        })\n",
    "        # details\n",
    "        positive_effects = re.sub(r'\\s+', ' ', item_card_scraper.find(name='section', id='positive-effects-mobile').text.replace('\\n', ''))\n",
    "        relieved_effects = re.sub(r'\\s+', ' ', item_card_scraper.find(name='section', id='relieved-mobile').text.replace('\\n', ''))\n",
    "        flavours = re.sub(r'\\s+', ' ', item_card_scraper.find(name='section', id='flavors-mobile').text.replace('\\n', ''))\n",
    "        aromas = re.sub(r'\\s+', ' ', item_card_scraper.find(name='section', id='aromas-mobile').text.replace('\\n', ''))\n",
    "        description_dict.update({\n",
    "            'item': i,\n",
    "            'positive_effects': positive_effects,\n",
    "            'relieved_effects': relieved_effects,\n",
    "            'flavours': flavours,\n",
    "            'aromas': aromas,\n",
    "        })\n",
    "        descrs.append(description_dict)\n",
    "        revs = item_card_scraper.find(name='div', id='collapse_reviews')\n",
    "        try:\n",
    "            for r in revs.find_all(class_='infopanel review mobile-panel'):\n",
    "                reviews.append({\n",
    "                    'item': i,\n",
    "                    'review': re.sub(r'\\s+', ' ', r.find(class_='text').text.replace('\\n', ''))\n",
    "                })\n",
    "        except AttributeError:\n",
    "            errors.append(i)\n",
    "    with open(descriptions_json_path, 'w') as json_file:\n",
    "        json.dump(descrs, json_file)\n",
    "    with open(reviews_json_path, 'w') as json_file:\n",
    "        json.dump(reviews, json_file)\n",
    "else:\n",
    "    with open(descriptions_json_path, 'r') as f:\n",
    "        print(f'Loading from {descriptions_json_path}..')\n",
    "        descriptions_dict = json.load(f)\n",
    "        print(list(descriptions_dict[0].keys()))\n",
    "    with open(reviews_json_path, 'r') as json_file:\n",
    "        print(f'Loading from {reviews_json_path}..')\n",
    "        reviews_dict = json.load(json_file)\n",
    "        print(list(reviews_dict[0].keys()))\n",
    "print('All done, num descriptions %d, num reviews %d' % (len(descriptions_dict), len(reviews_dict)))\n",
    "print('Num errors %d' % len(errors))"
   ]
  },
  {
   "cell_type": "code",
   "execution_count": 50,
   "id": "7d423ba7-9ecf-4dd4-b4d6-69ac543492bd",
   "metadata": {},
   "outputs": [
    {
     "name": "stdout",
     "output_type": "stream",
     "text": [
      "Saved to /Users/username/PycharmProjects/leaf-bro-data/data/pipelines-data/item_cards.gzip\n",
      "4181\n"
     ]
    }
   ],
   "source": [
    "import gzip \n",
    "\n",
    "def save_json_gzip(input_path, output_path):\n",
    "    with open(input_path, 'r') as f_in:\n",
    "        with gzip.open(output_path, 'wt', encoding='UTF-8') as f_out:\n",
    "            data = json.load(f_in)\n",
    "            json.dump(data, f_out)\n",
    "    print(f'Saved to {output_path}')\n",
    "\n",
    "def load_json_gzip(input_path):\n",
    "    with gzip.open(input_path, 'rt', encoding='UTF-8') as f_in:\n",
    "            data = json.load(f_in)\n",
    "    print(f'Saved to {output_path}')\n",
    "    return data\n",
    "\n",
    "output_path = os.path.join(root_data_dir, 'item_cards.gzip')\n",
    "# save_json_gzip(descriptions_json_path, output_path)\n",
    "data = load_json_gzip(output_path)\n",
    "print(len(data))"
   ]
  },
  {
   "cell_type": "code",
   "execution_count": 28,
   "id": "638c71f5-5ac2-45b6-8671-21243e352f87",
   "metadata": {},
   "outputs": [],
   "source": [
    "# for i in [descriptions_json_path, reviews_json_path]:\n",
    "#     os.remove(i)"
   ]
  },
  {
   "cell_type": "code",
   "execution_count": 39,
   "id": "ef211936-8f80-4850-b73a-5ad6899f05f3",
   "metadata": {},
   "outputs": [
    {
     "name": "stdout",
     "output_type": "stream",
     "text": [
      " Sativa Dominant Hybrid - 65% Sativa / 35% IndicaTHC: 11%, CBD: 11% Blue Dream CBD is a slightly sativa dominant hybrid strain (65% sativa/35% indica) created through crossing the powerful Blue Dream X California Orange CBD strains. Best known for its 1:1 CBD:THC ratio, Blue Dream CBD packs a dreamy high that will have you feeling kicked back and relaxed in no time at all. The high starts with a subtle build of effects, sneaking into the brain with a soothing and lifting feeling that pushes out any negative or racing thoughts and moods instantly. You'll find yourself filled with a light touch of focus and a slight boost in energy that lends itself well to jumping on your to-do list. A relaxing body high accompanies this happy lift, easing away aches and pains without causing any sedation. In combination with its low 11% THC level and super high 11% CBD level, these effects make Blue Dream CBD a great choice for treating a variety of conditions including inflammation, chronic pain, depression, cramps or muscle spasms and chronic stress or anxiety. This bud has a sweet and sour citrusy flavor with hints of fresh blueberries galore. The aroma is very similar, with a sweet blueberry overtone accented by spicy black pepper and herbs. Blue Dream CBD buds have fat oversized spade-shaped olive green nugs with blue undertones, thin amber hairs and a coating of tiny blue-tinted white crystal trichomes.Follow Our NewsletterGet exclusive information about new strains, latest articles, nearby dispensaries and discount deals!\n",
      "---\n"
     ]
    }
   ],
   "source": [
    "print(descriptions_dict[150][\"description\"])\n",
    "print('---')\n",
    "item_name = descriptions_dict[150][\"item\"]"
   ]
  },
  {
   "cell_type": "code",
   "execution_count": 41,
   "id": "b3c66d99-130b-4bc7-97ad-42b4cc00d92b",
   "metadata": {},
   "outputs": [
    {
     "data": {
      "text/plain": [
       "[' Let’s talk about this Indy Landrace…So many hybrids give you that nice variety in the effect and feeling. But there’s nothing like a beautiful pure Indy to help you drift off to sleep and make your feel better living in your body. This hits like that dank that you tried once as a kid and wish you could find again! Classic Afghan purity! ',\n",
       " ' Twilight is one of the best strains for my Chronic Migraines and PTSD. It also helps me relax and fall to sleep faster. I really wish that someone near me had this Great Strain! ',\n",
       " ' This strain showed off what it means to be a pure indica, for me. If you have issues with sleeping or just being still, this strain is perfect. Also, it helped with the muscle twitches I get in my upper quads. ',\n",
       " ' Real piney with sweet flower aroma. Sweet pine taste. Real kiefy light buds not dense. Over all a good flower to try close ro a Mazar sharif strain. ']"
      ]
     },
     "execution_count": 41,
     "metadata": {},
     "output_type": "execute_result"
    }
   ],
   "source": [
    "item_name = '_marijuana-strains_indica_twilight-indica.html'\n",
    "[i[\"review\"] for i in reviews_dict if i['item']==item_name]"
   ]
  },
  {
   "cell_type": "code",
   "execution_count": null,
   "id": "1d16d321-ef08-41f2-a418-e45dc833566a",
   "metadata": {},
   "outputs": [],
   "source": [
    "import pandas as pd"
   ]
  }
 ],
 "metadata": {
  "kernelspec": {
   "display_name": "Python 3 (ipykernel)",
   "language": "python",
   "name": "python3"
  },
  "language_info": {
   "codemirror_mode": {
    "name": "ipython",
    "version": 3
   },
   "file_extension": ".py",
   "mimetype": "text/x-python",
   "name": "python",
   "nbconvert_exporter": "python",
   "pygments_lexer": "ipython3",
   "version": "3.11.5"
  }
 },
 "nbformat": 4,
 "nbformat_minor": 5
}
