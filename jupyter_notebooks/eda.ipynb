{
 "cells": [
  {
   "cell_type": "code",
   "execution_count": 223,
   "id": "27ea6454-937c-4711-ad65-bbd8981935b7",
   "metadata": {},
   "outputs": [
    {
     "data": {
      "text/plain": [
       "True"
      ]
     },
     "execution_count": 223,
     "metadata": {},
     "output_type": "execute_result"
    }
   ],
   "source": [
    "from dotenv import load_dotenv\n",
    "from elasticsearch import Elasticsearch, ConnectionError\n",
    "\n",
    "es_client = Elasticsearch('http://localhost:9200')\n",
    "\n",
    "\n",
    "# Load environment variables from the .env file\n",
    "load_dotenv()"
   ]
  },
  {
   "cell_type": "code",
   "execution_count": 18,
   "id": "edc22851-6aff-4cd2-804f-56b5a414fc24",
   "metadata": {},
   "outputs": [
    {
     "data": {
      "text/html": [
       "<div>\n",
       "<style scoped>\n",
       "    .dataframe tbody tr th:only-of-type {\n",
       "        vertical-align: middle;\n",
       "    }\n",
       "\n",
       "    .dataframe tbody tr th {\n",
       "        vertical-align: top;\n",
       "    }\n",
       "\n",
       "    .dataframe thead th {\n",
       "        text-align: right;\n",
       "    }\n",
       "</style>\n",
       "<table border=\"1\" class=\"dataframe\">\n",
       "  <thead>\n",
       "    <tr style=\"text-align: right;\">\n",
       "      <th></th>\n",
       "      <th>doc_id</th>\n",
       "      <th>category</th>\n",
       "      <th>title</th>\n",
       "      <th>link</th>\n",
       "      <th>file</th>\n",
       "      <th>processed_file_name</th>\n",
       "    </tr>\n",
       "  </thead>\n",
       "  <tbody>\n",
       "    <tr>\n",
       "      <th>0</th>\n",
       "      <td>doc_99f6838c-1a8b-44d5-98d3-f5b4fd13c975</td>\n",
       "      <td>cannabis/flower</td>\n",
       "      <td>3.5g THC-A COOKIES PINK RUNTZ FLOWER HYBRID</td>\n",
       "      <td>/brands/aventus-8/products/aventus-8-torch-thc...</td>\n",
       "      <td>/Users/username/PycharmProjects/leaf-buddy/dat...</td>\n",
       "      <td>/Users/username/PycharmProjects/leaf-buddy/dat...</td>\n",
       "    </tr>\n",
       "    <tr>\n",
       "      <th>1</th>\n",
       "      <td>doc_80fb98a9-9297-405d-b83c-79cb7c13ac8e</td>\n",
       "      <td>cannabis/flower</td>\n",
       "      <td>7.5 g THC-A Pink Rozay Hybrid</td>\n",
       "      <td>/brands/aventus-8/products/aventus-8-torch-thc...</td>\n",
       "      <td>/Users/username/PycharmProjects/leaf-buddy/dat...</td>\n",
       "      <td>/Users/username/PycharmProjects/leaf-buddy/dat...</td>\n",
       "    </tr>\n",
       "    <tr>\n",
       "      <th>2</th>\n",
       "      <td>doc_a7e3cff6-64eb-45a9-8b60-376b736e0bf9</td>\n",
       "      <td>cannabis/flower</td>\n",
       "      <td>LEMONADE BLANCO 1 G FLOWER THC</td>\n",
       "      <td>/brands/aventus-8/products/aventus-8-torch-thc...</td>\n",
       "      <td>/Users/username/PycharmProjects/leaf-buddy/dat...</td>\n",
       "      <td>/Users/username/PycharmProjects/leaf-buddy/dat...</td>\n",
       "    </tr>\n",
       "    <tr>\n",
       "      <th>3</th>\n",
       "      <td>doc_338a75b4-9ea7-45a3-ab4c-fb593899cd2b</td>\n",
       "      <td>cannabis/flower</td>\n",
       "      <td>AVENTUS8 THC-A Flower Delta 8 THC Sugar Drop K...</td>\n",
       "      <td>/brands/aventus-8/products/aventus-8-torch-thc...</td>\n",
       "      <td>/Users/username/PycharmProjects/leaf-buddy/dat...</td>\n",
       "      <td>/Users/username/PycharmProjects/leaf-buddy/dat...</td>\n",
       "    </tr>\n",
       "    <tr>\n",
       "      <th>4</th>\n",
       "      <td>doc_94c13f55-c688-4dd6-8f2d-551578a235b2</td>\n",
       "      <td>cannabis/flower</td>\n",
       "      <td>3.5g THC-A WHITE RUNTZ FLOWER HYBRID</td>\n",
       "      <td>/brands/aventus-8/products/aventus-8-torch-thc...</td>\n",
       "      <td>/Users/username/PycharmProjects/leaf-buddy/dat...</td>\n",
       "      <td>/Users/username/PycharmProjects/leaf-buddy/dat...</td>\n",
       "    </tr>\n",
       "  </tbody>\n",
       "</table>\n",
       "</div>"
      ],
      "text/plain": [
       "                                     doc_id         category  \\\n",
       "0  doc_99f6838c-1a8b-44d5-98d3-f5b4fd13c975  cannabis/flower   \n",
       "1  doc_80fb98a9-9297-405d-b83c-79cb7c13ac8e  cannabis/flower   \n",
       "2  doc_a7e3cff6-64eb-45a9-8b60-376b736e0bf9  cannabis/flower   \n",
       "3  doc_338a75b4-9ea7-45a3-ab4c-fb593899cd2b  cannabis/flower   \n",
       "4  doc_94c13f55-c688-4dd6-8f2d-551578a235b2  cannabis/flower   \n",
       "\n",
       "                                               title  \\\n",
       "0        3.5g THC-A COOKIES PINK RUNTZ FLOWER HYBRID   \n",
       "1                      7.5 g THC-A Pink Rozay Hybrid   \n",
       "2                     LEMONADE BLANCO 1 G FLOWER THC   \n",
       "3  AVENTUS8 THC-A Flower Delta 8 THC Sugar Drop K...   \n",
       "4               3.5g THC-A WHITE RUNTZ FLOWER HYBRID   \n",
       "\n",
       "                                                link  \\\n",
       "0  /brands/aventus-8/products/aventus-8-torch-thc...   \n",
       "1  /brands/aventus-8/products/aventus-8-torch-thc...   \n",
       "2  /brands/aventus-8/products/aventus-8-torch-thc...   \n",
       "3  /brands/aventus-8/products/aventus-8-torch-thc...   \n",
       "4  /brands/aventus-8/products/aventus-8-torch-thc...   \n",
       "\n",
       "                                                file  \\\n",
       "0  /Users/username/PycharmProjects/leaf-buddy/dat...   \n",
       "1  /Users/username/PycharmProjects/leaf-buddy/dat...   \n",
       "2  /Users/username/PycharmProjects/leaf-buddy/dat...   \n",
       "3  /Users/username/PycharmProjects/leaf-buddy/dat...   \n",
       "4  /Users/username/PycharmProjects/leaf-buddy/dat...   \n",
       "\n",
       "                                 processed_file_name  \n",
       "0  /Users/username/PycharmProjects/leaf-buddy/dat...  \n",
       "1  /Users/username/PycharmProjects/leaf-buddy/dat...  \n",
       "2  /Users/username/PycharmProjects/leaf-buddy/dat...  \n",
       "3  /Users/username/PycharmProjects/leaf-buddy/dat...  \n",
       "4  /Users/username/PycharmProjects/leaf-buddy/dat...  "
      ]
     },
     "execution_count": 18,
     "metadata": {},
     "output_type": "execute_result"
    }
   ],
   "source": [
    "import os\n",
    "import pandas as pd\n",
    "\n",
    "catalog_df = pd.read_csv(os.path.join(os.environ['ROOT_DATA_DIR'], 'leafly_catalog.csv'))\n",
    "\n",
    "catalog_df.head()"
   ]
  },
  {
   "cell_type": "code",
   "execution_count": 25,
   "id": "222dcd6d-b181-4767-ae1b-00c770618be9",
   "metadata": {},
   "outputs": [
    {
     "data": {
      "text/html": [
       "<a href=\"https://www.leafly.com/brands/zamnesia/products/zamnesia-blueberry-thca-flower-29-zamnesia-flower\" target=\"_blank\">Blueberry - THCa Flower 29% (Zamnesia)</a>"
      ],
      "text/plain": [
       "<IPython.core.display.HTML object>"
      ]
     },
     "metadata": {},
     "output_type": "display_data"
    },
    {
     "data": {
      "text/html": [
       "<a href=\"https://www.leafly.com/brands/zaleaf/products/zaleaf-blunts-caviar-sauce-starkiller-indica-torch-thc-a-infused-pre-rolls-4-4g-2-count-pre-rolls\" target=\"_blank\">Sweet Lyfe Moonrock Blunt THCA+THCP - Sherb Mintz - Hybrid</a>"
      ],
      "text/plain": [
       "<IPython.core.display.HTML object>"
      ]
     },
     "metadata": {},
     "output_type": "display_data"
    },
    {
     "data": {
      "text/html": [
       "<a href=\"https://www.leafly.com/brands/vibations/products/vibations-pomegranate-blueberry-acai-tea-drink-mix-10mg-each-100mg-total-beverages\" target=\"_blank\">Pomegranate Blueberry Acai Tea  -  Drink Mix - 10mg Each 100mg Total</a>"
      ],
      "text/plain": [
       "<IPython.core.display.HTML object>"
      ]
     },
     "metadata": {},
     "output_type": "display_data"
    },
    {
     "data": {
      "text/html": [
       "<a href=\"https://www.leafly.com/brands/simply-crafted-cbd/products/simply-crafted-cbd-zkittlez-cbd-vape-pen-vape-pens\" target=\"_blank\">CHEEBA CHEWS Sleepy Chews | THC+CBN</a>"
      ],
      "text/plain": [
       "<IPython.core.display.HTML object>"
      ]
     },
     "metadata": {},
     "output_type": "display_data"
    },
    {
     "data": {
      "text/html": [
       "<a href=\"https://www.leafly.com/brands/dream/products/dream-dream-edibles-peanut-butter-multipack-10mg-x-10-units-candy\" target=\"_blank\">Dream Edibles - Peanut Butter Multipack (10mg x 10 units)</a>"
      ],
      "text/plain": [
       "<IPython.core.display.HTML object>"
      ]
     },
     "metadata": {},
     "output_type": "display_data"
    },
    {
     "data": {
      "text/html": [
       "<a href=\"https://www.leafly.com/brands/1906-new-highs/products/1906-new-highs-go-drops-20-pack-100mg-thc-100mg-cbd-capsules-25b2f\" target=\"_blank\">Go Drops 20-pack | 100mg THC/ 100mg CBD</a>"
      ],
      "text/plain": [
       "<IPython.core.display.HTML object>"
      ]
     },
     "metadata": {},
     "output_type": "display_data"
    },
    {
     "data": {
      "text/html": [
       "<a href=\"https://www.leafly.com/brands/1906-new-highs/products/1906-new-highs-chill-drops-20-pack-100mg-thc-500mg-cbd-capsules\" target=\"_blank\">Chill Drops 20-pack|100mg THC/500mg CBD</a>"
      ],
      "text/plain": [
       "<IPython.core.display.HTML object>"
      ]
     },
     "metadata": {},
     "output_type": "display_data"
    },
    {
     "data": {
      "text/html": [
       "<a href=\"https://www.leafly.com/brands/nasha/products/nasha-papaya-punch-green-powder-hash-1g-solventless\" target=\"_blank\">Papaya Punch Green Powder Hash 1g</a>"
      ],
      "text/plain": [
       "<IPython.core.display.HTML object>"
      ]
     },
     "metadata": {},
     "output_type": "display_data"
    },
    {
     "data": {
      "text/html": [
       "<a href=\"https://www.leafly.com/brands/abstrax-tech/products/abstrax-tech-creme-brulee-terpene-profile-terpenes\" target=\"_blank\">Creme Brûlée Terpene Profile</a>"
      ],
      "text/plain": [
       "<IPython.core.display.HTML object>"
      ]
     },
     "metadata": {},
     "output_type": "display_data"
    },
    {
     "data": {
      "text/html": [
       "<a href=\"https://www.leafly.com/brands/abstrax-tech/products/abstrax-tech-winter-mint-terpene-blend-terpenes\" target=\"_blank\">Winter Mint Terpene Blend</a>"
      ],
      "text/plain": [
       "<IPython.core.display.HTML object>"
      ]
     },
     "metadata": {},
     "output_type": "display_data"
    }
   ],
   "source": [
    "import requests\n",
    "\n",
    "from IPython.display import display, HTML\n",
    "\n",
    "api_url = 'http://0.0.0.0:8000'\n",
    "\n",
    "def request(query, relief, positive_effects):\n",
    "    headers = {\"Content-Type\": \"application/json\"}\n",
    "    payload = {\n",
    "        \"relief\": relief,\n",
    "        \"positive_effects\": positive_effects,\n",
    "        \"query\": query\n",
    "    }\n",
    "    response = requests.post(\n",
    "        f\"{api_url}/search\",\n",
    "        headers=headers,\n",
    "        json=payload\n",
    "    )\n",
    "    resp = [\n",
    "        (i['title'], i['url']) for i in response.json()\n",
    "    ]\n",
    "\n",
    "    return resp\n",
    "\n",
    "for title, url in request('good sleep', [], []):\n",
    "    display(HTML(f'<a href=\"{url}\" target=\"_blank\">{title}</a>'))"
   ]
  },
  {
   "cell_type": "markdown",
   "id": "2935915e-bc4f-4103-95a3-89e8a33b69a8",
   "metadata": {},
   "source": [
    "# Keyword search"
   ]
  },
  {
   "cell_type": "code",
   "execution_count": 244,
   "id": "882052e5-49c0-42ef-8974-5ad74a32a901",
   "metadata": {},
   "outputs": [
    {
     "name": "stdout",
     "output_type": "stream",
     "text": [
      "\n",
      "[{'title': 'OG 18', 'tags': 'Indica Dominant|70% Indica/30% Sativa', 'relief': 'arthritis chronic pain depression fibromyalgia headaches inflammation insomnia migraines', 'positive_effects': 'euphoria happy', 'flavours': 'diesel pine sweet'}, {'title': 'Peanut Butter Breath', 'tags': 'Hybrid,|50%/50%', 'relief': 'chronic pain depression loss of appetite nausea stress', 'positive_effects': 'body high hungry relaxing uplifting', 'flavours': 'herbal pine woody'}, {'title': 'Purple Sunset', 'tags': 'Indica Dominant|60% Indica/40% Sativa', 'relief': 'add/adhd anxiety depression stress', 'positive_effects': 'calming creative hungry relaxing uplifting', 'flavours': 'citrus fruity orange sour spicy sweet'}]\n"
     ]
    }
   ],
   "source": [
    "def elastic_search(es_client, query, limit=3, filter=None, random=False):\n",
    "    index_name = 'greenbro-content'\n",
    "    if random:\n",
    "        search_query = {\n",
    "          \"size\": 10,\n",
    "          \"query\": {\n",
    "            \"function_score\": {\n",
    "              \"functions\": [\n",
    "                {\n",
    "                  \"random_score\": {}\n",
    "                }\n",
    "              ]\n",
    "            }\n",
    "          }\n",
    "        }\n",
    "    else:\n",
    "        search_query = {\n",
    "            \"size\": 5,\n",
    "            \"query\": {\n",
    "                \"bool\": {\n",
    "                    \"must\": {\n",
    "                        \"multi_match\": {\n",
    "                            \"query\": query,\n",
    "                            \"fields\": [\"relief\", \"positive_effects\", \"flavours\"],\n",
    "                            \"type\": \"best_fields\"\n",
    "                        }\n",
    "                    },\n",
    "                    \"filter\": {  # TODO: add filter as parameter\n",
    "                        \"term\": {\n",
    "                            \"category\": \"flower\"\n",
    "                        }\n",
    "                    }\n",
    "                }\n",
    "            }\n",
    "        }\n",
    "    response = es_client.search(index=index_name, body=search_query)\n",
    "    \n",
    "    return response['hits']['hits'][:limit]\n",
    "\n",
    "def pretty(search_results):\n",
    "    result_docs = []\n",
    "\n",
    "    include_fields = ['title', 'tags', 'relief', 'positive_effects', 'flavours']\n",
    "    for hit in search_results:\n",
    "        result_docs.append({k: v for k, v in  hit['_source'].items() if k in include_fields})\n",
    "    return result_docs\n",
    "\n",
    "try:\n",
    "    query = 'Lemon, headache'\n",
    "    \n",
    "    res = elastic_search(es_client, query, random=True)\n",
    "    sample = res[0]['_source']\n",
    "    # print(sample.keys())\n",
    "    print()\n",
    "    print(pretty(res))\n",
    "except ConnectionError:\n",
    "    print('Elastic unreachable')"
   ]
  },
  {
   "cell_type": "markdown",
   "id": "45eeaeb9-78a2-40b3-92c0-2db808a0b3e3",
   "metadata": {},
   "source": [
    "# Hybrid search"
   ]
  },
  {
   "cell_type": "code",
   "execution_count": null,
   "id": "d7937c12-8df3-46fc-9458-103c1640ff7c",
   "metadata": {},
   "outputs": [],
   "source": [
    "import requests\n",
    "\n",
    "def get_embed(query):\n",
    "    url = \"http://localhost:8000/embed\"\n",
    "    data = {\"text\": query}\n",
    "    response = requests.post(url, json=data)\n",
    "    if response.status_code == 200:\n",
    "        res = np.array(json.loads(response.json()['embed']))\n",
    "    else:\n",
    "        print(\"Error:\", response.status_code, response.text)\n",
    "        raise RuntimeError\n",
    "    return res\n",
    "\n",
    "def elastic_hybrid_search(es_client, query, limit=3, filter=None, random=False):\n",
    "    index_name = 'greenbro-content'\n",
    "    vector_search_term = get_embed(query)\n",
    "    knn_query = {\n",
    "        \"field\": \"text_vector\",\n",
    "        \"query_vector\": vector_search_term,\n",
    "        \"k\": 5,\n",
    "        \"num_candidates\": 100\n",
    "    }\n",
    "    \n",
    "    response = es_client.search(\n",
    "        index=index_name,\n",
    "        query={\n",
    "                \"bool\": {\n",
    "                    \"must\": {\n",
    "                        \"multi_match\": {\n",
    "                            \"query\": query,\n",
    "                            \"fields\": [\"relief\", \"positive_effects\", \"flavours\"],\n",
    "                            \"type\": \"best_fields\"\n",
    "                        }\n",
    "                    },\n",
    "                    \"filter\": {  # TODO: add filter as parameter\n",
    "                        \"term\": {\n",
    "                            \"category\": \"flower\"\n",
    "                        }\n",
    "                    }\n",
    "                }\n",
    "        },\n",
    "        knn=knn_query,\n",
    "        size=5\n",
    "    )\n",
    "    return response['hits']['hits'][:limit]\n",
    "\n",
    "\n",
    "try:\n",
    "    query = 'Lemon, headache'\n",
    "    \n",
    "    res = elastic_hybrid_search(es_client, query, random=True)\n",
    "    sample = res[0]['_source']\n",
    "    #print(sample.keys())\n",
    "    #print()\n",
    "    print(pretty(res))\n",
    "except ConnectionError:\n",
    "    print('Elastic unreachable')"
   ]
  },
  {
   "cell_type": "code",
   "execution_count": 251,
   "id": "de925bc5-08a2-4866-a1b5-78b587c572ee",
   "metadata": {},
   "outputs": [
    {
     "data": {
      "text/plain": [
       "[{'score': 0.7898849, 'res': 'lemon-tree'},\n",
       " {'score': 0.77863276, 'res': 'golden-lemons'},\n",
       " {'score': 0.7349596, 'res': 'lemonhead'}]"
      ]
     },
     "execution_count": 251,
     "metadata": {},
     "output_type": "execute_result"
    }
   ],
   "source": [
    "[{'score': i['_score'], 'res': i['_source']['item_name']} for i in res]"
   ]
  },
  {
   "cell_type": "code",
   "execution_count": null,
   "id": "25d6f447-dbbc-4828-aae2-c451f0a9bfc7",
   "metadata": {},
   "outputs": [],
   "source": [
    "\n",
    "\n",
    "[{'score': scores[i], 'doc': self.documents[i]} for i in idx]"
   ]
  },
  {
   "cell_type": "markdown",
   "id": "be54736a-14d1-4cc3-8c0e-558d30fff2cb",
   "metadata": {},
   "source": [
    "# Prepare data"
   ]
  },
  {
   "cell_type": "code",
   "execution_count": 211,
   "id": "61b88907-f541-40ea-88e1-8aad924028f2",
   "metadata": {},
   "outputs": [
    {
     "name": "stdout",
     "output_type": "stream",
     "text": [
      "['content_queries.json', 'golden_dataset.json', 'content_reviews_green_bro.json', 'models', 'api_db.csv', 'content_green_bro.csv', 'content_db_df.csv', 'ground_truth.json']\n"
     ]
    }
   ],
   "source": [
    "import os\n",
    "import pandas as pd\n",
    "\n",
    "current_file_dir = os.getcwd()\n",
    "root_data_dir = os.path.join(os.path.dirname(current_file_dir), 'data')\n",
    "app_files_dir = os.path.join(root_data_dir, 'pipelines-data')\n",
    "\n",
    "print(os.listdir(app_files_dir))\n",
    "\n",
    "res_csv_path = os.path.join(app_files_dir, 'content_green_bro.csv')\n",
    "\n",
    "content_db = pd.read_csv(res_csv_path)"
   ]
  },
  {
   "cell_type": "code",
   "execution_count": 4,
   "id": "67886ca9-0dda-4c17-8e7f-70719505bbcf",
   "metadata": {},
   "outputs": [
    {
     "data": {
      "text/html": [
       "<div>\n",
       "<style scoped>\n",
       "    .dataframe tbody tr th:only-of-type {\n",
       "        vertical-align: middle;\n",
       "    }\n",
       "\n",
       "    .dataframe tbody tr th {\n",
       "        vertical-align: top;\n",
       "    }\n",
       "\n",
       "    .dataframe thead th {\n",
       "        text-align: right;\n",
       "    }\n",
       "</style>\n",
       "<table border=\"1\" class=\"dataframe\">\n",
       "  <thead>\n",
       "    <tr style=\"text-align: right;\">\n",
       "      <th></th>\n",
       "      <th>title</th>\n",
       "      <th>item_name</th>\n",
       "      <th>tags</th>\n",
       "      <th>relief</th>\n",
       "      <th>positive_effects</th>\n",
       "      <th>flavours</th>\n",
       "      <th>avg_rating</th>\n",
       "      <th>num_ratings</th>\n",
       "    </tr>\n",
       "  </thead>\n",
       "  <tbody>\n",
       "    <tr>\n",
       "      <th>0</th>\n",
       "      <td>Casey Jones</td>\n",
       "      <td>casey-jones</td>\n",
       "      <td>Sativa Dominant|80% Sativa/20% Indica</td>\n",
       "      <td>add/adhd arthritis bipolar disorder chronic pa...</td>\n",
       "      <td>creative euphoria focus happy</td>\n",
       "      <td>citrus fruity lemon sweet</td>\n",
       "      <td>4.6</td>\n",
       "      <td>38</td>\n",
       "    </tr>\n",
       "    <tr>\n",
       "      <th>1</th>\n",
       "      <td>Gorilla Glue #4</td>\n",
       "      <td>gorilla-glue-4</td>\n",
       "      <td>Indica Dominant|60% Indica/40% Sativa</td>\n",
       "      <td>add/adhd bipolar disorder chronic pain depress...</td>\n",
       "      <td>body high euphoria happy uplifting</td>\n",
       "      <td>chemical chocolate coffee diesel pine sweet</td>\n",
       "      <td>4.6</td>\n",
       "      <td>339</td>\n",
       "    </tr>\n",
       "    <tr>\n",
       "      <th>2</th>\n",
       "      <td>Cherry Pie</td>\n",
       "      <td>cherry-pie</td>\n",
       "      <td>Indica Dominant|80% Indica/20% Sativa</td>\n",
       "      <td>add/adhd anxiety bipolar disorder chronic pain...</td>\n",
       "      <td>creative euphoria happy relaxing</td>\n",
       "      <td>berry cherry sweet</td>\n",
       "      <td>4.5</td>\n",
       "      <td>110</td>\n",
       "    </tr>\n",
       "    <tr>\n",
       "      <th>3</th>\n",
       "      <td>Amnesia Haze</td>\n",
       "      <td>amnesia-haze</td>\n",
       "      <td>Sativa Dominant|80% Sativa/20% Indica</td>\n",
       "      <td>add/adhd anxiety cancer chronic pain depressio...</td>\n",
       "      <td>creative euphoria giggly happy</td>\n",
       "      <td>citrus lemon sweet</td>\n",
       "      <td>4.5</td>\n",
       "      <td>55</td>\n",
       "    </tr>\n",
       "    <tr>\n",
       "      <th>4</th>\n",
       "      <td>Blueberry</td>\n",
       "      <td>blueberry</td>\n",
       "      <td>Indica Dominant|80% Indica/20% Sativa</td>\n",
       "      <td>add/adhd bipolar disorder depression insomnia ...</td>\n",
       "      <td>euphoria happy sleepy</td>\n",
       "      <td>berry blueberry sweet woody</td>\n",
       "      <td>4.5</td>\n",
       "      <td>95</td>\n",
       "    </tr>\n",
       "  </tbody>\n",
       "</table>\n",
       "</div>"
      ],
      "text/plain": [
       "             title       item_name                                   tags  \\\n",
       "0      Casey Jones     casey-jones  Sativa Dominant|80% Sativa/20% Indica   \n",
       "1  Gorilla Glue #4  gorilla-glue-4  Indica Dominant|60% Indica/40% Sativa   \n",
       "2       Cherry Pie      cherry-pie  Indica Dominant|80% Indica/20% Sativa   \n",
       "3     Amnesia Haze    amnesia-haze  Sativa Dominant|80% Sativa/20% Indica   \n",
       "4        Blueberry       blueberry  Indica Dominant|80% Indica/20% Sativa   \n",
       "\n",
       "                                              relief  \\\n",
       "0  add/adhd arthritis bipolar disorder chronic pa...   \n",
       "1  add/adhd bipolar disorder chronic pain depress...   \n",
       "2  add/adhd anxiety bipolar disorder chronic pain...   \n",
       "3  add/adhd anxiety cancer chronic pain depressio...   \n",
       "4  add/adhd bipolar disorder depression insomnia ...   \n",
       "\n",
       "                     positive_effects  \\\n",
       "0       creative euphoria focus happy   \n",
       "1  body high euphoria happy uplifting   \n",
       "2    creative euphoria happy relaxing   \n",
       "3      creative euphoria giggly happy   \n",
       "4               euphoria happy sleepy   \n",
       "\n",
       "                                      flavours  avg_rating  num_ratings  \n",
       "0                    citrus fruity lemon sweet         4.6           38  \n",
       "1  chemical chocolate coffee diesel pine sweet         4.6          339  \n",
       "2                           berry cherry sweet         4.5          110  \n",
       "3                           citrus lemon sweet         4.5           55  \n",
       "4                  berry blueberry sweet woody         4.5           95  "
      ]
     },
     "execution_count": 4,
     "metadata": {},
     "output_type": "execute_result"
    }
   ],
   "source": [
    "content_db.head()"
   ]
  },
  {
   "cell_type": "markdown",
   "id": "41761c67-e370-4ceb-be4e-7d7f151945d9",
   "metadata": {},
   "source": [
    "Data for service"
   ]
  },
  {
   "cell_type": "code",
   "execution_count": 189,
   "id": "c57b2e4c-effc-4d57-829f-4efade50d648",
   "metadata": {},
   "outputs": [],
   "source": [
    "def add_url(postfix):\n",
    "    url = os.path.join('https://www.allbud.com' + content_db_full.iloc[0]['link'])\n",
    "\n",
    "content_db_full = pd.read_csv(os.path.join(app_files_dir, 'content_db_df.csv'))\n",
    "content_db_full['url'] = content_db_full['link'].apply(lambda x: 'https://www.allbud.com' + x)\n",
    "content_db = content_db_full[['url', 'item_name']].merge(content_db, on='item_name')\n",
    "\n",
    "content_db.to_csv(os.path.join(app_files_dir, 'api_db.csv'), index=False)"
   ]
  },
  {
   "cell_type": "code",
   "execution_count": 192,
   "id": "449a4d04-6c93-4a09-869d-caba390373ee",
   "metadata": {},
   "outputs": [
    {
     "data": {
      "text/plain": [
       "[{'title': 'Cherry Pie',\n",
       "  'url': 'https://www.allbud.com/marijuana-strains/indica-dominant-hybrid/cherry-pie',\n",
       "  'explanation': 'Indica Dominant|80% Indica/20% Sativa: creative euphoria happy relaxing',\n",
       "  'flavours': 'berry cherry sweet'},\n",
       " {'title': 'Amnesia Haze',\n",
       "  'url': 'https://www.allbud.com/marijuana-strains/sativa-dominant-hybrid/amnesia-haze',\n",
       "  'explanation': 'Sativa Dominant|80% Sativa/20% Indica: creative euphoria giggly happy',\n",
       "  'flavours': 'citrus lemon sweet'},\n",
       " {'title': 'Blueberry',\n",
       "  'url': 'https://www.allbud.com/marijuana-strains/indica-dominant-hybrid/blueberry',\n",
       "  'explanation': 'Indica Dominant|80% Indica/20% Sativa: euphoria happy sleepy',\n",
       "  'flavours': 'berry blueberry sweet woody'}]"
      ]
     },
     "execution_count": 192,
     "metadata": {},
     "output_type": "execute_result"
    }
   ],
   "source": [
    "def get_candidates(content_names_list):\n",
    "    res = [\n",
    "        {\n",
    "            'title': row['title'], 'url': row['url'],\n",
    "            'explanation': f\"{row['tags']}: {row['positive_effects']}\",\n",
    "            'flavours': row['flavours']\n",
    "        }\n",
    "        for _, row in content_db[content_db['item_name'].isin(content_names_list)].iterrows()\n",
    "    ]\n",
    "    return res\n",
    "\n",
    "content_names_list = ['blueberry', 'amnesia-haze', 'cherry-pie']\n",
    "\n",
    "candidates = get_candidates(content_names_list)\n",
    "\n",
    "candidates"
   ]
  },
  {
   "cell_type": "code",
   "execution_count": 204,
   "id": "fe369570-2fe5-4342-bb62-9f8580c5c2be",
   "metadata": {},
   "outputs": [
    {
     "data": {
      "text/plain": [
       "['content_queries.json',\n",
       " 'golden_dataset.json',\n",
       " 'content_reviews_green_bro.json',\n",
       " 'models',\n",
       " 'api_db.csv',\n",
       " 'content_green_bro.csv',\n",
       " 'content_db_df.csv',\n",
       " 'ground_truth.json']"
      ]
     },
     "execution_count": 204,
     "metadata": {},
     "output_type": "execute_result"
    }
   ],
   "source": [
    "os.listdir(app_files_dir)"
   ]
  },
  {
   "cell_type": "code",
   "execution_count": 217,
   "id": "bdae7815-6dbd-4a82-a850-5b81673e7df0",
   "metadata": {},
   "outputs": [],
   "source": [
    "models_dir = os.path.join(root_data_dir, 'pipelines-data', 'models')\n",
    "index_file_path = os.path.join(models_dir, 'embeds_index.json')\n",
    "embeds_file_path = os.path.join(models_dir, 'embeds.npy')\n",
    "with open(index_file_path, 'r') as f:\n",
    "    index = json.load(f)\n",
    "embeds = np.load(embeds_file_path)\n",
    "db = {}\n",
    "for i, embed in enumerate(embeds):\n",
    "    db[index[i]] = embed\n",
    "print(db[index[-1]])"
   ]
  },
  {
   "cell_type": "code",
   "execution_count": null,
   "id": "3bb318a7-f6e3-406a-bd03-ce0a1b3b34b4",
   "metadata": {},
   "outputs": [],
   "source": []
  },
  {
   "cell_type": "code",
   "execution_count": 222,
   "id": "133efd3a-1b70-434a-ab84-c1a280a8b5c0",
   "metadata": {},
   "outputs": [
    {
     "name": "stdout",
     "output_type": "stream",
     "text": [
      "(291, 768) 291\n"
     ]
    },
    {
     "data": {
      "text/plain": [
       "array([-5.33402488e-02, -2.53355433e-03, -1.79935563e-02,  2.40045413e-03,\n",
       "       -4.25572619e-02, -8.71385168e-03, -9.93818138e-03,  8.05784483e-03,\n",
       "       -5.74091775e-03,  5.00891590e-03,  2.57909000e-02,  7.63625046e-03,\n",
       "        1.49131175e-02, -4.35241051e-02, -1.17070368e-02,  7.61299580e-02,\n",
       "       -3.06196371e-03, -4.62105833e-02, -1.85249913e-02, -2.00764723e-02,\n",
       "        1.99018642e-02, -8.84308144e-02, -2.91703530e-02,  2.55284514e-02,\n",
       "        4.42602485e-02,  1.84033383e-02, -5.77593828e-03,  7.00785443e-02,\n",
       "        1.14517554e-03, -1.12072555e-02,  6.31844252e-03,  2.07839869e-02,\n",
       "       -4.03095521e-02,  1.01793688e-02,  5.38197272e-02,  7.33531341e-02,\n",
       "       -8.60510096e-02, -1.05697447e-02,  3.05066071e-02,  7.39099644e-03,\n",
       "        4.25848477e-02,  7.95746222e-02, -4.07541841e-02,  4.91945706e-02,\n",
       "        2.70077903e-02,  2.77641565e-02, -3.21013085e-03,  5.45184454e-03,\n",
       "       -4.70143855e-02,  3.03664561e-02, -3.51948887e-02, -6.20803889e-03,\n",
       "        4.85178269e-02, -7.00637326e-02,  1.12291053e-02,  4.47293045e-03,\n",
       "        7.01860525e-03,  7.02754259e-02, -4.24337313e-02,  3.62466159e-03,\n",
       "       -5.86696491e-02, -1.32305166e-02, -3.83731946e-02, -4.66112932e-03,\n",
       "       -4.79033543e-03, -4.05619899e-03, -2.61524096e-02, -1.70541275e-02,\n",
       "       -6.14771359e-02,  2.30565891e-02, -1.15767606e-02, -9.12165176e-03,\n",
       "        7.19430298e-02,  1.72367413e-02, -1.73675083e-03,  1.19889993e-02,\n",
       "       -3.37127969e-02, -4.40400429e-02, -3.21904104e-03,  5.95392399e-02,\n",
       "       -1.96271371e-02,  3.25796753e-02, -3.71907093e-02, -2.82346830e-02,\n",
       "        8.41951463e-03,  3.38840596e-02,  5.02717271e-02,  7.38892257e-02,\n",
       "       -2.78513301e-02,  3.64015140e-02,  4.60345410e-02, -1.12348134e-02,\n",
       "        1.66397355e-02,  2.96922848e-02,  1.31019307e-02, -1.09362574e-02,\n",
       "       -6.75201183e-03,  2.68711522e-02, -1.23767350e-02, -2.81373076e-02,\n",
       "        5.55735733e-03, -2.91599892e-02, -7.27463216e-02, -5.10812327e-02,\n",
       "       -3.99830267e-02, -7.60369189e-03, -9.10895541e-02, -5.67984432e-02,\n",
       "       -6.21903352e-02, -7.74947321e-03, -5.98632693e-02,  4.95332703e-02,\n",
       "       -8.51795636e-03, -5.19752793e-04, -2.82971561e-03,  4.33144569e-02,\n",
       "       -5.20387013e-03,  3.00653614e-02, -5.43916821e-02,  4.49321941e-02,\n",
       "       -2.16875318e-02,  2.45370921e-02, -9.77665652e-03,  9.99946892e-02,\n",
       "        3.05424407e-02, -1.13820536e-02, -1.85304489e-02, -2.92749088e-02,\n",
       "        2.01605260e-02,  3.03976163e-02, -2.97669861e-02, -1.08958678e-02,\n",
       "        8.49700067e-03, -1.32162059e-02,  1.40003143e-02, -7.38183409e-02,\n",
       "       -1.63039714e-02,  5.02827540e-02,  1.01127680e-02, -6.10288884e-03,\n",
       "       -2.30852179e-02, -3.21142226e-02, -5.30766435e-02, -8.92264361e-04,\n",
       "        4.50368226e-02, -3.48677523e-02, -3.35204266e-02, -2.10850462e-02,\n",
       "        2.19965875e-02,  2.97893398e-03,  6.76741730e-03, -1.09322900e-02,\n",
       "       -1.54005671e-02,  1.43555049e-02,  1.25262430e-02,  4.55416143e-02,\n",
       "       -2.23597158e-02,  5.01150303e-02,  1.62742864e-02, -7.65689760e-02,\n",
       "       -7.88124930e-03, -5.29621243e-02,  7.98581820e-03, -1.18774213e-02,\n",
       "       -8.68742913e-03,  1.42994302e-03, -3.13693173e-02,  4.62942570e-02,\n",
       "       -2.06141714e-02, -1.42148463e-02,  5.28745688e-02, -5.19244820e-02,\n",
       "       -4.75723632e-02, -7.71296322e-02, -7.95464590e-03,  6.05760468e-03,\n",
       "       -2.31910963e-03,  1.46630686e-02,  1.20678004e-02,  4.16053832e-02,\n",
       "       -1.03891771e-02,  1.21997399e-02,  2.95560751e-02, -1.47469267e-02,\n",
       "        1.22388480e-02, -6.77512633e-03,  6.63141608e-02, -5.18648187e-03,\n",
       "        8.54996070e-02,  3.12294476e-02, -3.42102572e-02,  4.38040458e-02,\n",
       "        4.85166349e-02,  1.52389137e-02,  2.55092625e-02,  5.43809235e-02,\n",
       "        4.50013243e-02, -2.97944117e-02, -1.00426348e-02, -6.49298579e-02,\n",
       "        1.70780811e-02,  3.34284306e-02, -2.36999802e-02, -4.66063209e-02,\n",
       "       -3.56971822e-03, -5.64678479e-03,  5.70880342e-03, -5.20186536e-02,\n",
       "       -4.59354818e-02,  1.75441820e-02,  3.53666209e-02, -1.65151544e-02,\n",
       "        6.87118899e-03, -2.47850679e-02,  8.79970472e-03,  1.85499601e-02,\n",
       "        5.50475009e-02,  5.07079959e-02, -4.30526324e-02, -9.56972875e-03,\n",
       "        4.09987086e-04,  2.84355413e-02, -6.47875248e-03,  5.02648354e-02,\n",
       "       -2.52880491e-02,  6.89847320e-02, -1.55471666e-02, -3.72571498e-02,\n",
       "        2.11865082e-02,  1.47120655e-02,  2.40194127e-02,  1.48876663e-03,\n",
       "        7.59555213e-03, -2.01334488e-02, -9.26387031e-03,  4.12864648e-02,\n",
       "        6.11514645e-03, -3.08065973e-02,  6.75577074e-02, -3.35949920e-02,\n",
       "       -1.33301346e-02, -5.23562171e-02, -3.34079284e-03,  6.23013219e-03,\n",
       "       -1.61389504e-02,  1.08568196e-03, -8.20296444e-03,  2.47970782e-03,\n",
       "       -2.98416503e-02,  1.25663448e-02,  2.04275697e-02,  4.97765690e-02,\n",
       "       -3.02154478e-03,  9.76886675e-02,  4.26006205e-02, -2.75085717e-02,\n",
       "       -2.13459656e-02, -3.04084476e-02, -1.68470871e-02, -7.55324587e-03,\n",
       "        2.06561829e-03,  3.54687613e-03,  3.52988043e-03, -3.04026417e-02,\n",
       "        4.23365505e-03, -2.54385155e-02, -7.72184087e-03,  6.58220961e-05,\n",
       "        3.04222442e-02, -1.78530160e-02, -2.87291431e-03,  2.95494404e-02,\n",
       "       -1.17400112e-02, -3.70280258e-02, -6.25616014e-02, -4.52953912e-02,\n",
       "       -2.14750376e-02,  4.74152947e-03, -1.14178425e-02, -3.20140319e-03,\n",
       "       -1.22059777e-03,  4.19839211e-02,  4.75073792e-02,  2.46653762e-02,\n",
       "        1.99791398e-02, -3.40243708e-03,  2.58793472e-03, -3.07818246e-03,\n",
       "       -5.14779531e-04,  3.77429230e-03,  2.62141433e-02,  2.65222620e-02,\n",
       "       -4.56772260e-02,  1.88946221e-02, -8.31023697e-03, -3.76593173e-02,\n",
       "        3.41612250e-02,  3.53408754e-02, -3.96293513e-02, -1.01052644e-02,\n",
       "        4.13761623e-02, -1.69812478e-02,  3.80155407e-02,  3.86749092e-03,\n",
       "        2.43575382e-03,  2.00759303e-02, -3.84478606e-02, -3.15515734e-02,\n",
       "       -4.20302488e-02, -1.35128526e-02, -2.15527155e-02,  6.13561273e-03,\n",
       "       -3.06928926e-03, -1.12227979e-03, -3.22368853e-02, -2.51412820e-02,\n",
       "       -7.02551231e-02, -2.64189150e-02, -4.18813713e-02,  6.80396147e-03,\n",
       "        1.60070397e-02, -7.39335716e-02, -2.11168174e-02,  6.99609518e-02,\n",
       "       -2.44123060e-02,  5.13990410e-02, -2.12965515e-02,  1.65249798e-02,\n",
       "        6.07241094e-02,  2.95016039e-02,  7.77626294e-04,  9.62792803e-03,\n",
       "       -2.99541489e-03,  9.62892640e-03, -2.85389107e-02, -2.58674324e-02,\n",
       "       -3.26308496e-02, -7.25107267e-03,  2.62297131e-02,  1.46993119e-02,\n",
       "       -2.59796623e-02,  3.66284512e-02,  2.04641409e-02, -1.34208100e-02,\n",
       "        8.01560096e-03, -3.17464992e-02, -2.00420022e-02,  7.67361955e-04,\n",
       "        2.14316286e-02,  1.87971350e-02,  5.95592475e-03,  8.22938606e-02,\n",
       "        5.80651499e-02,  3.53056565e-02,  4.65831608e-02, -2.52650622e-02,\n",
       "        1.02334311e-02,  7.83107057e-03, -2.39984803e-02, -1.37065956e-02,\n",
       "       -7.64730349e-02,  1.84712410e-02,  1.17333792e-02,  3.85168567e-02,\n",
       "        1.59248952e-02,  7.04417413e-04, -6.78728819e-02,  5.68221472e-02,\n",
       "       -4.78113927e-02,  5.17349690e-02,  2.26159929e-04, -3.08735017e-02,\n",
       "       -8.74738321e-02,  4.09436114e-02, -1.40602551e-02, -5.87575659e-02,\n",
       "        4.95652147e-02, -2.76353583e-02,  2.26526372e-02,  3.87859121e-02,\n",
       "        1.68518145e-02, -1.86616462e-02,  7.74664525e-03,  1.85526181e-02,\n",
       "       -6.73998594e-02,  4.76748273e-02,  9.62629262e-03,  6.39827922e-02,\n",
       "       -2.12690663e-02, -7.07428157e-02,  2.51332540e-02,  5.97739825e-03,\n",
       "       -3.31516527e-02,  1.99704599e-02, -1.15144607e-02,  3.00744316e-03,\n",
       "       -4.22151648e-02,  6.95699602e-02, -1.92797184e-02,  1.23991864e-02,\n",
       "       -1.89355370e-02, -5.12018939e-03, -1.06210923e-02,  1.80547778e-02,\n",
       "        3.07375174e-02,  2.76827142e-02, -4.15108092e-02, -4.54015918e-02,\n",
       "        1.87349431e-02,  4.52176556e-02, -9.08483984e-04, -6.76666433e-03,\n",
       "       -2.31868383e-02,  2.50313729e-02, -3.61998740e-04, -6.77178567e-03,\n",
       "        8.91210586e-02,  2.96972482e-03, -1.80298276e-03,  3.34326997e-02,\n",
       "        5.48136160e-02,  5.22127487e-02,  1.43310719e-03, -3.21494862e-02,\n",
       "       -7.85703212e-02,  2.00339798e-02,  6.89842552e-02, -1.04160838e-01,\n",
       "        4.62997071e-02,  3.09017338e-02,  3.62171568e-02,  3.21744359e-03,\n",
       "       -2.35504676e-02,  4.96013314e-02,  9.91361885e-05, -5.27299419e-02,\n",
       "       -1.93264447e-02,  3.64027955e-02, -2.27746759e-02, -3.49087571e-03,\n",
       "       -6.07869290e-02, -1.74517948e-02, -5.36165349e-02,  3.58796455e-02,\n",
       "       -8.70068744e-02, -3.49563593e-03,  9.40752588e-03, -6.58885464e-02,\n",
       "        1.61821470e-02,  2.92544607e-02,  2.86905747e-03, -3.72099578e-02,\n",
       "        2.83269025e-03, -7.95691554e-03, -2.80401986e-02, -3.57206985e-02,\n",
       "        7.36198248e-03, -1.78778470e-02,  4.78080921e-02,  4.43799235e-02,\n",
       "       -4.67157513e-02, -2.95067783e-02, -3.70937213e-02,  5.82630411e-02,\n",
       "       -2.20956057e-02,  6.22684993e-02,  2.17262078e-02, -2.72396039e-02,\n",
       "        2.91206762e-02,  2.22784318e-02,  3.19866762e-02, -3.32875401e-02,\n",
       "       -3.29574570e-02, -5.33937216e-02,  2.00008377e-02, -1.92585896e-04,\n",
       "       -4.37468626e-02,  9.77614988e-03,  8.76330305e-03, -1.14300922e-02,\n",
       "       -3.67859714e-02, -2.60662995e-02, -5.25616715e-03,  4.07002531e-02,\n",
       "       -1.68539956e-02,  2.90698297e-02, -8.87467060e-03,  9.91391912e-02,\n",
       "        2.15882808e-02, -5.41550033e-02,  6.92865029e-02, -1.01639414e-02,\n",
       "        2.33930890e-02, -7.87491351e-02,  2.42353361e-02, -2.32182331e-02,\n",
       "        1.72212091e-03,  9.06800851e-03,  6.10985532e-02,  1.37080168e-02,\n",
       "        1.19811147e-02,  2.31400598e-02,  8.00749939e-03, -6.86024874e-02,\n",
       "       -9.00958572e-03, -5.44317476e-02,  7.86103681e-03, -5.49817905e-02,\n",
       "       -4.87036854e-02,  1.17744185e-01, -1.91388291e-03,  1.50805218e-02,\n",
       "       -9.33830533e-03,  4.82910015e-02, -6.24540560e-02, -1.64649915e-02,\n",
       "        1.23958243e-03, -3.41750346e-02,  4.22087647e-02, -2.41478626e-02,\n",
       "       -4.20280844e-02, -5.36246737e-03,  8.00578948e-03,  4.81312573e-02,\n",
       "        4.63744742e-04, -1.49509367e-02, -4.27910462e-02, -3.62257026e-02,\n",
       "        1.50248148e-02, -7.46435970e-02,  4.07093577e-03,  1.62177570e-02,\n",
       "        1.34215187e-02,  4.89091948e-02, -3.12044518e-03, -2.48936377e-02,\n",
       "       -3.23324911e-02,  5.88434376e-02, -3.30436938e-02,  2.14589736e-03,\n",
       "        2.99089146e-03,  2.98772287e-02, -3.78811136e-02,  5.91709241e-02,\n",
       "        9.75267030e-03, -1.92893893e-02,  3.94013561e-02, -1.48594305e-02,\n",
       "        5.24153896e-02,  2.97176279e-02, -4.47527729e-02,  1.77809410e-02,\n",
       "       -1.34314243e-02,  8.37375969e-03,  2.69180909e-02, -1.35803502e-02,\n",
       "       -4.19391021e-02,  3.35415290e-03, -2.78211758e-02, -2.22380720e-02,\n",
       "       -5.87832741e-03, -1.08048795e-02,  3.47601660e-02, -1.42519027e-02,\n",
       "       -5.73600736e-03,  3.78025286e-02, -4.43182290e-02, -5.80033958e-02,\n",
       "        4.66439920e-03,  7.44908229e-02,  1.27706269e-03,  9.32039544e-02,\n",
       "        4.10622545e-02, -1.00304978e-02,  1.01379184e-02, -3.29072587e-02,\n",
       "        9.77599900e-03, -5.95115172e-03,  1.56068774e-02,  5.21570956e-03,\n",
       "        1.48268398e-02,  2.25848276e-02, -2.72598621e-02,  3.09301652e-02,\n",
       "       -5.80017921e-03,  3.41145918e-02,  4.04454879e-02, -5.03876284e-02,\n",
       "        2.18970515e-02,  3.58244814e-02, -3.22794206e-02, -3.32884341e-02,\n",
       "        3.87510024e-02, -1.20517714e-02, -3.88484783e-02,  9.92313959e-03,\n",
       "       -2.74407361e-02, -2.33534258e-02,  4.07473966e-02, -8.50489270e-03,\n",
       "        1.46699436e-02, -8.19865800e-03,  2.06857789e-02, -9.34180804e-03,\n",
       "       -3.89719829e-02, -3.18207331e-02,  3.46842185e-02, -4.15681116e-02,\n",
       "       -8.85720085e-03,  5.72038926e-02,  7.28102326e-02,  1.63594831e-03,\n",
       "       -2.09743306e-02, -9.83403716e-03,  2.37974264e-02, -2.70624161e-02,\n",
       "        4.09837365e-02, -6.27580583e-02, -1.49593214e-02,  2.91344970e-02,\n",
       "        8.16660840e-03,  1.51797161e-02, -1.63962729e-02, -3.22692725e-03,\n",
       "       -1.19748311e-02,  5.65826483e-02,  6.40601069e-02,  1.94252785e-02,\n",
       "        7.77857900e-02,  2.89403979e-04,  4.00902182e-02, -6.10940568e-02,\n",
       "        3.18181589e-02,  2.55252887e-02, -4.10611555e-02, -4.10851911e-02,\n",
       "       -8.92029796e-03,  6.06675334e-02,  2.49240138e-02,  1.01586375e-02,\n",
       "        4.68452163e-02,  6.69417381e-02,  6.28974587e-02, -4.02092189e-03,\n",
       "       -1.88083258e-02,  4.11879085e-02,  1.30469967e-02,  1.86965335e-02,\n",
       "        1.77532583e-02, -3.19079161e-02, -3.87992114e-02,  1.06657058e-01,\n",
       "        4.02289368e-02, -1.74254701e-02,  3.67167704e-02, -7.53064733e-03,\n",
       "        4.88774218e-02, -4.72194422e-03,  1.63067970e-02,  6.77900109e-03,\n",
       "        5.72493440e-03,  6.35237619e-02, -2.12372392e-02,  1.98798981e-02,\n",
       "        5.08342795e-02,  3.16157751e-02, -4.24878486e-02,  1.84865277e-02,\n",
       "        2.80441809e-02, -5.03840260e-02, -6.09506331e-02,  2.38567106e-02,\n",
       "        1.59139745e-02,  3.73040102e-02, -2.34592929e-02,  3.94221880e-02,\n",
       "       -2.93469001e-02,  8.27973410e-02, -4.71589044e-02, -2.29925103e-02,\n",
       "       -1.99373439e-02,  3.18094231e-02, -1.42867118e-02, -1.51874749e-02,\n",
       "       -7.47107193e-02, -2.24660020e-02, -1.63190011e-02,  2.43648291e-02,\n",
       "       -1.35335210e-03,  2.25152187e-02, -1.31461192e-02,  2.95165833e-02,\n",
       "        2.34012790e-02,  3.61558758e-02, -6.18984066e-02, -3.59504335e-02,\n",
       "        1.11315418e-02,  2.42801737e-02,  8.90538562e-04,  2.75100935e-02,\n",
       "       -2.66778022e-02, -3.52619998e-02,  6.80976436e-02,  2.52646562e-02,\n",
       "        4.62817028e-02,  3.97233665e-02, -6.00066148e-02,  4.53615785e-02,\n",
       "       -4.00045067e-02,  2.88033281e-02,  7.22531928e-03,  4.15231287e-02,\n",
       "       -4.93799197e-03, -2.04501711e-02, -7.40863085e-02, -2.64517078e-03,\n",
       "        1.07999740e-03,  2.36606151e-02, -1.50418347e-02,  7.68475458e-02,\n",
       "       -2.45877393e-02,  6.15272624e-03, -5.13863675e-02,  1.74765829e-02,\n",
       "       -4.49832482e-03, -3.54205593e-02, -1.75688472e-02, -4.12539728e-02,\n",
       "        1.47232674e-02,  2.48282421e-02, -7.77448155e-03,  9.20990258e-02,\n",
       "        3.04604284e-02, -1.46511523e-02,  2.37336010e-02,  1.12647028e-03,\n",
       "       -2.39824131e-02,  2.31313519e-02,  3.67552154e-02,  8.07830617e-02,\n",
       "       -1.79115534e-02, -6.93686083e-02, -4.15345430e-02, -1.50600607e-02,\n",
       "        1.17345748e-03, -6.09683804e-03, -9.89692882e-02,  4.49013785e-02,\n",
       "       -2.55175103e-02, -3.98318358e-02,  3.08682658e-02, -3.98486964e-02,\n",
       "       -2.77698180e-03, -4.47886586e-02,  5.86302280e-02, -7.37815276e-02,\n",
       "        4.78184829e-03, -5.95950447e-02,  1.66958645e-02, -7.47871399e-03,\n",
       "       -1.69185642e-03, -3.01825255e-02,  6.70361146e-02,  3.05088013e-02,\n",
       "       -3.81926745e-02,  2.23704590e-03, -2.14194581e-02,  1.37452558e-02],\n",
       "      dtype=float32)"
      ]
     },
     "execution_count": 222,
     "metadata": {},
     "output_type": "execute_result"
    }
   ],
   "source": [
    "class VectorDB:\n",
    "    def __init__(self, index, embeddings):\n",
    "        self.db = {}\n",
    "        for i, embed in enumerate(embeddings):\n",
    "            self.db[index[i]] = embed\n",
    "\n",
    "    def get_item_vector(self, item_name):\n",
    "        return self.db[item_name]\n",
    "\n",
    "\n",
    "def get_vector_db(root_dir):\n",
    "    models_dir = os.path.join(root_data_dir, 'pipelines-data', 'models')\n",
    "    index_file_path = os.path.join(models_dir, 'embeds_index.json')\n",
    "    embeds_file_path = os.path.join(models_dir, 'embeds.npy')\n",
    "    with open(index_file_path, 'r') as f:\n",
    "        index = json.load(f)\n",
    "    embeds = np.load(embeds_file_path)\n",
    "    print(embeds.shape, len(index))\n",
    "    vector_db = VectorDB(index=index, embeddings=embeds)\n",
    "    return vector_db\n",
    "\n",
    "vector_db = get_vector_db(current_file_dir)\n",
    "vector_db.get_item_vector('gorilla-glue-4')"
   ]
  },
  {
   "cell_type": "code",
   "execution_count": 221,
   "id": "b57a1917-d873-423e-8067-a95d9de45c84",
   "metadata": {},
   "outputs": [
    {
     "data": {
      "text/plain": [
       "{}"
      ]
     },
     "execution_count": 221,
     "metadata": {},
     "output_type": "execute_result"
    }
   ],
   "source": [
    "vector_db.db"
   ]
  },
  {
   "cell_type": "code",
   "execution_count": 209,
   "id": "362dbd79-e77c-4157-a1ba-be92ba22f2ef",
   "metadata": {},
   "outputs": [
    {
     "ename": "FileNotFoundError",
     "evalue": "[Errno 2] No such file or directory: '/Users/username/PycharmProjects/leaf-bro/jupyter_notebooks/data/pipelines-data/models'",
     "output_type": "error",
     "traceback": [
      "\u001b[0;31m---------------------------------------------------------------------------\u001b[0m",
      "\u001b[0;31mFileNotFoundError\u001b[0m                         Traceback (most recent call last)",
      "Cell \u001b[0;32mIn[209], line 1\u001b[0m\n\u001b[0;32m----> 1\u001b[0m \u001b[43mos\u001b[49m\u001b[38;5;241;43m.\u001b[39;49m\u001b[43mlistdir\u001b[49m\u001b[43m(\u001b[49m\u001b[38;5;124;43m'\u001b[39;49m\u001b[38;5;124;43m/Users/username/PycharmProjects/leaf-bro/jupyter_notebooks/data/pipelines-data/models\u001b[39;49m\u001b[38;5;124;43m'\u001b[39;49m\u001b[43m)\u001b[49m\n",
      "\u001b[0;31mFileNotFoundError\u001b[0m: [Errno 2] No such file or directory: '/Users/username/PycharmProjects/leaf-bro/jupyter_notebooks/data/pipelines-data/models'"
     ]
    }
   ],
   "source": [
    "os.listdir('/Users/username/PycharmProjects/leaf-bro/jupyter_notebooks/data/pipelines-data/models')"
   ]
  },
  {
   "cell_type": "code",
   "execution_count": 201,
   "id": "a2fb4a73-4fe1-4baa-b57c-f1167c1481c4",
   "metadata": {},
   "outputs": [
    {
     "name": "stdout",
     "output_type": "stream",
     "text": [
      "connecting OpenAI...\n",
      "Blueberry, Amnesia Haze\n"
     ]
    }
   ],
   "source": [
    "import json\n",
    "import datetime\n",
    "import hashlib\n",
    "import random\n",
    "\n",
    "import numpy as np\n",
    "import backoff\n",
    "import openai\n",
    "from openai import OpenAI\n",
    "\n",
    "\n",
    "client = OpenAI(\n",
    "    api_key=os.environ[\"OPENAI_API_KEY\"]\n",
    ")\n",
    "\n",
    "\n",
    "@backoff.on_exception(backoff.expo, openai.APIError)\n",
    "@backoff.on_exception(backoff.expo, openai.RateLimitError)\n",
    "@backoff.on_exception(backoff.expo,openai.Timeout)\n",
    "@backoff.on_exception(backoff.expo, RuntimeError)\n",
    "def gpt_query(gpt_params, verbose: bool = False, avoid_fuckup: bool = False) -> dict:\n",
    "    print('connecting OpenAI...')\n",
    "    if verbose:\n",
    "        print(gpt_params[\"messages\"][1][\"content\"])\n",
    "    response = client.chat.completions.create(\n",
    "        **gpt_params\n",
    "    )\n",
    "    gpt_response = response.choices[0].message.content\n",
    "    if avoid_fuckup:\n",
    "        if '[' in gpt_response or '?' in gpt_response or '{' in gpt_response:\n",
    "            raise RuntimeError\n",
    "    res = {'recs': gpt_response}\n",
    "    res.update({'prompt_tokens': response.usage.completion_tokens, 'prompt_tokens': response.usage.prompt_tokens, 'total_tokens': response.usage.total_tokens})\n",
    "    seed_phrase = f'{str(datetime.datetime.now().timestamp())}{gpt_response}'\n",
    "    generation_id = str(hashlib.md5(seed_phrase.encode('utf-8')).hexdigest())[:12]\n",
    "    res.update({'id': generation_id})\n",
    "    return res\n",
    "\n",
    "def random_shuffle(input_list):\n",
    "    \"\"\"\n",
    "    my_list = ['apple', 'banana', 'cherry', 'date', 'fig']\n",
    "    random_shuffle(my_list)\n",
    "    \"\"\"\n",
    "    res = random.shuffle(input_list)\n",
    "    return ', '.join(input_list)\n",
    "\n",
    "def promt_generation(candidates):\n",
    "  # TODO: use jinja2\n",
    "  flavours_list = ['sweet', 'citrus', 'fruity', 'spicy', 'berry', 'pine', 'herbal', 'sour', 'lemon', 'woody', 'grape', 'tropical', 'diesel', 'skunky', 'nutty', 'blueberry', 'vanilla', 'creamy', 'candy', 'cherry']\n",
    "  reliefs_list = ['depression', 'chronic pain', 'stress', 'insomnia', 'anxiety', 'fatigue', 'nausea', 'migraines', 'muscle spasms', 'headaches', 'ptsd', 'loss of appetite', 'add/adhd', 'inflammation', 'arthritis', 'bipolar disorder', 'cramps', 'pms', 'fibromyalgia', 'gastrointestinal disorder']\n",
    "  promt = f\"\"\"\n",
    "      generate 5 search query based on strain description below. All queries should be 3-5 words long. Do not include strain name.\n",
    "      Do not add word \"strain\".\n",
    "      Base query on flavours (not connstrained with this list): {random_shuffle(flavours_list)}\n",
    "      reliefs: {random_shuffle(reliefs_list)}\n",
    "      effects (body and mind)\n",
    "      {candidates}\n",
    "      Queries:\n",
    "  \"\"\"\n",
    "  return promt\n",
    "\n",
    "def promt_generation_2(candidates, query):\n",
    "  promt = f\"\"\"\n",
    "      Below you can find items with description in format `title: description`\n",
    "      {candidates}\n",
    "      Rerank items and return reranked item ids base on user query. Return only reranked items, comma-separate\n",
    "      Do not add any explanation, just result\n",
    "      User query: {query}\n",
    "      expected result: [title, title, title]\n",
    "      reranked:\n",
    "  \"\"\"\n",
    "  return promt\n",
    "\n",
    "def generate(gpt_prompt, verbose=False):\n",
    "    gpt_params = {\n",
    "        'model': 'gpt-3.5-turbo',\n",
    "        'max_tokens': 500,\n",
    "        'temperature': 0.7,\n",
    "        'top_p': 0.5,\n",
    "        'frequency_penalty': 0.5,\n",
    "    }\n",
    "    # gpt_promt = promt_generation(gen_candadates(db, ids))\n",
    "    if verbose:\n",
    "        print(gpt_promt)\n",
    "    messages = [\n",
    "        {\n",
    "          \"role\": \"system\",\n",
    "          \"content\": \"You are a helpful assistant for medicine shopping\",\n",
    "        },\n",
    "        {\n",
    "          \"role\": \"user\",\n",
    "          \"content\": gpt_prompt,\n",
    "        },\n",
    "    ]\n",
    "    gpt_params.update({'messages': messages})\n",
    "    res = gpt_query(gpt_params, verbose=False)\n",
    "    return res\n",
    "\n",
    "\n",
    "def load_reviews(reviews_file_path):\n",
    "    with open(reviews_file_path, 'r') as f:\n",
    "        reviews_dict = json.load(f)\n",
    "    return reviews_dict\n",
    "\n",
    "def get_item_reviews(item_name, reviews_dict):\n",
    "    reviews = [i['review'].replace('\\n', ' ') for i in reviews_dict if i['item_name'] == item_name]\n",
    "    return reviews\n",
    "\n",
    "def aggregate_reviews(content_df, reviews_dict):\n",
    "    res = {}\n",
    "    for name in content_df['item_name'].unique():\n",
    "      res[name] = {'reviews': ''.join(get_item_reviews(name, reviews_dict))}\n",
    "    return res\n",
    "\n",
    "def test_generation(reviews_agregated, random_strain):\n",
    "    prompt = promt_generation(reviews_agregated[random_strain]['reviews'])\n",
    "    generated_result = generate(prompt)\n",
    "    print(generated_result['recs'])\n",
    "    print()\n",
    "    reviews_agregated[random_strain]['reviews']\n",
    "\n",
    "def test_reranking(candidates, query):\n",
    "    [f\"{i['title']}: {i['explanation']}, {i['flavours']}\" for i in candidates]\n",
    "    prompt = promt_generation_2(candidates, query)\n",
    "    generated_result = generate(prompt)\n",
    "    print(generated_result['recs'])\n",
    "\n",
    "# reviews_dict = load_reviews(os.path.join(app_files_dir, 'content_reviews_green_bro.json'))\n",
    "# reviews_agregated = aggregate_reviews(content_db, reviews_dict)\n",
    "# # print(reviews_agregated['fire-og']['reviews'])\n",
    "\n",
    "# random_strain = np.random.choice(list(reviews_agregated.keys()))\n",
    "# test_generation(reviews_agregated, random_strain)\n",
    "\n",
    "test_reranking(candidates, 'avoid cherry')"
   ]
  },
  {
   "cell_type": "code",
   "execution_count": 203,
   "id": "d0c17d6d-d878-44b0-8a81-eb38cc213485",
   "metadata": {},
   "outputs": [
    {
     "ename": "IndexError",
     "evalue": "list index out of range",
     "output_type": "error",
     "traceback": [
      "\u001b[0;31m---------------------------------------------------------------------------\u001b[0m",
      "\u001b[0;31mIndexError\u001b[0m                                Traceback (most recent call last)",
      "Cell \u001b[0;32mIn[203], line 2\u001b[0m\n\u001b[1;32m      1\u001b[0m a \u001b[38;5;241m=\u001b[39m []\n\u001b[0;32m----> 2\u001b[0m \u001b[43ma\u001b[49m\u001b[43m[\u001b[49m\u001b[38;5;241;43m0\u001b[39;49m\u001b[43m]\u001b[49m\n",
      "\u001b[0;31mIndexError\u001b[0m: list index out of range"
     ]
    }
   ],
   "source": [
    "a = []\n",
    "a[0]"
   ]
  },
  {
   "cell_type": "markdown",
   "id": "9fec00f7-227b-4431-8b14-b446faf7a0aa",
   "metadata": {},
   "source": [
    "Search index"
   ]
  },
  {
   "cell_type": "code",
   "execution_count": 71,
   "id": "1a150c85-1a71-4181-89ea-99b34a3f9843",
   "metadata": {},
   "outputs": [
    {
     "name": "stdout",
     "output_type": "stream",
     "text": [
      "casey-jones\n"
     ]
    },
    {
     "data": {
      "text/plain": [
       "{'reviews': \" First off, an elevation of my mood, a little bit of rejuvenation to my body, and even my thoughts, I noticed quickly while smoking CJ. I was feeling a little sluggish before I smoked this strain. No more. The taste has some earthiness to it, but mostly that sweet citrus taste. If you're fond of sativas I would recommend trying CJ. Smoke this pot.  I got an eighth of Casey Jones and it kicks some serious backside. I felt very refreshed taking a puff of this light green, fuzzy bud and got notes of tangerine, citrus and even a bit of watermelon. I highly recommend Casey Jones as a daytime strain to inspire creativity and socialization.  I didn't have the pleasure of growing her, but I bought a half oz of 'b' buds and squished it. What a sweet strain. Sweet as in sugar sweet. It came out of the press as foam mostly it was so sugary. Then I burned it 1 time and it turned Into beautiful thick amber plastic. For a low-level thc strain, I was very satisfied. Ty  This strain is phenomenal,...all sativa fanatics MUST TRY this! Grade A+!  I have moderate depression and anxiety, and love sativa's, but this one made me anxious. I can take most sativa's, but not this one. The smell was bad too.  Best strain i ever smoked! The taste is so sweet and full of surpises! Buy on site  Great wake and babe Sativa. The Agent Orange wasn’t that great. It’s very smooth with not a big taste but an absolutely amazing body high you expect from a Sativa.  Great at soothing the frazzled mind and nerves at the end of the days work. Interesting unique taste, like licorice and cloves; don’t quote me on this but I didn’t notice anything citrus, blue, or purple in this strain. I’d buy this again, I would get at least an ounce if the price was right. This was for sale at the downtown dispensary by the university of Arizona,I was only able to get a few grams at the time on a generous first time patient discount. Thanks downtown dispensary!!  Purchased at Thrive disp. Anna il. From Wellness Group Pharms. I was hesitant to buy, do to previous purchase from WGP. Casey Jones : uplifting, focused, happy, a good feel good and enjoy the day smoke. Way to go Wellness, the last 3, Chocolope ( 👍 👍 👍) , Casey Jones ( 👍 👍 ) .  Just finished some CJ....wow such a great sativa high. Smooth,citrusy taste You've hit it again UM420 good job. \"}"
      ]
     },
     "execution_count": 71,
     "metadata": {},
     "output_type": "execute_result"
    }
   ],
   "source": [
    "key = list(reviews_agregated.keys())[0]\n",
    "print(key)\n",
    "reviews_agregated[key]"
   ]
  },
  {
   "cell_type": "markdown",
   "id": "d4991fde-3071-4994-b7b0-dedced35d4a8",
   "metadata": {},
   "source": [
    "Generate ground trurh"
   ]
  },
  {
   "cell_type": "code",
   "execution_count": 66,
   "id": "0b9e9bef-46e7-4702-847e-194248a8ee7a",
   "metadata": {},
   "outputs": [
    {
     "data": {
      "text/plain": [
       "{'reviews': \" My first time with the Chapo, was a multi-high experience the flavor, omg…. The throat on a few hits reminded me of the drainage you’d get from decent quality “coke”, very sweet head high, spurts of clear thought, energy, then my favorite “Couch Lock”, and the world for now ceases.  Smoked a pre-roll of el chapo OG and fucking hell my eyes got sooo heavy and got baked asf!  I have a chronic disease this indica strain is a cure all fo me and I’m a long time smoker!!  I really enjoy this strains ability to reduce pain.  El Chapo OG Kush (Face/Off OG x SFV OG x OG Kush) by Boss Status Genetics/Cali Buds.Average Cannabinoid Content: THC: 10-23%CBD: 0.00-0.50%Terpene Profile:Myrcene, Limonene, Pinene, beta-Caryophyllene Medicinal Benefits include:pain relief gastrointestinal issues nausea relief insomnia relief relaxation appetite stimulationdepression relief  Superb! The best strain I've had in 2019 except that Presidential Kush. Grade A!  El Chapo OG (AKA: Shorty) is an Indica. The tight lime green buds have burnt orange hairs & frosty layer of fine crystal trichomes. The scent & flavor is a earthy, citrus, & pine. The effects made me happy, relaxed, lazy, & sleepy. Good night time medicine. Medicate On :)  This is an unbeatable strain for me, considering I am a strong sativa lover. I've been appreciating cannabis for ten years and this is by far the best strain out there.HIGHLY RECCOMENDED TO TRY AT LEAST ONCE.#England  Best strain ever for pain!!!!  Very good strain straight fire \",\n",
       " 'queries': {'recs': '1. Sweet citrus pain relief\\n2. Relaxing earthy aroma\\n3. Energy and relaxation blend\\n4. Heavy eyes, clear thoughts\\n5. Best strain for pain',\n",
       "  'prompt_tokens': 571,\n",
       "  'total_tokens': 607,\n",
       "  'id': '757dc25ca3e5'}}"
      ]
     },
     "execution_count": 66,
     "metadata": {},
     "output_type": "execute_result"
    }
   ],
   "source": [
    "from IPython.display import clear_output\n",
    "\n",
    "def generate_and_save_ground_truth(input_dict, output_filename):\n",
    "    for i in input_dict:\n",
    "      reviews = input_dict[i]['reviews']\n",
    "      prompt = promt_generation(reviews)\n",
    "      input_dict[i]['queries'] = generate(prompt)\n",
    "    with open(output_filename, 'w') as f:\n",
    "      json.dump(input_dict, f)\n",
    "    print('Data generated')\n",
    "    return input_dict\n",
    "\n",
    "clear_output()\n",
    "output_filename = os.path.join(app_files_dir,'content_queries.json')\n",
    "user_queries_dict = generate_and_save_ground_truth(reviews_agregated, output_filename)\n",
    "user_queries_dict[random_strain]"
   ]
  },
  {
   "cell_type": "code",
   "execution_count": null,
   "id": "4c10b469-6ba4-4bb5-98ae-1a9467e8c7af",
   "metadata": {},
   "outputs": [],
   "source": [
    "\n",
    "output_file_path = os.path.join(app_files_dir,'ground_truth.json')"
   ]
  },
  {
   "cell_type": "code",
   "execution_count": 68,
   "id": "280af815-1a63-4efe-bcba-6c1a885db33b",
   "metadata": {},
   "outputs": [
    {
     "name": "stdout",
     "output_type": "stream",
     "text": [
      "1. Fruity pain relief options\n",
      "2. Energizing headache remedy\n",
      "3. Relaxing stress relief choices\n",
      "4. Uplifting mood support picks\n",
      "5. Cerebral anxiety solutions\n"
     ]
    }
   ],
   "source": [
    "#queries_dict = load_reviews(output_filename)\n",
    "random_strain = np.random.choice(list(reviews_agregated.keys()))\n",
    "\n",
    "print(queries_dict[random_strain]['queries']['recs'])"
   ]
  },
  {
   "cell_type": "code",
   "execution_count": 54,
   "id": "f6d1eb1a-d154-4dcc-9d63-765040f3e414",
   "metadata": {},
   "outputs": [
    {
     "name": "stdout",
     "output_type": "stream",
     "text": [
      "Num generates: 1455\n",
      "data saved to /Users/username/PycharmProjects/leaf-bro/data/pipelines-data/ground_truth.json\n"
     ]
    }
   ],
   "source": [
    "import re\n",
    "\n",
    "def clean_text(text):\n",
    "    cleaned_text = re.sub(r'^\\d+\\.\\s*', '', text)\n",
    "    return cleaned_text\n",
    "\n",
    "def prepare_ground_truth(queries_dict, data_path):\n",
    "    ground_truth = []\n",
    "    \n",
    "    for k in queries_dict:\n",
    "        queries = queries_dict[k]['queries']['recs'].split('\\n')\n",
    "        ground_truth += [{'answer': k, 'query': clean_text(q)} for q in queries]\n",
    "    print('Num generates: %d' % len(ground_truth))\n",
    "    with open(data_path, 'w') as f:\n",
    "      json.dump(ground_truth, f)\n",
    "    print('data saved to %s' % data_path)\n",
    "    return ground_truth\n",
    "output_file_path = os.path.join(app_files_dir,'ground_truth.json')\n",
    "ground_truth = prepare_ground_truth(queries_dict, output_file_path)"
   ]
  },
  {
   "cell_type": "code",
   "execution_count": 56,
   "id": "7740dc4e-8b44-431d-a06b-4e62a0a2e371",
   "metadata": {},
   "outputs": [
    {
     "name": "stdout",
     "output_type": "stream",
     "text": [
      "{'answer': 'gorilla-cookies', 'query': 'Citrus herbal pain relief'}\n"
     ]
    },
    {
     "data": {
      "text/plain": [
       "\" Great high that is good for a night downtown that lasts for hours  This one hits me more like an Indica than a Sativa despite it being Sativa leaning. I get the heavy couch-locking feeling of the Gorilla Glue with the euphoric aspect (mentally and physically) from the GSC, along with that nice head buzz. While remaining clear-headed, I do find myself struggling to keep my eyes open after a good few dabs.  Awesome strain I was bouncing around getting things done Happy and care free Pretty dumb to be honest but didnt care  After consuming gorilla cookies thc oil in a vape device, numerous times, as a medical & recently recreational user, gorilla cookies is an extremely high sativa dominant smoke that in my case gives me plenty of nervous energy but no focus to get things done! Slight couch lock that's easily overcome for most, I personally didn't like the restless energy & feelings of anxiety gorilla cookies always produces. Your experience may differ!I didn't feel any other benefits such as pain relief & it interfered with my insomniac medical needs to the point I needed at least double to triple a high indica strain to calm me back down physically. For those with any kind of heart or similar concerns, this one might better be skipped.  One of my favorite strains. It really spoils me when I can get it as it really works well for me. Buds very hard and thick. A small bud will really go a long way.2 to 3 hits is usually sufficient to get you well on your way. I use to lean toward the diesels until they got diluted and I found this one. Now this one is my go to. One of the smoothest highs nd long lasting. Not for the novice.  What a strain, two of my favourite strains together forming this delicious good looking flower. its effects are more sativa but definetly kicking a very good hybrid .with powerful couchlocking effects reminiscent of the gorilla glue #4 and the daze trippy side from the GSC. buds look so dank, a great dark olive tone with crazy aroma, again reminding me the gorilla glue and the gsc. its flavors are very similar too, i can definitely taste the rubber, nutty, herbal taste of the gorilla glue but with hints of mint cookies/dough. a delicious flavor. i love its effects, man this is an all day strain for sure. more sativa than indica but it is a hybrid for sure, youll feel both effects believe me. straight fire.  Great strain, helps with my back pain and is for an experienced smoker so be careful  Like The strain I’m not really a sativa guy lean more to indica but this helps a lot with the pain in my back and it’s a good relaxing head I slept for four hours after it wore off so it does have a little Indica lovely bud  Awsom, shit, I'm having a hard time thinking, but I feel very intelligent.  Good strong strain. Made me laugh at everything \""
      ]
     },
     "execution_count": 56,
     "metadata": {},
     "output_type": "execute_result"
    }
   ],
   "source": [
    "import numpy as np\n",
    "\n",
    "random_id = np.random.randint(0, len(ground_truth))\n",
    "print(ground_truth[random_id])\n",
    "\n",
    "queries_dict[ground_truth[random_id]['answer']]['reviews']"
   ]
  },
  {
   "cell_type": "code",
   "execution_count": null,
   "id": "a361a326-9b43-4682-bf7d-a3b98ca3dae4",
   "metadata": {},
   "outputs": [],
   "source": []
  },
  {
   "cell_type": "markdown",
   "id": "91a13477-569a-4af8-970d-b10149a5a734",
   "metadata": {},
   "source": [
    "# Project\n",
    "\n",
    "find a strain and motivate user to buy it"
   ]
  },
  {
   "cell_type": "code",
   "execution_count": 76,
   "id": "8906fdbe-7ed4-490a-9143-6b9ae9490e4b",
   "metadata": {},
   "outputs": [
    {
     "name": "stdout",
     "output_type": "stream",
     "text": [
      "291 291\n"
     ]
    }
   ],
   "source": [
    "def prepare_catalog(reviews_agregated):\n",
    "    index = []\n",
    "    corpus = []\n",
    "    for key, content in reviews_agregated.items():\n",
    "        index.append(key)\n",
    "        corpus.append(content['reviews'])\n",
    "    return index, corpus\n",
    "index, corpus = prepare_catalog(reviews_agregated)\n",
    "print(len(index), len(corpus))"
   ]
  },
  {
   "cell_type": "code",
   "execution_count": 87,
   "id": "5dc72435-1504-4d5f-b2b0-b90176e48ff9",
   "metadata": {},
   "outputs": [
    {
     "name": "stdout",
     "output_type": "stream",
     "text": [
      "(291, 768) 291\n"
     ]
    }
   ],
   "source": [
    "models_dir = os.path.join(app_files_dir, 'models')\n",
    "\n",
    "index_file_path = os.path.join(models_dir, 'embeds_index.json')\n",
    "embeds_file_path = os.path.join(models_dir, 'embeds.npy')\n",
    "with open(index_file_path, 'r') as f:\n",
    "    index = json.load(f)\n",
    "embeds = np.load(embeds_file_path)\n",
    "print(embeds.shape, len(index))"
   ]
  },
  {
   "cell_type": "code",
   "execution_count": 88,
   "id": "82b46730-4b3c-47b6-9994-582cd0742049",
   "metadata": {},
   "outputs": [
    {
     "name": "stderr",
     "output_type": "stream",
     "text": [
      "/Users/username/.pyenv/versions/3.10.13/envs/llmops-env/lib/python3.10/site-packages/threadpoolctl.py:1214: RuntimeWarning: \n",
      "Found Intel OpenMP ('libiomp') and LLVM OpenMP ('libomp') loaded at\n",
      "the same time. Both libraries are known to be incompatible and this\n",
      "can cause random crashes or deadlocks on Linux when loaded in the\n",
      "same Python program.\n",
      "Using threadpoolctl may cause crashes or deadlocks. For more\n",
      "information and possible workarounds, please see\n",
      "    https://github.com/joblib/threadpoolctl/blob/master/multiple_openmp.md\n",
      "\n",
      "  warnings.warn(msg, RuntimeWarning)\n"
     ]
    },
    {
     "name": "stdout",
     "output_type": "stream",
     "text": [
      "pretrained model loading...\n",
      "model loadind done\n"
     ]
    },
    {
     "data": {
      "text/plain": [
       "SentenceTransformer(\n",
       "  (0): Transformer({'max_seq_length': 512, 'do_lower_case': False}) with Transformer model: DistilBertModel \n",
       "  (1): Pooling({'word_embedding_dimension': 768, 'pooling_mode_cls_token': False, 'pooling_mode_mean_tokens': True, 'pooling_mode_max_tokens': False, 'pooling_mode_mean_sqrt_len_tokens': False})\n",
       "  (2): Normalize()\n",
       ")"
      ]
     },
     "execution_count": 88,
     "metadata": {},
     "output_type": "execute_result"
    }
   ],
   "source": [
    "def get_pytorch_model(models_dir, model_name='multi-qa-distilbert-cos-v1'):\n",
    "  from sentence_transformers import SentenceTransformer\n",
    "\n",
    "  model_path = os.path.join(models_dir, model_name)\n",
    "\n",
    "  if not os.path.exists(model_path):\n",
    "      print('huggingface model loading...')\n",
    "      embedder = SentenceTransformer(model_name)\n",
    "      embedder.save(model_path)\n",
    "  else:\n",
    "      print('pretrained model loading...')\n",
    "      embedder = SentenceTransformer(model_name_or_path=model_path)\n",
    "  print('model loadind done')\n",
    "\n",
    "  return embedder\n",
    "\n",
    "class VectorSearchEngine:\n",
    "    def __init__(self, documents, embeddings):\n",
    "        self.documents = documents\n",
    "        self.embeddings = embeddings\n",
    "\n",
    "    def search(self, v_query, num_results=10):\n",
    "        scores = self.embeddings.dot(v_query)\n",
    "        idx = np.argsort(-scores)[:num_results]\n",
    "        return [{'score': scores[i], 'doc': self.documents[i]} for i in idx]\n",
    "\n",
    "embedder = get_pytorch_model(models_dir)\n",
    "embedder"
   ]
  },
  {
   "cell_type": "code",
   "execution_count": 89,
   "id": "9f72ed93-bc19-4e55-adc2-610b36af0701",
   "metadata": {},
   "outputs": [],
   "source": [
    "search_engine = VectorSearchEngine(documents=index, embeddings=embeds)\n"
   ]
  },
  {
   "cell_type": "code",
   "execution_count": 91,
   "id": "17776ea6-c15d-46ab-950b-05c52e148b72",
   "metadata": {},
   "outputs": [
    {
     "data": {
      "text/plain": [
       "[{'score': 0.4901401, 'doc': 'lemon-tree'},\n",
       " {'score': 0.47702503, 'doc': 'golden-lemons'},\n",
       " {'score': 0.47451043, 'doc': 'hardcore-og'},\n",
       " {'score': 0.45465428, 'doc': 'orange-crush'},\n",
       " {'score': 0.4432276, 'doc': 'skywalker-og'}]"
      ]
     },
     "execution_count": 91,
     "metadata": {},
     "output_type": "execute_result"
    }
   ],
   "source": [
    "user_question = 'citrus relaxation'\n",
    "\n",
    "v = embedder.encode(user_question)\n",
    "\n",
    "search_engine.search(v, num_results=5)"
   ]
  },
  {
   "cell_type": "code",
   "execution_count": 129,
   "id": "3b41cf59-d1b0-4e4e-a0a4-e088c24c8bea",
   "metadata": {},
   "outputs": [
    {
     "name": "stdout",
     "output_type": "stream",
     "text": [
      "39 100\n"
     ]
    }
   ],
   "source": [
    "random_numbers = np.random.choice(np.arange(0, len(ground_truth) - 1), size=100, replace=False)\n",
    "res = []\n",
    "for random_id in random_numbers:\n",
    "    origin = ground_truth[random_id]['answer']\n",
    "    query = ground_truth[random_id]['query']\n",
    "    v = embedder.encode(query)\n",
    "    res.append( 1 if sum(origin==i['doc'] for i in search_engine.search(v, num_results=30)) > 0 else 0)\n",
    "\n",
    "print(sum(res), len(res))"
   ]
  },
  {
   "cell_type": "code",
   "execution_count": 131,
   "id": "7ab03784-bf46-499e-8af4-2d0a979261c7",
   "metadata": {},
   "outputs": [
    {
     "name": "stderr",
     "output_type": "stream",
     "text": [
      "/var/folders/6_/c5005cfj5_s0k2v7t69q1qsh0000gn/T/ipykernel_39617/649090524.py:1: DeprecationWarning: Calling nonzero on 0d arrays is deprecated, as it behaves surprisingly. Use `atleast_1d(cond).nonzero()` if the old behavior was intended. If the context of this warning is of the form `arr[nonzero(cond)]`, just use `arr[cond]`.\n",
      "  [ground_truth[i] for i in random_numbers[np.where(res==1)]]\n"
     ]
    },
    {
     "data": {
      "text/plain": [
       "[]"
      ]
     },
     "execution_count": 131,
     "metadata": {},
     "output_type": "execute_result"
    }
   ],
   "source": [
    "[ground_truth[i] for i in random_numbers[np.where(res==1)]]\n"
   ]
  },
  {
   "cell_type": "code",
   "execution_count": 166,
   "id": "24672f1a-5059-433b-9c7b-d37a09151076",
   "metadata": {},
   "outputs": [],
   "source": [
    "def eval_hitrate(golden_dataset):\n",
    "    res = []\n",
    "    for entry in golden_dataset:\n",
    "        v = embedder.encode(entry['query'])\n",
    "        res.append( 1 if sum(entry['origin']==i['doc'] for i in search_engine.search(v, num_results=30)) > 0 else 0)\n",
    "    print('Hit rate: %.3f, num entries: %d' % (sum(res)/len(res), len(res)))\n",
    "\n",
    "def generate_golden_set():\n",
    "    items_list = list(set([i['answer'] for i in ground_truth]))\n",
    "    random.shuffle(items_list)\n",
    "    random.shuffle(ground_truth)\n",
    "    result = []\n",
    "    test_queries = []\n",
    "    for i in items_list[:100]:\n",
    "        result.append(i)\n",
    "        test_queries.append([j['query'] for j in ground_truth if j['answer']==i][0])\n",
    "    golden_dataset = [{'origin': origin, 'query': query} for origin, query in zip(result, test_queries)]\n",
    "    return golden_dataset\n",
    "\n",
    "data_path = os.path.join(app_files_dir, 'golden_dataset.json')\n",
    "golden_dataset = [{'origin': origin, 'query': query} for origin, query in zip(result, test_queries)]\n",
    "with open(data_path, 'w') as f:\n",
    "  json.dump(golden_dataset, f)"
   ]
  },
  {
   "cell_type": "code",
   "execution_count": 160,
   "id": "c8139194-4da8-4cc7-b38c-ec66eee8e492",
   "metadata": {},
   "outputs": [
    {
     "data": {
      "text/plain": [
       "['alaskan-thunder-fuck',\n",
       " 'key-lime-pie',\n",
       " 'la-confidential',\n",
       " 'grape-pie',\n",
       " 'monster-cookies',\n",
       " 'white-og',\n",
       " 'purple-punch',\n",
       " 'island-sweet-skunk',\n",
       " 'gobbstopper',\n",
       " 'gelato-cake',\n",
       " 'white-widow',\n",
       " 'chocolate-diesel',\n",
       " 'lavender-jones',\n",
       " 'sour-berry',\n",
       " '101-headband',\n",
       " 'super-boof',\n",
       " 'sfv-og',\n",
       " 'cherry-pie',\n",
       " '101-headband',\n",
       " 'chocolate-diesel',\n",
       " 'kosher-kush',\n",
       " 'granddaddy-purple',\n",
       " 'master-kush',\n",
       " 'zoap',\n",
       " 'papaya-cake',\n",
       " 'tahoe-og',\n",
       " 'sour-tangie',\n",
       " 'lemon-skunk',\n",
       " 'slurricane',\n",
       " 'zkittlez-cake']"
      ]
     },
     "execution_count": 160,
     "metadata": {},
     "output_type": "execute_result"
    }
   ],
   "source": [
    "[i['answer'] for i in np.array(ground_truth)[np.where(np.array(res)==1)]]"
   ]
  },
  {
   "cell_type": "code",
   "execution_count": 162,
   "id": "c56dedb4-65b5-4cd8-8864-44de0dfd124e",
   "metadata": {},
   "outputs": [],
   "source": [
    "\n"
   ]
  },
  {
   "cell_type": "code",
   "execution_count": 163,
   "id": "71970db3-222c-48b5-82e6-548b1ee540a4",
   "metadata": {},
   "outputs": [],
   "source": [
    "# queries_dict['skywalker-og']['reviews']"
   ]
  },
  {
   "cell_type": "code",
   "execution_count": null,
   "id": "59a4fdc4-da51-44ed-a2c0-7294fd3fc612",
   "metadata": {},
   "outputs": [],
   "source": []
  }
 ],
 "metadata": {
  "kernelspec": {
   "display_name": "Python 3 (ipykernel)",
   "language": "python",
   "name": "python3"
  },
  "language_info": {
   "codemirror_mode": {
    "name": "ipython",
    "version": 3
   },
   "file_extension": ".py",
   "mimetype": "text/x-python",
   "name": "python",
   "nbconvert_exporter": "python",
   "pygments_lexer": "ipython3",
   "version": "3.11.5"
  }
 },
 "nbformat": 4,
 "nbformat_minor": 5
}
