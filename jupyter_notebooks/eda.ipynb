{
 "cells": [
  {
   "cell_type": "code",
   "execution_count": 1,
   "id": "27ea6454-937c-4711-ad65-bbd8981935b7",
   "metadata": {},
   "outputs": [
    {
     "data": {
      "text/plain": [
       "'/Users/username/PycharmProjects/leaf-buddy/data'"
      ]
     },
     "execution_count": 1,
     "metadata": {},
     "output_type": "execute_result"
    }
   ],
   "source": [
    "import os\n",
    "from dotenv import load_dotenv\n",
    "#from elasticsearch import Elasticsearch, ConnectionError\n",
    "\n",
    "#es_client = Elasticsearch('http://localhost:9200')\n",
    "\n",
    "\n",
    "# Load environment variables from the .env file\n",
    "load_dotenv()\n",
    "os.environ['ROOT_DATA_DIR']"
   ]
  },
  {
   "cell_type": "code",
   "execution_count": 2,
   "id": "819fffae-622e-4402-a4a2-fb1c042d0c07",
   "metadata": {},
   "outputs": [],
   "source": [
    "# from IPython.display import clear_output\n",
    "\n",
    "# !pip install google-api-python-client google-auth-httplib2 google-auth-oauthlib gspread\n",
    "# clear_output()\n",
    "\n",
    "# !rm gsheets.py\n",
    "# !wget https://gist.githubusercontent.com/aleksandr-dzhumurat/c1b52a6284fab8e8355ef25cc3a3cc51/raw/2e0ef91fc111e7b838594dd01a309bd466dbafde/gsheets.py\n",
    "# clear_output()\n",
    "# print('Pakages installed')"
   ]
  },
  {
   "cell_type": "code",
   "execution_count": 3,
   "id": "63c06b9b-96ba-4995-afe2-7439035a559e",
   "metadata": {},
   "outputs": [],
   "source": [
    "# from gsheets import get_spreadsheet, duplicate_tab, insert_data_dummy\n",
    "\n",
    "# new_tab_name = 'leafly_catalog'\n",
    "\n",
    "# g_sheet_link = 'https://docs.google.com/spreadsheets/d/1cOZ930D8KVupQQciC_bUOXqrRlVytKhs5tXlDKjpLaY/edit?gid=0#gid=0'\n",
    "# spreadsheet_id = g_sheet_link.split('/')[-2]\n",
    "# print(spreadsheet_id)\n",
    "# spreadsheet = get_spreadsheet(spreadsheet_id)\n",
    "# duplicate_tab(spreadsheet, 'Sheet1', new_tab_name)\n",
    "\n",
    "# worksheet = spreadsheet.worksheet(new_tab_name)\n",
    "\n",
    "# insert_data_dummy(worksheet, search_results_df, ascending=[False, True])"
   ]
  },
  {
   "cell_type": "code",
   "execution_count": 109,
   "id": "edc22851-6aff-4cd2-804f-56b5a414fc24",
   "metadata": {},
   "outputs": [
    {
     "name": "stdout",
     "output_type": "stream",
     "text": [
      "49259\n"
     ]
    },
    {
     "data": {
      "text/html": [
       "<div>\n",
       "<style scoped>\n",
       "    .dataframe tbody tr th:only-of-type {\n",
       "        vertical-align: middle;\n",
       "    }\n",
       "\n",
       "    .dataframe tbody tr th {\n",
       "        vertical-align: top;\n",
       "    }\n",
       "\n",
       "    .dataframe thead th {\n",
       "        text-align: right;\n",
       "    }\n",
       "</style>\n",
       "<table border=\"1\" class=\"dataframe\">\n",
       "  <thead>\n",
       "    <tr style=\"text-align: right;\">\n",
       "      <th></th>\n",
       "      <th>doc_id</th>\n",
       "      <th>category</th>\n",
       "      <th>title</th>\n",
       "      <th>link</th>\n",
       "      <th>file</th>\n",
       "      <th>processed_file_name</th>\n",
       "    </tr>\n",
       "  </thead>\n",
       "  <tbody>\n",
       "    <tr>\n",
       "      <th>0</th>\n",
       "      <td>doc_c2ccd832-edc6-4533-aa95-2b83997b6235</td>\n",
       "      <td>cannabis/flower</td>\n",
       "      <td>3.5g THC-A COOKIES PINK RUNTZ FLOWER HYBRID</td>\n",
       "      <td>/brands/aventus-8/products/aventus-8-torch-thc...</td>\n",
       "      <td>/Users/username/PycharmProjects/leaf-buddy/dat...</td>\n",
       "      <td>/Users/username/PycharmProjects/leaf-buddy/dat...</td>\n",
       "    </tr>\n",
       "    <tr>\n",
       "      <th>1</th>\n",
       "      <td>doc_0f4e3e88-e015-4358-a160-cf2b202dcf75</td>\n",
       "      <td>cannabis/flower</td>\n",
       "      <td>7.5 g THC-A Pink Rozay Hybrid</td>\n",
       "      <td>/brands/aventus-8/products/aventus-8-torch-thc...</td>\n",
       "      <td>/Users/username/PycharmProjects/leaf-buddy/dat...</td>\n",
       "      <td>/Users/username/PycharmProjects/leaf-buddy/dat...</td>\n",
       "    </tr>\n",
       "    <tr>\n",
       "      <th>2</th>\n",
       "      <td>doc_da5a1680-918e-4d80-b6cc-cd587edf90a1</td>\n",
       "      <td>cannabis/flower</td>\n",
       "      <td>LEMONADE BLANCO 1 G FLOWER THC</td>\n",
       "      <td>/brands/aventus-8/products/aventus-8-torch-thc...</td>\n",
       "      <td>/Users/username/PycharmProjects/leaf-buddy/dat...</td>\n",
       "      <td>/Users/username/PycharmProjects/leaf-buddy/dat...</td>\n",
       "    </tr>\n",
       "  </tbody>\n",
       "</table>\n",
       "</div>"
      ],
      "text/plain": [
       "                                     doc_id         category  \\\n",
       "0  doc_c2ccd832-edc6-4533-aa95-2b83997b6235  cannabis/flower   \n",
       "1  doc_0f4e3e88-e015-4358-a160-cf2b202dcf75  cannabis/flower   \n",
       "2  doc_da5a1680-918e-4d80-b6cc-cd587edf90a1  cannabis/flower   \n",
       "\n",
       "                                         title  \\\n",
       "0  3.5g THC-A COOKIES PINK RUNTZ FLOWER HYBRID   \n",
       "1                7.5 g THC-A Pink Rozay Hybrid   \n",
       "2               LEMONADE BLANCO 1 G FLOWER THC   \n",
       "\n",
       "                                                link  \\\n",
       "0  /brands/aventus-8/products/aventus-8-torch-thc...   \n",
       "1  /brands/aventus-8/products/aventus-8-torch-thc...   \n",
       "2  /brands/aventus-8/products/aventus-8-torch-thc...   \n",
       "\n",
       "                                                file  \\\n",
       "0  /Users/username/PycharmProjects/leaf-buddy/dat...   \n",
       "1  /Users/username/PycharmProjects/leaf-buddy/dat...   \n",
       "2  /Users/username/PycharmProjects/leaf-buddy/dat...   \n",
       "\n",
       "                                 processed_file_name  \n",
       "0  /Users/username/PycharmProjects/leaf-buddy/dat...  \n",
       "1  /Users/username/PycharmProjects/leaf-buddy/dat...  \n",
       "2  /Users/username/PycharmProjects/leaf-buddy/dat...  "
      ]
     },
     "execution_count": 109,
     "metadata": {},
     "output_type": "execute_result"
    }
   ],
   "source": [
    "import os\n",
    "import pandas as pd\n",
    "\n",
    "data_version = '7268cbe9f2b1'\n",
    "\n",
    "leafly_full_catalog_index = None\n",
    "leafly_full_catalog_df = pd.read_csv(os.path.join(os.environ['ROOT_DATA_DIR'], f'leafly_catalog_{data_version}.csv'))\n",
    "print(leafly_full_catalog_df.shape[0])\n",
    "leafly_full_catalog_df.head(3)"
   ]
  },
  {
   "cell_type": "code",
   "execution_count": 6,
   "id": "caaa67a9-c4a1-4e4c-85ac-b274dc4bee27",
   "metadata": {},
   "outputs": [
    {
     "name": "stdout",
     "output_type": "stream",
     "text": [
      "Catalog length 1513, ['Accessories Temp' 'Concentrates' 'Vapes' 'Apparel' 'Pre-Rolls' 'Flower'\n",
      " 'Fees' 'Edibles' 'Oral Products' 'Accessories'\n",
      " 'Accessories - Cabbage Club' 'Topicals' 'Temp Accessories'\n",
      " 'Apparel - Cabbage Club']\n"
     ]
    },
    {
     "data": {
      "text/html": [
       "<div>\n",
       "<style scoped>\n",
       "    .dataframe tbody tr th:only-of-type {\n",
       "        vertical-align: middle;\n",
       "    }\n",
       "\n",
       "    .dataframe tbody tr th {\n",
       "        vertical-align: top;\n",
       "    }\n",
       "\n",
       "    .dataframe thead th {\n",
       "        text-align: right;\n",
       "    }\n",
       "</style>\n",
       "<table border=\"1\" class=\"dataframe\">\n",
       "  <thead>\n",
       "    <tr style=\"text-align: right;\">\n",
       "      <th></th>\n",
       "      <th>DealerID</th>\n",
       "      <th>ProductID</th>\n",
       "      <th>ProductName</th>\n",
       "      <th>ProductCategory</th>\n",
       "      <th>ProductCategoryID</th>\n",
       "      <th>ProductTypeID</th>\n",
       "      <th>ProductType</th>\n",
       "      <th>ProductBrand</th>\n",
       "      <th>ProductGroupName</th>\n",
       "      <th>ProductClass</th>\n",
       "      <th>ProductStrainPrevalence</th>\n",
       "      <th>ProductSubCategory</th>\n",
       "      <th>SizeName</th>\n",
       "      <th>ProductPrice</th>\n",
       "      <th>product_category</th>\n",
       "      <th>pre_size_name</th>\n",
       "      <th>size_name</th>\n",
       "    </tr>\n",
       "  </thead>\n",
       "  <tbody>\n",
       "    <tr>\n",
       "      <th>0</th>\n",
       "      <td>211388</td>\n",
       "      <td>190856</td>\n",
       "      <td>Test Accessory EACH</td>\n",
       "      <td>Accessories Temp</td>\n",
       "      <td>3459</td>\n",
       "      <td>0</td>\n",
       "      <td>NaN</td>\n",
       "      <td>No Brand</td>\n",
       "      <td>Test Accessory</td>\n",
       "      <td>Non-cannabis</td>\n",
       "      <td>N/S</td>\n",
       "      <td>NaN</td>\n",
       "      <td>EACH</td>\n",
       "      <td>100</td>\n",
       "      <td>accessories temp</td>\n",
       "      <td>each</td>\n",
       "      <td>each</td>\n",
       "    </tr>\n",
       "    <tr>\n",
       "      <th>1</th>\n",
       "      <td>211388</td>\n",
       "      <td>263581</td>\n",
       "      <td>Grape Noir CDT Dablicator 1g</td>\n",
       "      <td>Concentrates</td>\n",
       "      <td>3483</td>\n",
       "      <td>0</td>\n",
       "      <td>NaN</td>\n",
       "      <td>MÜV</td>\n",
       "      <td>Grape Noir CDT Dablicator</td>\n",
       "      <td>Cannabis</td>\n",
       "      <td>Indica</td>\n",
       "      <td>CDT Dablicator</td>\n",
       "      <td>1g</td>\n",
       "      <td>60</td>\n",
       "      <td>concentrates</td>\n",
       "      <td>1g</td>\n",
       "      <td>1g</td>\n",
       "    </tr>\n",
       "    <tr>\n",
       "      <th>2</th>\n",
       "      <td>211388</td>\n",
       "      <td>263599</td>\n",
       "      <td>Layered Cake Badder 1g</td>\n",
       "      <td>Concentrates</td>\n",
       "      <td>3483</td>\n",
       "      <td>0</td>\n",
       "      <td>NaN</td>\n",
       "      <td>MÜV</td>\n",
       "      <td>Layered Cake Badder</td>\n",
       "      <td>Cannabis</td>\n",
       "      <td>Indica</td>\n",
       "      <td>Live Resin Badder</td>\n",
       "      <td>1g</td>\n",
       "      <td>60</td>\n",
       "      <td>concentrates</td>\n",
       "      <td>1g</td>\n",
       "      <td>1g</td>\n",
       "    </tr>\n",
       "  </tbody>\n",
       "</table>\n",
       "</div>"
      ],
      "text/plain": [
       "   DealerID  ProductID                   ProductName   ProductCategory  \\\n",
       "0    211388     190856           Test Accessory EACH  Accessories Temp   \n",
       "1    211388     263581  Grape Noir CDT Dablicator 1g      Concentrates   \n",
       "2    211388     263599        Layered Cake Badder 1g      Concentrates   \n",
       "\n",
       "   ProductCategoryID  ProductTypeID ProductType ProductBrand  \\\n",
       "0               3459              0         NaN     No Brand   \n",
       "1               3483              0         NaN          MÜV   \n",
       "2               3483              0         NaN          MÜV   \n",
       "\n",
       "            ProductGroupName  ProductClass ProductStrainPrevalence  \\\n",
       "0             Test Accessory  Non-cannabis                     N/S   \n",
       "1  Grape Noir CDT Dablicator      Cannabis                  Indica   \n",
       "2        Layered Cake Badder      Cannabis                  Indica   \n",
       "\n",
       "  ProductSubCategory SizeName  ProductPrice  product_category pre_size_name  \\\n",
       "0                NaN     EACH           100  accessories temp          each   \n",
       "1     CDT Dablicator       1g            60      concentrates            1g   \n",
       "2  Live Resin Badder       1g            60      concentrates            1g   \n",
       "\n",
       "  size_name  \n",
       "0      each  \n",
       "1        1g  \n",
       "2        1g  "
      ]
     },
     "execution_count": 6,
     "metadata": {},
     "output_type": "execute_result"
    }
   ],
   "source": [
    "sweed_catalog_df = None\n",
    "if sweed_catalog_df is None:\n",
    "    sweed_catalog_df = pd.read_csv(os.path.join(os.environ['ROOT_DATA_DIR'], 'pipelines-data', 'products_dataset_ffb59da3.csv.gzip'))\n",
    "print(f\"Catalog length {sweed_catalog_df.shape[0]}, {sweed_catalog_df['ProductCategory'].unique()}\")\n",
    "sweed_catalog_df.head(3)                               "
   ]
  },
  {
   "cell_type": "markdown",
   "id": "261f3eb7-6102-46a1-9348-e35339864a19",
   "metadata": {},
   "source": [
    "# [Leafly full catalog] -> [Sweed catalog] matching\n",
    "\n",
    "dummy tf-idf search based on name + category"
   ]
  },
  {
   "cell_type": "code",
   "execution_count": 115,
   "id": "87a2b63e-b140-4303-862a-c9fd26aa5073",
   "metadata": {},
   "outputs": [
    {
     "name": "stdout",
     "output_type": "stream",
     "text": [
      "Search results for: Miracle Fruit 0.5g, MÜV, Vapes\n"
     ]
    },
    {
     "data": {
      "text/html": [
       "<a href=\"https://www.leafly.com/brands/seed-smith-cannabis/products/seed-smith-cannabis-miracle-alien-cookies-3-5g-flower\" target=\"_blank\">Miracle Alien Cookies 3.5g</a>"
      ],
      "text/plain": [
       "<IPython.core.display.HTML object>"
      ]
     },
     "metadata": {},
     "output_type": "display_data"
    },
    {
     "data": {
      "text/html": [
       "<a href=\"https://www.leafly.com/brands/seed-smith-cannabis/products/seed-smith-cannabis-miracle-alien-cookies-3-5g-flower\" target=\"_blank\">Miracle Alien Cookies 3.5g</a>"
      ],
      "text/plain": [
       "<IPython.core.display.HTML object>"
      ]
     },
     "metadata": {},
     "output_type": "display_data"
    },
    {
     "data": {
      "text/html": [
       "<a href=\"https://www.leafly.com/brands/cru-cannabis/products/cru-cannabis-miracle-alien-cookies-3-5g-hybrid-flower-flower\" target=\"_blank\">Miracle Alien Cookies 3.5G Hybrid Flower</a>"
      ],
      "text/plain": [
       "<IPython.core.display.HTML object>"
      ]
     },
     "metadata": {},
     "output_type": "display_data"
    },
    {
     "data": {
      "text/html": [
       "<a href=\"https://www.leafly.com/brands/cru-cannabis/products/cru-cannabis-miracle-alien-cookies-0-5g-hybrid-pre-roll-pre-rolls\" target=\"_blank\">Miracle Alien Cookies (0.5G Hybrid Pre-Roll)</a>"
      ],
      "text/plain": [
       "<IPython.core.display.HTML object>"
      ]
     },
     "metadata": {},
     "output_type": "display_data"
    },
    {
     "data": {
      "text/html": [
       "<a href=\"https://www.leafly.com/brands/cru-cannabis/products/cru-cannabis-miracle-alien-cookies-0-5g-hybrid-pre-roll-pre-rolls\" target=\"_blank\">Miracle Alien Cookies (0.5G Hybrid Pre-Roll)</a>"
      ],
      "text/plain": [
       "<IPython.core.display.HTML object>"
      ]
     },
     "metadata": {},
     "output_type": "display_data"
    }
   ],
   "source": [
    "from IPython.display import display, HTML\n",
    "\n",
    "from utils import TfidfRanker\n",
    "\n",
    "def match_sweed_catalog_lo_leafly():\n",
    "    ecom_catalog_df['ProductID'] = ecom_catalog_df[['name', 'category.name']].apply(lambda row: f'{row.iloc[0]} {row.iloc[1]}'.lower(), axis=1).apply(lambda x: get_match(x, index))\n",
    "    ecom_catalog_df = ecom_catalog_df.merge(products_df[['ProductID', 'ProductName', 'ProductCategory']], on='ProductID')\n",
    "    \n",
    "    return ecom_catalog_df\n",
    "\n",
    "if leafly_full_catalog_index is None:\n",
    "    leafly_full_catalog_corpus = [\n",
    "        (\n",
    "            row['doc_id'],\n",
    "            f\"{row['title']} {row['category']}\"\n",
    "        )\n",
    "        for rn, row in leafly_full_catalog_df.iterrows()\n",
    "    ]\n",
    "    leafly_full_catalog_index = TfidfRanker(leafly_full_catalog_corpus)\n",
    "    print(leafly_full_catalog_index)\n",
    "\n",
    "product_name, product_category, product_brand = sweed_catalog_df[sweed_catalog_df['ProductBrand'] != 'Sweet Supply'].sample(1)[['ProductName', 'ProductCategory', 'ProductBrand']].iloc[0]\n",
    "print(f'Search results for: {product_name}, {product_brand}, {product_category}')\n",
    "search_results = leafly_full_catalog_index.rank(product_name, top_n=5)\n",
    "match_product_ids = [leafly_full_catalog_index.get_document(s[0]) for s in search_results]\n",
    "    \n",
    "base_url = 'https://www.leafly.com'\n",
    "sub_df = leafly_full_catalog_df[leafly_full_catalog_df['doc_id'].isin(match_product_ids)][['category', 'title', 'link']]\n",
    "for row in sub_df.to_dict(orient='records'):\n",
    "    url = base_url+row['link']\n",
    "    title = row['title']\n",
    "    display(HTML(f'<a href=\"{url}\" target=\"_blank\">{title}</a>'))"
   ]
  },
  {
   "cell_type": "markdown",
   "id": "935820a5-8e29-4bff-adb4-038658686d8d",
   "metadata": {},
   "source": [
    "Brands available in catalog"
   ]
  },
  {
   "cell_type": "code",
   "execution_count": 112,
   "id": "26716645-4efe-4dc9-9c71-5ed1d5abc1ae",
   "metadata": {},
   "outputs": [
    {
     "data": {
      "text/html": [
       "<div>\n",
       "<style scoped>\n",
       "    .dataframe tbody tr th:only-of-type {\n",
       "        vertical-align: middle;\n",
       "    }\n",
       "\n",
       "    .dataframe tbody tr th {\n",
       "        vertical-align: top;\n",
       "    }\n",
       "\n",
       "    .dataframe thead th {\n",
       "        text-align: right;\n",
       "    }\n",
       "</style>\n",
       "<table border=\"1\" class=\"dataframe\">\n",
       "  <thead>\n",
       "    <tr style=\"text-align: right;\">\n",
       "      <th></th>\n",
       "      <th>ProductBrand</th>\n",
       "      <th>ProductID</th>\n",
       "    </tr>\n",
       "  </thead>\n",
       "  <tbody>\n",
       "    <tr>\n",
       "      <th>6</th>\n",
       "      <td>MÜV</td>\n",
       "      <td>439</td>\n",
       "    </tr>\n",
       "    <tr>\n",
       "      <th>12</th>\n",
       "      <td>Sweet Supply</td>\n",
       "      <td>130</td>\n",
       "    </tr>\n",
       "    <tr>\n",
       "      <th>0</th>\n",
       "      <td>(the) Essence</td>\n",
       "      <td>115</td>\n",
       "    </tr>\n",
       "    <tr>\n",
       "      <th>10</th>\n",
       "      <td>Savvy</td>\n",
       "      <td>75</td>\n",
       "    </tr>\n",
       "    <tr>\n",
       "      <th>14</th>\n",
       "      <td>Verano</td>\n",
       "      <td>26</td>\n",
       "    </tr>\n",
       "  </tbody>\n",
       "</table>\n",
       "</div>"
      ],
      "text/plain": [
       "     ProductBrand  ProductID\n",
       "6             MÜV        439\n",
       "12   Sweet Supply        130\n",
       "0   (the) Essence        115\n",
       "10          Savvy         75\n",
       "14         Verano         26"
      ]
     },
     "execution_count": 112,
     "metadata": {},
     "output_type": "execute_result"
    }
   ],
   "source": [
    "sales_df = pd.read_csv(os.path.join(os.environ['ROOT_DATA_DIR'], 'pipelines-data', 'sales_dataset_ffb59da3.csv.gzip'))\n",
    "\n",
    "product_sales_df = (\n",
    "    sales_df\n",
    "    .groupby('ProductID')['CustomerID'].count()\n",
    "    .reset_index(name='purchase_count')\n",
    "    .sort_values(by='purchase_count', ascending=False)\n",
    ")\n",
    "brands_df = (\n",
    "    product_sales_df\n",
    "        .merge(sweed_catalog_df[['ProductID', 'ProductName', 'ProductCategory', 'ProductBrand']], on='ProductID')\n",
    "        .groupby(['ProductBrand'])['ProductID'].count()\n",
    "    .reset_index()\n",
    "    .sort_values(by='ProductID', ascending=False)\n",
    ")\n",
    "brands_df.head()"
   ]
  },
  {
   "cell_type": "markdown",
   "id": "5d46966e-1fd3-4c5e-ae8b-650b77e5a9d1",
   "metadata": {},
   "source": [
    "# [Sweed catalog] -> [Leafly catalog] matching\n",
    "\n",
    "using search\n",
    "\n",
    "run script that download search pages using leafly catalog\n",
    "\n",
    "```shell\n",
    "SCENARIO=search_query make run-leafly-scraper\n",
    "```"
   ]
  },
  {
   "cell_type": "code",
   "execution_count": 54,
   "id": "b01d4726-878f-43bb-9a69-6799e7fe3ae5",
   "metadata": {},
   "outputs": [
    {
     "name": "stdout",
     "output_type": "stream",
     "text": [
      "10735\n"
     ]
    },
    {
     "data": {
      "text/html": [
       "<div>\n",
       "<style scoped>\n",
       "    .dataframe tbody tr th:only-of-type {\n",
       "        vertical-align: middle;\n",
       "    }\n",
       "\n",
       "    .dataframe tbody tr th {\n",
       "        vertical-align: top;\n",
       "    }\n",
       "\n",
       "    .dataframe thead th {\n",
       "        text-align: right;\n",
       "    }\n",
       "</style>\n",
       "<table border=\"1\" class=\"dataframe\">\n",
       "  <thead>\n",
       "    <tr style=\"text-align: right;\">\n",
       "      <th></th>\n",
       "      <th>ProductID</th>\n",
       "      <th>purchase_count</th>\n",
       "      <th>ProductName</th>\n",
       "      <th>ProductCategory</th>\n",
       "      <th>ProductBrand</th>\n",
       "      <th>sweed_product_name</th>\n",
       "      <th>title</th>\n",
       "      <th>doc_id</th>\n",
       "      <th>brand</th>\n",
       "      <th>link</th>\n",
       "      <th>item_url</th>\n",
       "      <th>price</th>\n",
       "      <th>uom</th>\n",
       "    </tr>\n",
       "  </thead>\n",
       "  <tbody>\n",
       "    <tr>\n",
       "      <th>0</th>\n",
       "      <td>192981</td>\n",
       "      <td>12098</td>\n",
       "      <td>Concord Grape RSO Soft Chews 100mg [10-Pack]</td>\n",
       "      <td>Edibles</td>\n",
       "      <td>Encore</td>\n",
       "      <td>Concord Grape RSO Soft Chews 100mg [10-Pack]</td>\n",
       "      <td>CONCORD GRAPE RSO | 10 PACK</td>\n",
       "      <td>doc_7efafe668209</td>\n",
       "      <td>Verano</td>\n",
       "      <td>/dispensary-info/cloud-nine-dispensary/p/63214...</td>\n",
       "      <td>https://www.leafly.com/dispensary-info/cloud-n...</td>\n",
       "      <td>$32.22</td>\n",
       "      <td>each</td>\n",
       "    </tr>\n",
       "    <tr>\n",
       "      <th>8</th>\n",
       "      <td>192981</td>\n",
       "      <td>12098</td>\n",
       "      <td>Concord Grape RSO Soft Chews 100mg [10-Pack]</td>\n",
       "      <td>Edibles</td>\n",
       "      <td>Encore</td>\n",
       "      <td>Concord Grape RSO Soft Chews 100mg [10-Pack]</td>\n",
       "      <td>100mg Concord Grape RSO</td>\n",
       "      <td>doc_63481b638580</td>\n",
       "      <td>Verano</td>\n",
       "      <td>/dispensary-info/brute-s-roots/p/627740137/100...</td>\n",
       "      <td>https://www.leafly.com/dispensary-info/brute-s...</td>\n",
       "      <td>$29.00</td>\n",
       "      <td>each</td>\n",
       "    </tr>\n",
       "    <tr>\n",
       "      <th>1</th>\n",
       "      <td>192981</td>\n",
       "      <td>12098</td>\n",
       "      <td>Concord Grape RSO Soft Chews 100mg [10-Pack]</td>\n",
       "      <td>Edibles</td>\n",
       "      <td>Encore</td>\n",
       "      <td>Concord Grape RSO Soft Chews 100mg [10-Pack]</td>\n",
       "      <td>CONCORD GRAPE - 10 PACK - RSO SOFT LOZENGES - ...</td>\n",
       "      <td>doc_9c516ef2fa58</td>\n",
       "      <td>Encore Edibles</td>\n",
       "      <td>/dispensary-info/elevated-herb-nj/p/637147171/...</td>\n",
       "      <td>https://www.leafly.com/dispensary-info/elevate...</td>\n",
       "      <td>$28.50</td>\n",
       "      <td>each</td>\n",
       "    </tr>\n",
       "  </tbody>\n",
       "</table>\n",
       "</div>"
      ],
      "text/plain": [
       "  ProductID  purchase_count                                   ProductName  \\\n",
       "0    192981           12098  Concord Grape RSO Soft Chews 100mg [10-Pack]   \n",
       "8    192981           12098  Concord Grape RSO Soft Chews 100mg [10-Pack]   \n",
       "1    192981           12098  Concord Grape RSO Soft Chews 100mg [10-Pack]   \n",
       "\n",
       "  ProductCategory ProductBrand                            sweed_product_name  \\\n",
       "0         Edibles      Encore   Concord Grape RSO Soft Chews 100mg [10-Pack]   \n",
       "8         Edibles      Encore   Concord Grape RSO Soft Chews 100mg [10-Pack]   \n",
       "1         Edibles      Encore   Concord Grape RSO Soft Chews 100mg [10-Pack]   \n",
       "\n",
       "                                               title            doc_id  \\\n",
       "0                        CONCORD GRAPE RSO | 10 PACK  doc_7efafe668209   \n",
       "8                            100mg Concord Grape RSO  doc_63481b638580   \n",
       "1  CONCORD GRAPE - 10 PACK - RSO SOFT LOZENGES - ...  doc_9c516ef2fa58   \n",
       "\n",
       "            brand                                               link  \\\n",
       "0          Verano  /dispensary-info/cloud-nine-dispensary/p/63214...   \n",
       "8          Verano  /dispensary-info/brute-s-roots/p/627740137/100...   \n",
       "1  Encore Edibles  /dispensary-info/elevated-herb-nj/p/637147171/...   \n",
       "\n",
       "                                            item_url   price   uom  \n",
       "0  https://www.leafly.com/dispensary-info/cloud-n...  $32.22  each  \n",
       "8  https://www.leafly.com/dispensary-info/brute-s...  $29.00  each  \n",
       "1  https://www.leafly.com/dispensary-info/elevate...  $28.50  each  "
      ]
     },
     "execution_count": 54,
     "metadata": {},
     "output_type": "execute_result"
    }
   ],
   "source": [
    "import os\n",
    "import pandas as pd\n",
    "\n",
    "def concat_search_results(leafly_search_results):\n",
    "    matched_catalog = (\n",
    "         pd.concat([\n",
    "            pd.read_csv(os.path.join(leafly_search_results, i))\n",
    "            for i in os.listdir(leafly_search_results) if '.csv' in i\n",
    "        ])\n",
    "     )\n",
    "    search_results_df = (\n",
    "        product_sales_df\n",
    "        .merge(sweed_catalog_df[['ProductID', 'ProductName', 'ProductCategory', 'ProductBrand']], on='ProductID')\n",
    "        .merge(matched_catalog.rename(columns={'sweed_product_id': 'ProductID', 'purchase_count': 'sweed_purchases'}), on='ProductID')\n",
    "        .sort_values(by='purchase_count', ascending=False)\n",
    "    )\n",
    "    print(f'Num rows concatted {search_results_df.shape[0]}')\n",
    "    search_results_df.to_csv(os.path.join('/Users/username/PycharmProjects/leaf-buddy/data/search', 'sweed_leafly_mapping.csv'), index=False)\n",
    "    return search_results_df\n",
    "\n",
    "data_version = 'e6da18c153cb'\n",
    "leafly_search_results_dir = f'/Users/username/PycharmProjects/leaf-buddy/data/search/search_{data_version}'\n",
    "search_results_df = concat_search_results(leafly_search_results_dir)\n",
    "search_link_dedupled_df = search_results_df[['title', 'link']].groupby('title').agg(lambda x: x.iloc[0]).reset_index()\n",
    "\n",
    "search_results_df.head(3)"
   ]
  },
  {
   "cell_type": "markdown",
   "id": "9404fae1-ab95-40dc-939e-364025f79cbe",
   "metadata": {},
   "source": [
    "Post process search results using LLM as judge"
   ]
  },
  {
   "cell_type": "code",
   "execution_count": 57,
   "id": "81fba57e-8135-4892-b515-f5b49685b068",
   "metadata": {},
   "outputs": [
    {
     "name": "stdout",
     "output_type": "stream",
     "text": [
      "Num rows: 591\n",
      "data saved to /Users/username/PycharmProjects/leaf-buddy/data/app_matched_leafly_sweed_dataset.csv\n"
     ]
    },
    {
     "data": {
      "text/html": [
       "<div>\n",
       "<style scoped>\n",
       "    .dataframe tbody tr th:only-of-type {\n",
       "        vertical-align: middle;\n",
       "    }\n",
       "\n",
       "    .dataframe tbody tr th {\n",
       "        vertical-align: top;\n",
       "    }\n",
       "\n",
       "    .dataframe thead th {\n",
       "        text-align: right;\n",
       "    }\n",
       "</style>\n",
       "<table border=\"1\" class=\"dataframe\">\n",
       "  <thead>\n",
       "    <tr style=\"text-align: right;\">\n",
       "      <th></th>\n",
       "      <th>ProductID</th>\n",
       "      <th>ProductName</th>\n",
       "      <th>ProductBrand</th>\n",
       "      <th>title</th>\n",
       "      <th>brand</th>\n",
       "      <th>match_confidence</th>\n",
       "      <th>link</th>\n",
       "    </tr>\n",
       "  </thead>\n",
       "  <tbody>\n",
       "    <tr>\n",
       "      <th>0</th>\n",
       "      <td>193484</td>\n",
       "      <td>Mango Kush Dart 0.5g</td>\n",
       "      <td>Sweet Supply</td>\n",
       "      <td>Mango Kush 0.5g, Live Rosin</td>\n",
       "      <td>TRENDI</td>\n",
       "      <td>high</td>\n",
       "      <td>/dispensary-info/zen-leaf-las-vegas-flamingo-r...</td>\n",
       "    </tr>\n",
       "    <tr>\n",
       "      <th>1</th>\n",
       "      <td>210053</td>\n",
       "      <td>G-Wagon Budder 1g</td>\n",
       "      <td>Sweet Supply</td>\n",
       "      <td>G-Wagon 3.5g</td>\n",
       "      <td>Victoria Cannabis Company</td>\n",
       "      <td>high</td>\n",
       "      <td>/dispensary-info/buds-smoke-cannabis---burling...</td>\n",
       "    </tr>\n",
       "    <tr>\n",
       "      <th>2</th>\n",
       "      <td>280332</td>\n",
       "      <td>Tropical Teeth #8 0.3g</td>\n",
       "      <td>(the) Essence</td>\n",
       "      <td>Tiramisu Teeth 3.5g</td>\n",
       "      <td>(the) Essence</td>\n",
       "      <td>high</td>\n",
       "      <td>/dispensary-info/green-rose-dispensary-river-n...</td>\n",
       "    </tr>\n",
       "  </tbody>\n",
       "</table>\n",
       "</div>"
      ],
      "text/plain": [
       "   ProductID             ProductName   ProductBrand  \\\n",
       "0     193484    Mango Kush Dart 0.5g   Sweet Supply   \n",
       "1     210053       G-Wagon Budder 1g   Sweet Supply   \n",
       "2     280332  Tropical Teeth #8 0.3g  (the) Essence   \n",
       "\n",
       "                         title                      brand match_confidence  \\\n",
       "0  Mango Kush 0.5g, Live Rosin                     TRENDI             high   \n",
       "1                 G-Wagon 3.5g  Victoria Cannabis Company             high   \n",
       "2          Tiramisu Teeth 3.5g              (the) Essence             high   \n",
       "\n",
       "                                                link  \n",
       "0  /dispensary-info/zen-leaf-las-vegas-flamingo-r...  \n",
       "1  /dispensary-info/buds-smoke-cannabis---burling...  \n",
       "2  /dispensary-info/green-rose-dispensary-river-n...  "
      ]
     },
     "execution_count": 57,
     "metadata": {},
     "output_type": "execute_result"
    }
   ],
   "source": [
    "import os\n",
    "\n",
    "import pandas as pd\n",
    "\n",
    "# from matching import prepare_matching\n",
    "\n",
    "\n",
    "output_dir = os.path.join(os.environ['ROOT_DATA_DIR'], 'pipelines-data', 'matched_data')\n",
    "if not os.path.exists(output_dir):\n",
    "    os.mkdir(output_dir)\n",
    "    \n",
    "mapping_df = search_results_df[['ProductID', 'ProductName', 'ProductBrand', 'sweed_product_name', 'title', 'brand', 'doc_id']].drop_duplicates()\n",
    "if len(os.listdir(output_dir)) == 0:\n",
    "    # iterate by product ids and save\n",
    "    prepare_matching(output_dir, mapping_df)\n",
    "    print('Matching complited')\n",
    "# concat search results (with matching algorithm applied)\n",
    "final_df = pd.concat([pd.read_csv(os.path.join(output_dir, i)) for i in os.listdir(output_dir)])\n",
    "app_file_output_path = os.path.join(os.environ['ROOT_DATA_DIR'], 'app_matched_leafly_sweed_dataset.csv')\n",
    "cols = ['ProductID', 'ProductName', 'ProductBrand', 'title', 'brand', 'match_confidence']\n",
    "ecom_catalog_prepared_df = (\n",
    "    final_df[~final_df['match_confidence'].isna()][cols] # keep matched good only\n",
    "    .merge(search_link_dedupled_df, on='title')\n",
    ")\n",
    "print(f'Num rows: {ecom_catalog_prepared_df.shape[0]}')\n",
    "ecom_catalog_prepared_df.to_csv(app_file_output_path, index=False)\n",
    "\n",
    "print(f'data saved to {app_file_output_path}')\n",
    "ecom_catalog_prepared_df.head(3)"
   ]
  },
  {
   "cell_type": "markdown",
   "id": "717ba005-3a87-4d92-b2c0-282556aa8eca",
   "metadata": {},
   "source": [
    "For matched items download html pages and extract plaintxt for an AI budtender"
   ]
  },
  {
   "cell_type": "code",
   "execution_count": 117,
   "id": "072b5279-8d3e-44ae-9f21-cbca818f3b89",
   "metadata": {},
   "outputs": [
    {
     "name": "stdout",
     "output_type": "stream",
     "text": [
      "Num items in catalog: 196\n",
      "Plaintext files downloaded: 196\n"
     ]
    }
   ],
   "source": [
    "import os\n",
    "from collections import defaultdict\n",
    "\n",
    "import pandas as pd\n",
    "from IPython.display import display, HTML\n",
    "from tqdm import tqdm\n",
    "\n",
    "from utils import (\n",
    "    save_html, request_smart, create_scraper, url_to_filename,\n",
    "    get_id_hash, process_item, prepare_dirs,\n",
    "    get_id_hash\n",
    ")\n",
    "from utils import save_file, prepare_plaintext_files\n",
    "\n",
    "from scrape_tools import dowlnload_leafly_items\n",
    "\n",
    "\n",
    "data_version = '0ca973b7'\n",
    "\n",
    "root_data_dir = os.environ['ROOT_DATA_DIR']\n",
    "sweed_x_leafly_items_description_dir, html_items_dir, html_dir = prepare_dirs(root_data_dir, data_version, prefix='catalog_ecom_')\n",
    "catalog_path = os.path.join(root_data_dir, f'leafly_ecom_catalog_{data_version}.csv')\n",
    "if os.path.exists(catalog_path):\n",
    "    catalog_df = pd.read_csv(catalog_path)\n",
    "else:\n",
    "    catalog_df = dowlnload_leafly_items(ecom_catalog_prepared_df, html_dir, sweed_x_leafly_items_description_dir)\n",
    "    catalog_df.to_csv(catalog_path, index=False)\n",
    "print(f\"Num items in catalog: {catalog_df.shape[0]}\")\n",
    "sweed_x_leafly_files = os.listdir(sweed_x_leafly_items_description_dir)\n",
    "if len(sweed_x_leafly_files) == 0:\n",
    "    prepare_plaintext_files(catalog_df)\n",
    "print(f'Plaintext files downloaded: {len(sweed_x_leafly_files)}')"
   ]
  },
  {
   "cell_type": "markdown",
   "id": "305a097a-97dc-499f-9cc3-e27527f80185",
   "metadata": {},
   "source": [
    "done! Plaintext data will help AI budtender"
   ]
  },
  {
   "cell_type": "markdown",
   "id": "dc633480-73be-4c1c-95cb-0ef0a5e2bb7d",
   "metadata": {},
   "source": [
    "# [Sweed main page]\n",
    "\n",
    "get sweed main page"
   ]
  },
  {
   "cell_type": "code",
   "execution_count": 20,
   "id": "97712ac9-1605-44eb-88d6-6a871b556405",
   "metadata": {},
   "outputs": [
    {
     "name": "stdout",
     "output_type": "stream",
     "text": [
      "(140, 26)\n",
      "tags []\n",
      "effects []\n",
      "['Edibles' 'Flower' 'Vapes' 'Concentrates' 'Pre-Rolls' 'Topicals'\n",
      " 'Oral Products' 'Apparel' 'Accessories']\n"
     ]
    },
    {
     "data": {
      "text/html": [
       "<div>\n",
       "<style scoped>\n",
       "    .dataframe tbody tr th:only-of-type {\n",
       "        vertical-align: middle;\n",
       "    }\n",
       "\n",
       "    .dataframe tbody tr th {\n",
       "        vertical-align: top;\n",
       "    }\n",
       "\n",
       "    .dataframe thead th {\n",
       "        text-align: right;\n",
       "    }\n",
       "</style>\n",
       "<table border=\"1\" class=\"dataframe\">\n",
       "  <thead>\n",
       "    <tr style=\"text-align: right;\">\n",
       "      <th></th>\n",
       "      <th>carousel_id</th>\n",
       "      <th>carousel_name</th>\n",
       "      <th>id</th>\n",
       "      <th>name</th>\n",
       "      <th>description</th>\n",
       "      <th>images</th>\n",
       "      <th>category.name</th>\n",
       "      <th>subcategory.name</th>\n",
       "      <th>brand.name</th>\n",
       "      <th>strain.name</th>\n",
       "      <th>strain.prevalence.id</th>\n",
       "      <th>strain.prevalence.name</th>\n",
       "      <th>strain.flavors</th>\n",
       "      <th>strain.terpenes</th>\n",
       "      <th>strain</th>\n",
       "      <th>product_image</th>\n",
       "    </tr>\n",
       "  </thead>\n",
       "  <tbody>\n",
       "    <tr>\n",
       "      <th>0</th>\n",
       "      <td>3679</td>\n",
       "      <td>🔥Hot Deals🔥</td>\n",
       "      <td>141135</td>\n",
       "      <td>Concord Grape RSO Soft Chews</td>\n",
       "      <td>Each Encore RSO Soft Chew provides 10 mg of TH...</td>\n",
       "      <td>[https://media.sweedpos.com/store/production/1...</td>\n",
       "      <td>Edibles</td>\n",
       "      <td>RSO Soft Chews</td>\n",
       "      <td>Encore</td>\n",
       "      <td>Indica</td>\n",
       "      <td>4.0</td>\n",
       "      <td>Indica</td>\n",
       "      <td>[]</td>\n",
       "      <td>[]</td>\n",
       "      <td>NaN</td>\n",
       "      <td>https://media.sweedpos.com/store/production/17...</td>\n",
       "    </tr>\n",
       "    <tr>\n",
       "      <th>1</th>\n",
       "      <td>3679</td>\n",
       "      <td>🔥Hot Deals🔥</td>\n",
       "      <td>141416</td>\n",
       "      <td>Sour Black Cherry RSO Soft Chews</td>\n",
       "      <td>The chewy chart-toppers. Sugary sativas, sweet...</td>\n",
       "      <td>[https://media.sweedpos.com/store/production/1...</td>\n",
       "      <td>Edibles</td>\n",
       "      <td>RSO Soft Chews</td>\n",
       "      <td>Encore</td>\n",
       "      <td>Hybrid</td>\n",
       "      <td>2.0</td>\n",
       "      <td>Hybrid</td>\n",
       "      <td>[]</td>\n",
       "      <td>[]</td>\n",
       "      <td>NaN</td>\n",
       "      <td>https://media.sweedpos.com/store/production/17...</td>\n",
       "    </tr>\n",
       "    <tr>\n",
       "      <th>2</th>\n",
       "      <td>3679</td>\n",
       "      <td>🔥Hot Deals🔥</td>\n",
       "      <td>141254</td>\n",
       "      <td>Mango RSO Soft Chews</td>\n",
       "      <td>Each Encore RSO Soft Chew provides 10 mg of TH...</td>\n",
       "      <td>[https://media.sweedpos.com/store/production/1...</td>\n",
       "      <td>Edibles</td>\n",
       "      <td>RSO Soft Chews</td>\n",
       "      <td>Encore</td>\n",
       "      <td>Sativa</td>\n",
       "      <td>6.0</td>\n",
       "      <td>Sativa</td>\n",
       "      <td>[]</td>\n",
       "      <td>[]</td>\n",
       "      <td>NaN</td>\n",
       "      <td>https://media.sweedpos.com/store/production/17...</td>\n",
       "    </tr>\n",
       "  </tbody>\n",
       "</table>\n",
       "</div>"
      ],
      "text/plain": [
       "   carousel_id carousel_name      id                              name  \\\n",
       "0         3679   🔥Hot Deals🔥  141135      Concord Grape RSO Soft Chews   \n",
       "1         3679   🔥Hot Deals🔥  141416  Sour Black Cherry RSO Soft Chews   \n",
       "2         3679   🔥Hot Deals🔥  141254              Mango RSO Soft Chews   \n",
       "\n",
       "                                         description  \\\n",
       "0  Each Encore RSO Soft Chew provides 10 mg of TH...   \n",
       "1  The chewy chart-toppers. Sugary sativas, sweet...   \n",
       "2  Each Encore RSO Soft Chew provides 10 mg of TH...   \n",
       "\n",
       "                                              images category.name  \\\n",
       "0  [https://media.sweedpos.com/store/production/1...       Edibles   \n",
       "1  [https://media.sweedpos.com/store/production/1...       Edibles   \n",
       "2  [https://media.sweedpos.com/store/production/1...       Edibles   \n",
       "\n",
       "  subcategory.name brand.name strain.name  strain.prevalence.id  \\\n",
       "0   RSO Soft Chews    Encore       Indica                   4.0   \n",
       "1   RSO Soft Chews    Encore       Hybrid                   2.0   \n",
       "2   RSO Soft Chews    Encore       Sativa                   6.0   \n",
       "\n",
       "  strain.prevalence.name strain.flavors strain.terpenes  strain  \\\n",
       "0                 Indica             []              []     NaN   \n",
       "1                 Hybrid             []              []     NaN   \n",
       "2                 Sativa             []              []     NaN   \n",
       "\n",
       "                                       product_image  \n",
       "0  https://media.sweedpos.com/store/production/17...  \n",
       "1  https://media.sweedpos.com/store/production/17...  \n",
       "2  https://media.sweedpos.com/store/production/17...  "
      ]
     },
     "execution_count": 20,
     "metadata": {},
     "output_type": "execute_result"
    }
   ],
   "source": [
    "from utils import read_json\n",
    "from matching import prepare_main_page_catalog\n",
    "\n",
    "json_catalog_file_name = 'get_product_carousel_list.json'\n",
    "main_page_json = read_json('/Users/username/PycharmProjects/ml-research/data/pipelines_data', json_catalog_file_name)\n",
    "ecom_main_page_catalog_df = prepare_main_page_catalog(main_page_json)\n",
    "ecom_main_page_catalog_df.head(3)"
   ]
  },
  {
   "cell_type": "code",
   "execution_count": 99,
   "id": "d644325a-d49b-4273-926f-039ef2577510",
   "metadata": {},
   "outputs": [
    {
     "data": {
      "text/html": [
       "<div>\n",
       "<style scoped>\n",
       "    .dataframe tbody tr th:only-of-type {\n",
       "        vertical-align: middle;\n",
       "    }\n",
       "\n",
       "    .dataframe tbody tr th {\n",
       "        vertical-align: top;\n",
       "    }\n",
       "\n",
       "    .dataframe thead th {\n",
       "        text-align: right;\n",
       "    }\n",
       "</style>\n",
       "<table border=\"1\" class=\"dataframe\">\n",
       "  <thead>\n",
       "    <tr style=\"text-align: right;\">\n",
       "      <th></th>\n",
       "      <th>brand</th>\n",
       "      <th>ProductID</th>\n",
       "    </tr>\n",
       "  </thead>\n",
       "  <tbody>\n",
       "    <tr>\n",
       "      <th>86</th>\n",
       "      <td>Verano</td>\n",
       "      <td>308</td>\n",
       "    </tr>\n",
       "    <tr>\n",
       "      <th>0</th>\n",
       "      <td>(the) Essence</td>\n",
       "      <td>117</td>\n",
       "    </tr>\n",
       "    <tr>\n",
       "      <th>76</th>\n",
       "      <td>Savvy</td>\n",
       "      <td>36</td>\n",
       "    </tr>\n",
       "    <tr>\n",
       "      <th>67</th>\n",
       "      <td>Puffco</td>\n",
       "      <td>7</td>\n",
       "    </tr>\n",
       "    <tr>\n",
       "      <th>31</th>\n",
       "      <td>Encore Edibles</td>\n",
       "      <td>7</td>\n",
       "    </tr>\n",
       "    <tr>\n",
       "      <th>56</th>\n",
       "      <td>MJ Arsenal</td>\n",
       "      <td>5</td>\n",
       "    </tr>\n",
       "    <tr>\n",
       "      <th>6</th>\n",
       "      <td>Bits</td>\n",
       "      <td>5</td>\n",
       "    </tr>\n",
       "    <tr>\n",
       "      <th>83</th>\n",
       "      <td>TYSON 2.0</td>\n",
       "      <td>4</td>\n",
       "    </tr>\n",
       "  </tbody>\n",
       "</table>\n",
       "</div>"
      ],
      "text/plain": [
       "             brand  ProductID\n",
       "86          Verano        308\n",
       "0    (the) Essence        117\n",
       "76           Savvy         36\n",
       "67          Puffco          7\n",
       "31  Encore Edibles          7\n",
       "56      MJ Arsenal          5\n",
       "6             Bits          5\n",
       "83       TYSON 2.0          4"
      ]
     },
     "execution_count": 99,
     "metadata": {},
     "output_type": "execute_result"
    }
   ],
   "source": [
    "def brand_stat(input_df, group_col, count_col, min_num_entries = None):\n",
    "    brands_df = (\n",
    "        input_df\n",
    "        .groupby([group_col])[count_col].count()\n",
    "        .reset_index()\n",
    "        .sort_values(by=count_col, ascending=False)\n",
    "    )\n",
    "    if min_num_entries is not None:\n",
    "        brands_df = brands_df.query(f'{count_col} > {min_num_entries}')\n",
    "    return brands_df\n",
    "sweed_x_leafly_bands_df = brand_stat(ecom_catalog_prepared_df, 'brand', 'ProductID', min_num_entries=3)\n",
    "sweed_x_leafly_bands_df.head(10)"
   ]
  },
  {
   "cell_type": "code",
   "execution_count": 98,
   "id": "530be432-242d-4c76-a051-1e3a8278ab32",
   "metadata": {},
   "outputs": [
    {
     "data": {
      "text/html": [
       "<div>\n",
       "<style scoped>\n",
       "    .dataframe tbody tr th:only-of-type {\n",
       "        vertical-align: middle;\n",
       "    }\n",
       "\n",
       "    .dataframe tbody tr th {\n",
       "        vertical-align: top;\n",
       "    }\n",
       "\n",
       "    .dataframe thead th {\n",
       "        text-align: right;\n",
       "    }\n",
       "</style>\n",
       "<table border=\"1\" class=\"dataframe\">\n",
       "  <thead>\n",
       "    <tr style=\"text-align: right;\">\n",
       "      <th></th>\n",
       "      <th>brand.name</th>\n",
       "      <th>id</th>\n",
       "    </tr>\n",
       "  </thead>\n",
       "  <tbody>\n",
       "    <tr>\n",
       "      <th>4</th>\n",
       "      <td>MÜV</td>\n",
       "      <td>67</td>\n",
       "    </tr>\n",
       "    <tr>\n",
       "      <th>0</th>\n",
       "      <td>(the) Essence</td>\n",
       "      <td>17</td>\n",
       "    </tr>\n",
       "    <tr>\n",
       "      <th>3</th>\n",
       "      <td>Encore</td>\n",
       "      <td>16</td>\n",
       "    </tr>\n",
       "    <tr>\n",
       "      <th>6</th>\n",
       "      <td>Savvy</td>\n",
       "      <td>15</td>\n",
       "    </tr>\n",
       "    <tr>\n",
       "      <th>8</th>\n",
       "      <td>Sweet Supply</td>\n",
       "      <td>12</td>\n",
       "    </tr>\n",
       "    <tr>\n",
       "      <th>9</th>\n",
       "      <td>Verano</td>\n",
       "      <td>7</td>\n",
       "    </tr>\n",
       "    <tr>\n",
       "      <th>1</th>\n",
       "      <td>Bits</td>\n",
       "      <td>2</td>\n",
       "    </tr>\n",
       "    <tr>\n",
       "      <th>5</th>\n",
       "      <td>Puffco</td>\n",
       "      <td>2</td>\n",
       "    </tr>\n",
       "  </tbody>\n",
       "</table>\n",
       "</div>"
      ],
      "text/plain": [
       "      brand.name  id\n",
       "4            MÜV  67\n",
       "0  (the) Essence  17\n",
       "3        Encore   16\n",
       "6          Savvy  15\n",
       "8   Sweet Supply  12\n",
       "9         Verano   7\n",
       "1           Bits   2\n",
       "5         Puffco   2"
      ]
     },
     "execution_count": 98,
     "metadata": {},
     "output_type": "execute_result"
    }
   ],
   "source": [
    "brand_stat(ecom_main_page_catalog_df, 'brand.name', 'id', min_num_entries=1)"
   ]
  },
  {
   "cell_type": "markdown",
   "id": "079ac589-5d6f-49ef-977b-1505493c6cba",
   "metadata": {},
   "source": [
    "# [Sweed main page] -> [Sweed catalog] matching\n",
    "\n",
    "this step is only because we don't have actual product ids in main page"
   ]
  },
  {
   "cell_type": "code",
   "execution_count": 100,
   "id": "8c8ae752-8688-453d-89d9-e0cca4ab4656",
   "metadata": {},
   "outputs": [
    {
     "name": "stdout",
     "output_type": "stream",
     "text": [
      "<utils.TfidfRanker object at 0x13673c610>\n",
      "Saved to /Users/username/PycharmProjects/leaf-buddy/data/leafly_ecom_catalog_0ca973b7.csv, num rows 140\n"
     ]
    },
    {
     "data": {
      "text/html": [
       "<div>\n",
       "<style scoped>\n",
       "    .dataframe tbody tr th:only-of-type {\n",
       "        vertical-align: middle;\n",
       "    }\n",
       "\n",
       "    .dataframe tbody tr th {\n",
       "        vertical-align: top;\n",
       "    }\n",
       "\n",
       "    .dataframe thead th {\n",
       "        text-align: right;\n",
       "    }\n",
       "</style>\n",
       "<table border=\"1\" class=\"dataframe\">\n",
       "  <thead>\n",
       "    <tr style=\"text-align: right;\">\n",
       "      <th></th>\n",
       "      <th>carousel_name</th>\n",
       "      <th>id</th>\n",
       "      <th>name</th>\n",
       "      <th>description</th>\n",
       "      <th>category.name</th>\n",
       "      <th>subcategory.name</th>\n",
       "      <th>brand.name</th>\n",
       "      <th>strain.name</th>\n",
       "      <th>strain.prevalence.name</th>\n",
       "      <th>product_image</th>\n",
       "      <th>ProductID</th>\n",
       "      <th>ProductName</th>\n",
       "      <th>ProductCategory</th>\n",
       "    </tr>\n",
       "  </thead>\n",
       "  <tbody>\n",
       "    <tr>\n",
       "      <th>0</th>\n",
       "      <td>🔥Hot Deals🔥</td>\n",
       "      <td>141135</td>\n",
       "      <td>Concord Grape RSO Soft Chews</td>\n",
       "      <td>Each Encore RSO Soft Chew provides 10 mg of TH...</td>\n",
       "      <td>Edibles</td>\n",
       "      <td>RSO Soft Chews</td>\n",
       "      <td>Encore</td>\n",
       "      <td>Indica</td>\n",
       "      <td>Indica</td>\n",
       "      <td>https://media.sweedpos.com/store/production/17...</td>\n",
       "      <td>192981</td>\n",
       "      <td>Concord Grape RSO Soft Chews 100mg [10-Pack]</td>\n",
       "      <td>Edibles</td>\n",
       "    </tr>\n",
       "    <tr>\n",
       "      <th>1</th>\n",
       "      <td>🔥Hot Deals🔥</td>\n",
       "      <td>141416</td>\n",
       "      <td>Sour Black Cherry RSO Soft Chews</td>\n",
       "      <td>The chewy chart-toppers. Sugary sativas, sweet...</td>\n",
       "      <td>Edibles</td>\n",
       "      <td>RSO Soft Chews</td>\n",
       "      <td>Encore</td>\n",
       "      <td>Hybrid</td>\n",
       "      <td>Hybrid</td>\n",
       "      <td>https://media.sweedpos.com/store/production/17...</td>\n",
       "      <td>192987</td>\n",
       "      <td>Sour Black Cherry RSO Soft Chews 100mg [10-Pack]</td>\n",
       "      <td>Edibles</td>\n",
       "    </tr>\n",
       "    <tr>\n",
       "      <th>2</th>\n",
       "      <td>🔥Hot Deals🔥</td>\n",
       "      <td>141254</td>\n",
       "      <td>Mango RSO Soft Chews</td>\n",
       "      <td>Each Encore RSO Soft Chew provides 10 mg of TH...</td>\n",
       "      <td>Edibles</td>\n",
       "      <td>RSO Soft Chews</td>\n",
       "      <td>Encore</td>\n",
       "      <td>Sativa</td>\n",
       "      <td>Sativa</td>\n",
       "      <td>https://media.sweedpos.com/store/production/17...</td>\n",
       "      <td>193165</td>\n",
       "      <td>Mango Soft Chews 100mg [10-Pack]</td>\n",
       "      <td>Edibles</td>\n",
       "    </tr>\n",
       "  </tbody>\n",
       "</table>\n",
       "</div>"
      ],
      "text/plain": [
       "  carousel_name      id                              name  \\\n",
       "0   🔥Hot Deals🔥  141135      Concord Grape RSO Soft Chews   \n",
       "1   🔥Hot Deals🔥  141416  Sour Black Cherry RSO Soft Chews   \n",
       "2   🔥Hot Deals🔥  141254              Mango RSO Soft Chews   \n",
       "\n",
       "                                         description category.name  \\\n",
       "0  Each Encore RSO Soft Chew provides 10 mg of TH...       Edibles   \n",
       "1  The chewy chart-toppers. Sugary sativas, sweet...       Edibles   \n",
       "2  Each Encore RSO Soft Chew provides 10 mg of TH...       Edibles   \n",
       "\n",
       "  subcategory.name brand.name strain.name strain.prevalence.name  \\\n",
       "0   RSO Soft Chews    Encore       Indica                 Indica   \n",
       "1   RSO Soft Chews    Encore       Hybrid                 Hybrid   \n",
       "2   RSO Soft Chews    Encore       Sativa                 Sativa   \n",
       "\n",
       "                                       product_image  ProductID  \\\n",
       "0  https://media.sweedpos.com/store/production/17...     192981   \n",
       "1  https://media.sweedpos.com/store/production/17...     192987   \n",
       "2  https://media.sweedpos.com/store/production/17...     193165   \n",
       "\n",
       "                                        ProductName ProductCategory  \n",
       "0      Concord Grape RSO Soft Chews 100mg [10-Pack]         Edibles  \n",
       "1  Sour Black Cherry RSO Soft Chews 100mg [10-Pack]         Edibles  \n",
       "2                  Mango Soft Chews 100mg [10-Pack]         Edibles  "
      ]
     },
     "execution_count": 100,
     "metadata": {},
     "output_type": "execute_result"
    }
   ],
   "source": [
    "from matching import match_ecom_catalog_to_sweed_catalog\n",
    "from utils import TfidfRanker\n",
    "\n",
    "corpus = [\n",
    "    (\n",
    "        row['ProductID'],\n",
    "        f\"{row['ProductName']} {row['ProductBrand']} {row['ProductCategory']}\"\n",
    "    )\n",
    "    for rn, row in sweed_catalog_df.iterrows()\n",
    "]\n",
    "sweed_index = TfidfRanker(corpus)\n",
    "print(sweed_index)\n",
    "\n",
    "matched_ecom_main_page_catalog_df = match_ecom_catalog_to_sweed_catalog(ecom_main_page_catalog_df, sweed_catalog_df, sweed_index)\n",
    "cols = [\n",
    "    i for i in matched_ecom_main_page_catalog_df.columns\n",
    "    if i not in [\n",
    "        'images', 'carousel_id', 'strain.prevalence.id', 'strain.terpenes', 'strain', 'strain.flavors'\n",
    "    ]\n",
    "]\n",
    "data_version = '7268cbe9f2b1'\n",
    "matched_catalog_path = os.path.join(os.environ['ROOT_DATA_DIR'], f'sweed_main_page_catalog_{data_version}.csv')\n",
    "matched_ecom_main_page_catalog_df[cols].to_csv(matched_catalog_path, index=False)\n",
    "print(f'Saved to {matched_catalog_path}, num rows {matched_ecom_main_page_catalog_df.shape[0]}')\n",
    "matched_ecom_main_page_catalog_df[cols].head(3)"
   ]
  },
  {
   "cell_type": "markdown",
   "id": "36f75dad-1b76-4844-b4c7-9b03366f1ef8",
   "metadata": {},
   "source": [
    "# AI budtender\n",
    "\n",
    "Find relevant items on main page using the search index"
   ]
  },
  {
   "cell_type": "code",
   "execution_count": 121,
   "id": "6451da84-0b07-4fac-bfde-00d6341849d1",
   "metadata": {},
   "outputs": [
    {
     "data": {
      "text/plain": [
       "(591, 196)"
      ]
     },
     "execution_count": 121,
     "metadata": {},
     "output_type": "execute_result"
    }
   ],
   "source": [
    "ecom_catalog_prepared_df.shape[0], len(sweed_x_leafly_files)"
   ]
  },
  {
   "cell_type": "code",
   "execution_count": 31,
   "id": "e8949653-1d9a-46f8-be41-f1f4a5c39925",
   "metadata": {},
   "outputs": [
    {
     "name": "stdout",
     "output_type": "stream",
     "text": [
      "196\n"
     ]
    },
    {
     "data": {
      "text/html": [
       "<div>\n",
       "<style scoped>\n",
       "    .dataframe tbody tr th:only-of-type {\n",
       "        vertical-align: middle;\n",
       "    }\n",
       "\n",
       "    .dataframe tbody tr th {\n",
       "        vertical-align: top;\n",
       "    }\n",
       "\n",
       "    .dataframe thead th {\n",
       "        text-align: right;\n",
       "    }\n",
       "</style>\n",
       "<table border=\"1\" class=\"dataframe\">\n",
       "  <thead>\n",
       "    <tr style=\"text-align: right;\">\n",
       "      <th></th>\n",
       "      <th>doc_id</th>\n",
       "      <th>title</th>\n",
       "      <th>link</th>\n",
       "      <th>file</th>\n",
       "      <th>processed_file_name</th>\n",
       "    </tr>\n",
       "  </thead>\n",
       "  <tbody>\n",
       "    <tr>\n",
       "      <th>150</th>\n",
       "      <td>doc_18cfc66aa7aa</td>\n",
       "      <td>Gelato 1g</td>\n",
       "      <td>/dispensary-info/sierra-wellness-connection---...</td>\n",
       "      <td>/Users/username/PycharmProjects/leaf-buddy/dat...</td>\n",
       "      <td>/Users/username/PycharmProjects/leaf-buddy/dat...</td>\n",
       "    </tr>\n",
       "    <tr>\n",
       "      <th>194</th>\n",
       "      <td>doc_f755e22ed5f5</td>\n",
       "      <td>Primal Animal Mint Crumble (H) 1g</td>\n",
       "      <td>/dispensary-info/nugz/p/639608736/primal-anima...</td>\n",
       "      <td>/Users/username/PycharmProjects/leaf-buddy/dat...</td>\n",
       "      <td>/Users/username/PycharmProjects/leaf-buddy/dat...</td>\n",
       "    </tr>\n",
       "  </tbody>\n",
       "</table>\n",
       "</div>"
      ],
      "text/plain": [
       "               doc_id                              title  \\\n",
       "150  doc_18cfc66aa7aa                          Gelato 1g   \n",
       "194  doc_f755e22ed5f5  Primal Animal Mint Crumble (H) 1g   \n",
       "\n",
       "                                                  link  \\\n",
       "150  /dispensary-info/sierra-wellness-connection---...   \n",
       "194  /dispensary-info/nugz/p/639608736/primal-anima...   \n",
       "\n",
       "                                                  file  \\\n",
       "150  /Users/username/PycharmProjects/leaf-buddy/dat...   \n",
       "194  /Users/username/PycharmProjects/leaf-buddy/dat...   \n",
       "\n",
       "                                   processed_file_name  \n",
       "150  /Users/username/PycharmProjects/leaf-buddy/dat...  \n",
       "194  /Users/username/PycharmProjects/leaf-buddy/dat...  "
      ]
     },
     "execution_count": 31,
     "metadata": {},
     "output_type": "execute_result"
    }
   ],
   "source": [
    "from utils import TfidfRanker\n",
    "\n",
    "leafly_descriptions_corpus = [\n",
    "    (\n",
    "        row['doc_id'],\n",
    "        open(row['processed_file_name'], 'r').read().replace('\\n', ' ')\n",
    "    )\n",
    "    for _, row in catalog_df.iterrows()\n",
    "]\n",
    "print(f'{len(leafly_descriptions_corpus)}')\n",
    "ecom_index = TfidfRanker(leafly_descriptions_corpus)\n",
    "user_query = 'mint'\n",
    "search_results = ecom_index.rank(user_query, top_n=2)\n",
    "\n",
    "catalog_df[\n",
    "    catalog_df['doc_id'].isin([ecom_index.get_document(i[0]) for i in search_results])\n",
    "]"
   ]
  },
  {
   "cell_type": "code",
   "execution_count": 35,
   "id": "3772b718-21f3-43bc-9662-42b581c48b0a",
   "metadata": {},
   "outputs": [
    {
     "data": {
      "text/html": [
       "<a href=\"https://www.leafly.com/dispensary-info/nugz/p/639608736/primal-animal-mint-crumble-h-1g\" target=\"_blank\">Primal Animal Mint Crumble (H) 1g</a>"
      ],
      "text/plain": [
       "<IPython.core.display.HTML object>"
      ]
     },
     "metadata": {},
     "output_type": "display_data"
    },
    {
     "name": "stdout",
     "output_type": "stream",
     "text": [
      "Primal Animal Mint Crumble (H) 1g, Concentrate - \n",
      "------\n"
     ]
    },
    {
     "data": {
      "text/html": [
       "<a href=\"https://www.leafly.com/dispensary-info/sierra-wellness-connection---carson-city/p/638867434/gelato-1g\" target=\"_blank\">Gelato 1g</a>"
      ],
      "text/plain": [
       "<IPython.core.display.HTML object>"
      ]
     },
     "metadata": {},
     "output_type": "display_data"
    },
    {
     "name": "stdout",
     "output_type": "stream",
     "text": [
      "This Bay Area-native gets its name from its fruity, dessert-like aroma. Gelato buds have distinct, fiery orange hairs and a shining white coat of crystal resin. Novices should approach this powerhouse with caution, but those with a high tolerance will delight in its heavy-handed euphoria.  -- Lineage: Sherbet x Thin Mint Cookies -- Type: Indica -- Effects: Euphoric, Relaxing\n",
      "------\n"
     ]
    }
   ],
   "source": [
    "from IPython.display import display, HTML\n",
    "\n",
    "base_url = 'https://www.leafly.com'\n",
    "\n",
    "for i in search_results:\n",
    "    sub_df = catalog_df[catalog_df['doc_id'] == ecom_index.get_document(i[0])].iloc[0]\n",
    "    url = base_url+sub_df['link']\n",
    "    title = sub_df['title']\n",
    "    display(HTML(f'<a href=\"{url}\" target=\"_blank\">{title}</a>'))\n",
    "    print(leafly_descriptions_corpus[i[0]][1])\n",
    "    print('------')"
   ]
  },
  {
   "cell_type": "code",
   "execution_count": 101,
   "id": "fb819e87-cb1c-4b86-8010-4be7ff227559",
   "metadata": {},
   "outputs": [],
   "source": [
    "# search_results_df[\n",
    "#     search_results_df['ProductID'] == search_results_df[search_results_df['title'] == 'Primal Animal Mint Crumble (H) 1g']['ProductID'].item()\n",
    "# ]"
   ]
  },
  {
   "cell_type": "code",
   "execution_count": null,
   "id": "408fc4c4-597c-4c13-baeb-eff3fa76c458",
   "metadata": {},
   "outputs": [],
   "source": []
  },
  {
   "cell_type": "code",
   "execution_count": null,
   "id": "9f3d1876-6798-427c-80e0-3383df00ad7c",
   "metadata": {},
   "outputs": [],
   "source": []
  },
  {
   "cell_type": "code",
   "execution_count": null,
   "id": "75634c70-f248-4a06-8a3f-41b3b061145b",
   "metadata": {},
   "outputs": [],
   "source": []
  },
  {
   "cell_type": "code",
   "execution_count": 111,
   "id": "1fdbdd7f-2f9f-4d8b-8a5c-633c82c97e33",
   "metadata": {},
   "outputs": [],
   "source": [
    "# sweed_catalog_df[sweed_catalog_df['ProductName']==random_name]\n",
    "# print(sweed_catalog_df.shape[0])\n",
    "# sweed_catalog_df[sweed_catalog_df['ProductName'].apply(lambda x: 'slurricane' in x.lower())]"
   ]
  },
  {
   "cell_type": "code",
   "execution_count": 86,
   "id": "b241b0f6-7456-4e38-ba3d-77a7a68cdde7",
   "metadata": {},
   "outputs": [
    {
     "name": "stdout",
     "output_type": "stream",
     "text": [
      "404\n"
     ]
    },
    {
     "data": {
      "text/html": [
       "<div>\n",
       "<style scoped>\n",
       "    .dataframe tbody tr th:only-of-type {\n",
       "        vertical-align: middle;\n",
       "    }\n",
       "\n",
       "    .dataframe tbody tr th {\n",
       "        vertical-align: top;\n",
       "    }\n",
       "\n",
       "    .dataframe thead th {\n",
       "        text-align: right;\n",
       "    }\n",
       "</style>\n",
       "<table border=\"1\" class=\"dataframe\">\n",
       "  <thead>\n",
       "    <tr style=\"text-align: right;\">\n",
       "      <th></th>\n",
       "      <th>doc_id</th>\n",
       "      <th>category</th>\n",
       "      <th>title</th>\n",
       "      <th>link</th>\n",
       "      <th>file</th>\n",
       "      <th>processed_file_name</th>\n",
       "    </tr>\n",
       "  </thead>\n",
       "  <tbody>\n",
       "  </tbody>\n",
       "</table>\n",
       "</div>"
      ],
      "text/plain": [
       "Empty DataFrame\n",
       "Columns: [doc_id, category, title, link, file, processed_file_name]\n",
       "Index: []"
      ]
     },
     "execution_count": 86,
     "metadata": {},
     "output_type": "execute_result"
    }
   ],
   "source": [
    "verano_data_version = 'ee72f7351d78'\n",
    "verano_catalog_df = pd.read_csv(os.path.join(os.environ['ROOT_DATA_DIR'], f'verano_leafly_catalog_{verano_data_version}.csv'))\n",
    "print(verano_catalog_df.shape[0])\n",
    "verano_catalog_df[verano_catalog_df['title'].apply(lambda x: 'layered' in x.lower())]"
   ]
  },
  {
   "cell_type": "code",
   "execution_count": 74,
   "id": "ce96d43a-7aca-40ee-a23f-0529c3e9ccf9",
   "metadata": {},
   "outputs": [
    {
     "name": "stdout",
     "output_type": "stream",
     "text": [
      "Punch Cookies 3.5g [5-Pack]\n"
     ]
    }
   ],
   "source": [
    "random_name = sweed_catalog_df[sweed_catalog_df['ProductCategory']== 'Pre-Rolls'].sort_values('ProductName')['ProductName'].sample(1).iloc[0]\n",
    "print(random_name)\n",
    "#catalog_df.iloc[[i[0] for i in index.query(random_name)[:5]]]"
   ]
  },
  {
   "cell_type": "code",
   "execution_count": null,
   "id": "a769f0a5-545d-4427-9c81-7b9b1e8026cc",
   "metadata": {},
   "outputs": [],
   "source": []
  },
  {
   "cell_type": "code",
   "execution_count": 47,
   "id": "5218a242-63aa-409f-92f6-f0e694328e7e",
   "metadata": {},
   "outputs": [],
   "source": [
    "from time import sleep\n",
    "from IPython.display import clear_output\n",
    "\n",
    "def monitor_scraping(data_version):\n",
    "    prev = None\n",
    "    while True:\n",
    "        num_files = len(os.listdir(f'/Users/username/PycharmProjects/leaf-buddy/data/leafly_html_pages_{data_version}/items_html_pages_{data_version}'))\n",
    "        if prev is None:\n",
    "            prev = num_files\n",
    "        else:\n",
    "            if num_files == prev:\n",
    "                raise RuntimeError(f'Scrapping was stucked, num files: {num_files}')\n",
    "            prev = num_files\n",
    "        print(f'num files {num_files}')\n",
    "        sleep(10)\n",
    "        clear_output()\n",
    "\n",
    "\n",
    "        \n",
    "        # monitor_scraping(data_version='7268cbe9f2b1')"
   ]
  },
  {
   "cell_type": "code",
   "execution_count": null,
   "id": "fb6e7309-612f-4963-afc9-e12974a182af",
   "metadata": {},
   "outputs": [],
   "source": []
  },
  {
   "cell_type": "code",
   "execution_count": null,
   "id": "0dfdb0ce-dcb2-489d-ad6f-6e550c5dcff3",
   "metadata": {},
   "outputs": [],
   "source": []
  },
  {
   "cell_type": "code",
   "execution_count": 52,
   "id": "222dcd6d-b181-4767-ae1b-00c770618be9",
   "metadata": {},
   "outputs": [
    {
     "data": {
      "text/html": [
       "<a href=\"https://www.leafly.com/brands/glass-house-farms/products/glass-house-farms-cali-gold-1g-bag-flower\" target=\"_blank\">Cali Gold [1g Bag]</a>"
      ],
      "text/plain": [
       "<IPython.core.display.HTML object>"
      ]
     },
     "metadata": {},
     "output_type": "display_data"
    },
    {
     "data": {
      "text/html": [
       "<a href=\"https://www.leafly.com/brands/chill-pill/products/chill-pill-nightcaps-sample-tube-8-count-10mg\" target=\"_blank\">Chill Pill | NIGHTTIME 10x10mg | 100mg</a>"
      ],
      "text/plain": [
       "<IPython.core.display.HTML object>"
      ]
     },
     "metadata": {},
     "output_type": "display_data"
    },
    {
     "data": {
      "text/html": [
       "<a href=\"https://www.leafly.com/brands/curio-wellness/products/curio-wellness-good-night-10mg-thc-5mg-cbn-10-pack-capsules\" target=\"_blank\">Good Night | 10mg THC/5mg CBN | 10 pack</a>"
      ],
      "text/plain": [
       "<IPython.core.display.HTML object>"
      ]
     },
     "metadata": {},
     "output_type": "display_data"
    },
    {
     "data": {
      "text/html": [
       "<a href=\"https://www.leafly.com/brands/edobles/products/edobles-good-dreams-capsules-cbd-cbn-melatonin-capsules\" target=\"_blank\">Good Dreams Capsules - CBD, CBN, Melatonin</a>"
      ],
      "text/plain": [
       "<IPython.core.display.HTML object>"
      ]
     },
     "metadata": {},
     "output_type": "display_data"
    },
    {
     "data": {
      "text/html": [
       "<a href=\"https://www.leafly.com/brands/joy-organics/products/joy-organics-cbd-softgels-with-melatonin\" target=\"_blank\">25mg CBD Softgels with Melatonin</a>"
      ],
      "text/plain": [
       "<IPython.core.display.HTML object>"
      ]
     },
     "metadata": {},
     "output_type": "display_data"
    },
    {
     "data": {
      "text/html": [
       "<a href=\"https://www.leafly.com/brands/ogeez/products/ogeez-aquaberry-blueberry-passionfruit-cbn-ratio-ogeez-100mg-10-pack-gummies\" target=\"_blank\">OGeezzz! Sleep Edition Aquaberry 2:1 THC:CBN 100mg 10-pack</a>"
      ],
      "text/plain": [
       "<IPython.core.display.HTML object>"
      ]
     },
     "metadata": {},
     "output_type": "display_data"
    },
    {
     "data": {
      "text/html": [
       "<a href=\"https://www.leafly.com/brands/martha-stewart-cbd/products/martha-stewart-cbd-sleep-gummies-1500-mg-cbd-package-25-mg-cbd-piece-180-mg-melatonin-package-3-mg-melatonin-piec-gummies\" target=\"_blank\">\"Sleep Gummies 1500 mg CBD/ package | 25 mg CBD/piece 180 mg Melatonin/package | 3 mg Melatonin/piec</a>"
      ],
      "text/plain": [
       "<IPython.core.display.HTML object>"
      ]
     },
     "metadata": {},
     "output_type": "display_data"
    },
    {
     "data": {
      "text/html": [
       "<a href=\"https://www.leafly.com/brands/highly-rooted/products/highly-rooted-day-night-gummies-gummies\" target=\"_blank\">Day & Night Rosin Gummies</a>"
      ],
      "text/plain": [
       "<IPython.core.display.HTML object>"
      ]
     },
     "metadata": {},
     "output_type": "display_data"
    },
    {
     "data": {
      "text/html": [
       "<a href=\"https://www.leafly.com/brands/gold-spectrum-cbd/products/gold-spectrum-cbd-gold-spectrum-cbn-cbd-600mg-sleep-bites-gummies-blue-razz-gummies\" target=\"_blank\">Gold Spectrum CBN+CBD 600mg Sleep Bites Gummies- Blue Razz</a>"
      ],
      "text/plain": [
       "<IPython.core.display.HTML object>"
      ]
     },
     "metadata": {},
     "output_type": "display_data"
    },
    {
     "data": {
      "text/html": [
       "<a href=\"https://www.leafly.com/brands/tasty-s/products/tasty-s-1-1-1-blackberry-gummy-150mg-gummies\" target=\"_blank\">1:1:1 Sleepy Blackberry Gummies 150mg 10-pack</a>"
      ],
      "text/plain": [
       "<IPython.core.display.HTML object>"
      ]
     },
     "metadata": {},
     "output_type": "display_data"
    }
   ],
   "source": [
    "import requests\n",
    "\n",
    "from IPython.display import display, HTML\n",
    "\n",
    "api_url = 'http://0.0.0.0:8000'\n",
    "\n",
    "def request_api(query, relief, positive_effects):\n",
    "    headers = {\"Content-Type\": \"application/json\"}\n",
    "    payload = {\n",
    "        \"relief\": relief,\n",
    "        \"positive_effects\": positive_effects,\n",
    "        \"query\": query\n",
    "    }\n",
    "    print('sending request...')\n",
    "    response = requests.post(\n",
    "        f\"{api_url}/search\",\n",
    "        headers=headers,\n",
    "        json=payload\n",
    "    )\n",
    "    resp = [\n",
    "        (i['title'], i['url']) for i in response.json()\n",
    "    ]\n",
    "    return resp\n",
    "\n",
    "# 'insomnia'\n",
    "for title, url in request('good sleep', [], []):\n",
    "    display(HTML(f'<a href=\"{url}\" target=\"_blank\">{title}</a>'))"
   ]
  },
  {
   "cell_type": "markdown",
   "id": "2935915e-bc4f-4103-95a3-89e8a33b69a8",
   "metadata": {},
   "source": [
    "# Keyword search"
   ]
  },
  {
   "cell_type": "code",
   "execution_count": 244,
   "id": "882052e5-49c0-42ef-8974-5ad74a32a901",
   "metadata": {},
   "outputs": [
    {
     "name": "stdout",
     "output_type": "stream",
     "text": [
      "\n",
      "[{'title': 'OG 18', 'tags': 'Indica Dominant|70% Indica/30% Sativa', 'relief': 'arthritis chronic pain depression fibromyalgia headaches inflammation insomnia migraines', 'positive_effects': 'euphoria happy', 'flavours': 'diesel pine sweet'}, {'title': 'Peanut Butter Breath', 'tags': 'Hybrid,|50%/50%', 'relief': 'chronic pain depression loss of appetite nausea stress', 'positive_effects': 'body high hungry relaxing uplifting', 'flavours': 'herbal pine woody'}, {'title': 'Purple Sunset', 'tags': 'Indica Dominant|60% Indica/40% Sativa', 'relief': 'add/adhd anxiety depression stress', 'positive_effects': 'calming creative hungry relaxing uplifting', 'flavours': 'citrus fruity orange sour spicy sweet'}]\n"
     ]
    }
   ],
   "source": [
    "def elastic_search(es_client, query, limit=3, filter=None, random=False):\n",
    "    index_name = 'greenbro-content'\n",
    "    if random:\n",
    "        search_query = {\n",
    "          \"size\": 10,\n",
    "          \"query\": {\n",
    "            \"function_score\": {\n",
    "              \"functions\": [\n",
    "                {\n",
    "                  \"random_score\": {}\n",
    "                }\n",
    "              ]\n",
    "            }\n",
    "          }\n",
    "        }\n",
    "    else:\n",
    "        search_query = {\n",
    "            \"size\": 5,\n",
    "            \"query\": {\n",
    "                \"bool\": {\n",
    "                    \"must\": {\n",
    "                        \"multi_match\": {\n",
    "                            \"query\": query,\n",
    "                            \"fields\": [\"relief\", \"positive_effects\", \"flavours\"],\n",
    "                            \"type\": \"best_fields\"\n",
    "                        }\n",
    "                    },\n",
    "                    \"filter\": {  # TODO: add filter as parameter\n",
    "                        \"term\": {\n",
    "                            \"category\": \"flower\"\n",
    "                        }\n",
    "                    }\n",
    "                }\n",
    "            }\n",
    "        }\n",
    "    response = es_client.search(index=index_name, body=search_query)\n",
    "    \n",
    "    return response['hits']['hits'][:limit]\n",
    "\n",
    "def pretty(search_results):\n",
    "    result_docs = []\n",
    "\n",
    "    include_fields = ['title', 'tags', 'relief', 'positive_effects', 'flavours']\n",
    "    for hit in search_results:\n",
    "        result_docs.append({k: v for k, v in  hit['_source'].items() if k in include_fields})\n",
    "    return result_docs\n",
    "\n",
    "try:\n",
    "    query = 'Lemon, headache'\n",
    "    \n",
    "    res = elastic_search(es_client, query, random=True)\n",
    "    sample = res[0]['_source']\n",
    "    # print(sample.keys())\n",
    "    print()\n",
    "    print(pretty(res))\n",
    "except ConnectionError:\n",
    "    print('Elastic unreachable')"
   ]
  },
  {
   "cell_type": "markdown",
   "id": "45eeaeb9-78a2-40b3-92c0-2db808a0b3e3",
   "metadata": {},
   "source": [
    "# Hybrid search"
   ]
  },
  {
   "cell_type": "code",
   "execution_count": null,
   "id": "d7937c12-8df3-46fc-9458-103c1640ff7c",
   "metadata": {},
   "outputs": [],
   "source": [
    "import requests\n",
    "\n",
    "def get_embed(query):\n",
    "    url = \"http://localhost:8000/embed\"\n",
    "    data = {\"text\": query}\n",
    "    response = requests.post(url, json=data)\n",
    "    if response.status_code == 200:\n",
    "        res = np.array(json.loads(response.json()['embed']))\n",
    "    else:\n",
    "        print(\"Error:\", response.status_code, response.text)\n",
    "        raise RuntimeError\n",
    "    return res\n",
    "\n",
    "def elastic_hybrid_search(es_client, query, limit=3, filter=None, random=False):\n",
    "    index_name = 'greenbro-content'\n",
    "    vector_search_term = get_embed(query)\n",
    "    knn_query = {\n",
    "        \"field\": \"text_vector\",\n",
    "        \"query_vector\": vector_search_term,\n",
    "        \"k\": 5,\n",
    "        \"num_candidates\": 100\n",
    "    }\n",
    "    \n",
    "    response = es_client.search(\n",
    "        index=index_name,\n",
    "        query={\n",
    "                \"bool\": {\n",
    "                    \"must\": {\n",
    "                        \"multi_match\": {\n",
    "                            \"query\": query,\n",
    "                            \"fields\": [\"relief\", \"positive_effects\", \"flavours\"],\n",
    "                            \"type\": \"best_fields\"\n",
    "                        }\n",
    "                    },\n",
    "                    \"filter\": {  # TODO: add filter as parameter\n",
    "                        \"term\": {\n",
    "                            \"category\": \"flower\"\n",
    "                        }\n",
    "                    }\n",
    "                }\n",
    "        },\n",
    "        knn=knn_query,\n",
    "        size=5\n",
    "    )\n",
    "    return response['hits']['hits'][:limit]\n",
    "\n",
    "\n",
    "try:\n",
    "    query = 'Lemon, headache'\n",
    "    \n",
    "    res = elastic_hybrid_search(es_client, query, random=True)\n",
    "    sample = res[0]['_source']\n",
    "    #print(sample.keys())\n",
    "    #print()\n",
    "    print(pretty(res))\n",
    "except ConnectionError:\n",
    "    print('Elastic unreachable')"
   ]
  },
  {
   "cell_type": "code",
   "execution_count": 251,
   "id": "de925bc5-08a2-4866-a1b5-78b587c572ee",
   "metadata": {},
   "outputs": [
    {
     "data": {
      "text/plain": [
       "[{'score': 0.7898849, 'res': 'lemon-tree'},\n",
       " {'score': 0.77863276, 'res': 'golden-lemons'},\n",
       " {'score': 0.7349596, 'res': 'lemonhead'}]"
      ]
     },
     "execution_count": 251,
     "metadata": {},
     "output_type": "execute_result"
    }
   ],
   "source": [
    "[{'score': i['_score'], 'res': i['_source']['item_name']} for i in res]"
   ]
  },
  {
   "cell_type": "code",
   "execution_count": null,
   "id": "25d6f447-dbbc-4828-aae2-c451f0a9bfc7",
   "metadata": {},
   "outputs": [],
   "source": [
    "\n",
    "\n",
    "[{'score': scores[i], 'doc': self.documents[i]} for i in idx]"
   ]
  },
  {
   "cell_type": "markdown",
   "id": "be54736a-14d1-4cc3-8c0e-558d30fff2cb",
   "metadata": {},
   "source": [
    "# Prepare data"
   ]
  },
  {
   "cell_type": "code",
   "execution_count": 211,
   "id": "61b88907-f541-40ea-88e1-8aad924028f2",
   "metadata": {},
   "outputs": [
    {
     "name": "stdout",
     "output_type": "stream",
     "text": [
      "['content_queries.json', 'golden_dataset.json', 'content_reviews_green_bro.json', 'models', 'api_db.csv', 'content_green_bro.csv', 'content_db_df.csv', 'ground_truth.json']\n"
     ]
    }
   ],
   "source": [
    "import os\n",
    "import pandas as pd\n",
    "\n",
    "current_file_dir = os.getcwd()\n",
    "root_data_dir = os.path.join(os.path.dirname(current_file_dir), 'data')\n",
    "app_files_dir = os.path.join(root_data_dir, 'pipelines-data')\n",
    "\n",
    "print(os.listdir(app_files_dir))\n",
    "\n",
    "res_csv_path = os.path.join(app_files_dir, 'content_green_bro.csv')\n",
    "\n",
    "content_db = pd.read_csv(res_csv_path)"
   ]
  },
  {
   "cell_type": "code",
   "execution_count": 4,
   "id": "67886ca9-0dda-4c17-8e7f-70719505bbcf",
   "metadata": {},
   "outputs": [
    {
     "data": {
      "text/html": [
       "<div>\n",
       "<style scoped>\n",
       "    .dataframe tbody tr th:only-of-type {\n",
       "        vertical-align: middle;\n",
       "    }\n",
       "\n",
       "    .dataframe tbody tr th {\n",
       "        vertical-align: top;\n",
       "    }\n",
       "\n",
       "    .dataframe thead th {\n",
       "        text-align: right;\n",
       "    }\n",
       "</style>\n",
       "<table border=\"1\" class=\"dataframe\">\n",
       "  <thead>\n",
       "    <tr style=\"text-align: right;\">\n",
       "      <th></th>\n",
       "      <th>title</th>\n",
       "      <th>item_name</th>\n",
       "      <th>tags</th>\n",
       "      <th>relief</th>\n",
       "      <th>positive_effects</th>\n",
       "      <th>flavours</th>\n",
       "      <th>avg_rating</th>\n",
       "      <th>num_ratings</th>\n",
       "    </tr>\n",
       "  </thead>\n",
       "  <tbody>\n",
       "    <tr>\n",
       "      <th>0</th>\n",
       "      <td>Casey Jones</td>\n",
       "      <td>casey-jones</td>\n",
       "      <td>Sativa Dominant|80% Sativa/20% Indica</td>\n",
       "      <td>add/adhd arthritis bipolar disorder chronic pa...</td>\n",
       "      <td>creative euphoria focus happy</td>\n",
       "      <td>citrus fruity lemon sweet</td>\n",
       "      <td>4.6</td>\n",
       "      <td>38</td>\n",
       "    </tr>\n",
       "    <tr>\n",
       "      <th>1</th>\n",
       "      <td>Gorilla Glue #4</td>\n",
       "      <td>gorilla-glue-4</td>\n",
       "      <td>Indica Dominant|60% Indica/40% Sativa</td>\n",
       "      <td>add/adhd bipolar disorder chronic pain depress...</td>\n",
       "      <td>body high euphoria happy uplifting</td>\n",
       "      <td>chemical chocolate coffee diesel pine sweet</td>\n",
       "      <td>4.6</td>\n",
       "      <td>339</td>\n",
       "    </tr>\n",
       "    <tr>\n",
       "      <th>2</th>\n",
       "      <td>Cherry Pie</td>\n",
       "      <td>cherry-pie</td>\n",
       "      <td>Indica Dominant|80% Indica/20% Sativa</td>\n",
       "      <td>add/adhd anxiety bipolar disorder chronic pain...</td>\n",
       "      <td>creative euphoria happy relaxing</td>\n",
       "      <td>berry cherry sweet</td>\n",
       "      <td>4.5</td>\n",
       "      <td>110</td>\n",
       "    </tr>\n",
       "    <tr>\n",
       "      <th>3</th>\n",
       "      <td>Amnesia Haze</td>\n",
       "      <td>amnesia-haze</td>\n",
       "      <td>Sativa Dominant|80% Sativa/20% Indica</td>\n",
       "      <td>add/adhd anxiety cancer chronic pain depressio...</td>\n",
       "      <td>creative euphoria giggly happy</td>\n",
       "      <td>citrus lemon sweet</td>\n",
       "      <td>4.5</td>\n",
       "      <td>55</td>\n",
       "    </tr>\n",
       "    <tr>\n",
       "      <th>4</th>\n",
       "      <td>Blueberry</td>\n",
       "      <td>blueberry</td>\n",
       "      <td>Indica Dominant|80% Indica/20% Sativa</td>\n",
       "      <td>add/adhd bipolar disorder depression insomnia ...</td>\n",
       "      <td>euphoria happy sleepy</td>\n",
       "      <td>berry blueberry sweet woody</td>\n",
       "      <td>4.5</td>\n",
       "      <td>95</td>\n",
       "    </tr>\n",
       "  </tbody>\n",
       "</table>\n",
       "</div>"
      ],
      "text/plain": [
       "             title       item_name                                   tags  \\\n",
       "0      Casey Jones     casey-jones  Sativa Dominant|80% Sativa/20% Indica   \n",
       "1  Gorilla Glue #4  gorilla-glue-4  Indica Dominant|60% Indica/40% Sativa   \n",
       "2       Cherry Pie      cherry-pie  Indica Dominant|80% Indica/20% Sativa   \n",
       "3     Amnesia Haze    amnesia-haze  Sativa Dominant|80% Sativa/20% Indica   \n",
       "4        Blueberry       blueberry  Indica Dominant|80% Indica/20% Sativa   \n",
       "\n",
       "                                              relief  \\\n",
       "0  add/adhd arthritis bipolar disorder chronic pa...   \n",
       "1  add/adhd bipolar disorder chronic pain depress...   \n",
       "2  add/adhd anxiety bipolar disorder chronic pain...   \n",
       "3  add/adhd anxiety cancer chronic pain depressio...   \n",
       "4  add/adhd bipolar disorder depression insomnia ...   \n",
       "\n",
       "                     positive_effects  \\\n",
       "0       creative euphoria focus happy   \n",
       "1  body high euphoria happy uplifting   \n",
       "2    creative euphoria happy relaxing   \n",
       "3      creative euphoria giggly happy   \n",
       "4               euphoria happy sleepy   \n",
       "\n",
       "                                      flavours  avg_rating  num_ratings  \n",
       "0                    citrus fruity lemon sweet         4.6           38  \n",
       "1  chemical chocolate coffee diesel pine sweet         4.6          339  \n",
       "2                           berry cherry sweet         4.5          110  \n",
       "3                           citrus lemon sweet         4.5           55  \n",
       "4                  berry blueberry sweet woody         4.5           95  "
      ]
     },
     "execution_count": 4,
     "metadata": {},
     "output_type": "execute_result"
    }
   ],
   "source": [
    "content_db.head()"
   ]
  },
  {
   "cell_type": "markdown",
   "id": "41761c67-e370-4ceb-be4e-7d7f151945d9",
   "metadata": {},
   "source": [
    "Data for service"
   ]
  },
  {
   "cell_type": "code",
   "execution_count": 189,
   "id": "c57b2e4c-effc-4d57-829f-4efade50d648",
   "metadata": {},
   "outputs": [],
   "source": [
    "def add_url(postfix):\n",
    "    url = os.path.join('https://www.allbud.com' + content_db_full.iloc[0]['link'])\n",
    "\n",
    "content_db_full = pd.read_csv(os.path.join(app_files_dir, 'content_db_df.csv'))\n",
    "content_db_full['url'] = content_db_full['link'].apply(lambda x: 'https://www.allbud.com' + x)\n",
    "content_db = content_db_full[['url', 'item_name']].merge(content_db, on='item_name')\n",
    "\n",
    "content_db.to_csv(os.path.join(app_files_dir, 'api_db.csv'), index=False)"
   ]
  },
  {
   "cell_type": "code",
   "execution_count": 192,
   "id": "449a4d04-6c93-4a09-869d-caba390373ee",
   "metadata": {},
   "outputs": [
    {
     "data": {
      "text/plain": [
       "[{'title': 'Cherry Pie',\n",
       "  'url': 'https://www.allbud.com/marijuana-strains/indica-dominant-hybrid/cherry-pie',\n",
       "  'explanation': 'Indica Dominant|80% Indica/20% Sativa: creative euphoria happy relaxing',\n",
       "  'flavours': 'berry cherry sweet'},\n",
       " {'title': 'Amnesia Haze',\n",
       "  'url': 'https://www.allbud.com/marijuana-strains/sativa-dominant-hybrid/amnesia-haze',\n",
       "  'explanation': 'Sativa Dominant|80% Sativa/20% Indica: creative euphoria giggly happy',\n",
       "  'flavours': 'citrus lemon sweet'},\n",
       " {'title': 'Blueberry',\n",
       "  'url': 'https://www.allbud.com/marijuana-strains/indica-dominant-hybrid/blueberry',\n",
       "  'explanation': 'Indica Dominant|80% Indica/20% Sativa: euphoria happy sleepy',\n",
       "  'flavours': 'berry blueberry sweet woody'}]"
      ]
     },
     "execution_count": 192,
     "metadata": {},
     "output_type": "execute_result"
    }
   ],
   "source": [
    "def get_candidates(content_names_list):\n",
    "    res = [\n",
    "        {\n",
    "            'title': row['title'], 'url': row['url'],\n",
    "            'explanation': f\"{row['tags']}: {row['positive_effects']}\",\n",
    "            'flavours': row['flavours']\n",
    "        }\n",
    "        for _, row in content_db[content_db['item_name'].isin(content_names_list)].iterrows()\n",
    "    ]\n",
    "    return res\n",
    "\n",
    "content_names_list = ['blueberry', 'amnesia-haze', 'cherry-pie']\n",
    "\n",
    "candidates = get_candidates(content_names_list)\n",
    "\n",
    "candidates"
   ]
  },
  {
   "cell_type": "code",
   "execution_count": 204,
   "id": "fe369570-2fe5-4342-bb62-9f8580c5c2be",
   "metadata": {},
   "outputs": [
    {
     "data": {
      "text/plain": [
       "['content_queries.json',\n",
       " 'golden_dataset.json',\n",
       " 'content_reviews_green_bro.json',\n",
       " 'models',\n",
       " 'api_db.csv',\n",
       " 'content_green_bro.csv',\n",
       " 'content_db_df.csv',\n",
       " 'ground_truth.json']"
      ]
     },
     "execution_count": 204,
     "metadata": {},
     "output_type": "execute_result"
    }
   ],
   "source": [
    "os.listdir(app_files_dir)"
   ]
  },
  {
   "cell_type": "code",
   "execution_count": 217,
   "id": "bdae7815-6dbd-4a82-a850-5b81673e7df0",
   "metadata": {},
   "outputs": [],
   "source": [
    "models_dir = os.path.join(root_data_dir, 'pipelines-data', 'models')\n",
    "index_file_path = os.path.join(models_dir, 'embeds_index.json')\n",
    "embeds_file_path = os.path.join(models_dir, 'embeds.npy')\n",
    "with open(index_file_path, 'r') as f:\n",
    "    index = json.load(f)\n",
    "embeds = np.load(embeds_file_path)\n",
    "db = {}\n",
    "for i, embed in enumerate(embeds):\n",
    "    db[index[i]] = embed\n",
    "print(db[index[-1]])"
   ]
  },
  {
   "cell_type": "code",
   "execution_count": null,
   "id": "3bb318a7-f6e3-406a-bd03-ce0a1b3b34b4",
   "metadata": {},
   "outputs": [],
   "source": []
  },
  {
   "cell_type": "code",
   "execution_count": null,
   "id": "133efd3a-1b70-434a-ab84-c1a280a8b5c0",
   "metadata": {},
   "outputs": [],
   "source": [
    "class VectorDB:\n",
    "    def __init__(self, index, embeddings):\n",
    "        self.db = {}\n",
    "        for i, embed in enumerate(embeddings):\n",
    "            self.db[index[i]] = embed\n",
    "\n",
    "    def get_item_vector(self, item_name):\n",
    "        return self.db[item_name]\n",
    "\n",
    "\n",
    "def get_vector_db(root_dir):\n",
    "    models_dir = os.path.join(root_data_dir, 'pipelines-data', 'models')\n",
    "    index_file_path = os.path.join(models_dir, 'embeds_index.json')\n",
    "    embeds_file_path = os.path.join(models_dir, 'embeds.npy')\n",
    "    with open(index_file_path, 'r') as f:\n",
    "        index = json.load(f)\n",
    "    embeds = np.load(embeds_file_path)\n",
    "    print(embeds.shape, len(index))\n",
    "    vector_db = VectorDB(index=index, embeddings=embeds)\n",
    "    return vector_db\n",
    "\n",
    "vector_db = get_vector_db(current_file_dir)\n",
    "#vector_db.get_item_vector('gorilla-glue-4')"
   ]
  },
  {
   "cell_type": "code",
   "execution_count": 221,
   "id": "b57a1917-d873-423e-8067-a95d9de45c84",
   "metadata": {},
   "outputs": [
    {
     "data": {
      "text/plain": [
       "{}"
      ]
     },
     "execution_count": 221,
     "metadata": {},
     "output_type": "execute_result"
    }
   ],
   "source": [
    "vector_db.db"
   ]
  },
  {
   "cell_type": "code",
   "execution_count": 209,
   "id": "362dbd79-e77c-4157-a1ba-be92ba22f2ef",
   "metadata": {},
   "outputs": [
    {
     "ename": "FileNotFoundError",
     "evalue": "[Errno 2] No such file or directory: '/Users/username/PycharmProjects/leaf-bro/jupyter_notebooks/data/pipelines-data/models'",
     "output_type": "error",
     "traceback": [
      "\u001b[0;31m---------------------------------------------------------------------------\u001b[0m",
      "\u001b[0;31mFileNotFoundError\u001b[0m                         Traceback (most recent call last)",
      "Cell \u001b[0;32mIn[209], line 1\u001b[0m\n\u001b[0;32m----> 1\u001b[0m \u001b[43mos\u001b[49m\u001b[38;5;241;43m.\u001b[39;49m\u001b[43mlistdir\u001b[49m\u001b[43m(\u001b[49m\u001b[38;5;124;43m'\u001b[39;49m\u001b[38;5;124;43m/Users/username/PycharmProjects/leaf-bro/jupyter_notebooks/data/pipelines-data/models\u001b[39;49m\u001b[38;5;124;43m'\u001b[39;49m\u001b[43m)\u001b[49m\n",
      "\u001b[0;31mFileNotFoundError\u001b[0m: [Errno 2] No such file or directory: '/Users/username/PycharmProjects/leaf-bro/jupyter_notebooks/data/pipelines-data/models'"
     ]
    }
   ],
   "source": [
    "os.listdir('/Users/username/PycharmProjects/leaf-bro/jupyter_notebooks/data/pipelines-data/models')"
   ]
  },
  {
   "cell_type": "code",
   "execution_count": 201,
   "id": "a2fb4a73-4fe1-4baa-b57c-f1167c1481c4",
   "metadata": {},
   "outputs": [
    {
     "name": "stdout",
     "output_type": "stream",
     "text": [
      "connecting OpenAI...\n",
      "Blueberry, Amnesia Haze\n"
     ]
    }
   ],
   "source": [
    "import json\n",
    "import datetime\n",
    "import hashlib\n",
    "import random\n",
    "\n",
    "import numpy as np\n",
    "import backoff\n",
    "import openai\n",
    "from openai import OpenAI\n",
    "\n",
    "\n",
    "client = OpenAI(\n",
    "    api_key=os.environ[\"OPENAI_API_KEY\"]\n",
    ")\n",
    "\n",
    "\n",
    "@backoff.on_exception(backoff.expo, openai.APIError)\n",
    "@backoff.on_exception(backoff.expo, openai.RateLimitError)\n",
    "@backoff.on_exception(backoff.expo,openai.Timeout)\n",
    "@backoff.on_exception(backoff.expo, RuntimeError)\n",
    "def gpt_query(gpt_params, verbose: bool = False, avoid_fuckup: bool = False) -> dict:\n",
    "    print('connecting OpenAI...')\n",
    "    if verbose:\n",
    "        print(gpt_params[\"messages\"][1][\"content\"])\n",
    "    response = client.chat.completions.create(\n",
    "        **gpt_params\n",
    "    )\n",
    "    gpt_response = response.choices[0].message.content\n",
    "    if avoid_fuckup:\n",
    "        if '[' in gpt_response or '?' in gpt_response or '{' in gpt_response:\n",
    "            raise RuntimeError\n",
    "    res = {'recs': gpt_response}\n",
    "    res.update({'prompt_tokens': response.usage.completion_tokens, 'prompt_tokens': response.usage.prompt_tokens, 'total_tokens': response.usage.total_tokens})\n",
    "    seed_phrase = f'{str(datetime.datetime.now().timestamp())}{gpt_response}'\n",
    "    generation_id = str(hashlib.md5(seed_phrase.encode('utf-8')).hexdigest())[:12]\n",
    "    res.update({'id': generation_id})\n",
    "    return res\n",
    "\n",
    "def random_shuffle(input_list):\n",
    "    \"\"\"\n",
    "    my_list = ['apple', 'banana', 'cherry', 'date', 'fig']\n",
    "    random_shuffle(my_list)\n",
    "    \"\"\"\n",
    "    res = random.shuffle(input_list)\n",
    "    return ', '.join(input_list)\n",
    "\n",
    "def promt_generation(candidates):\n",
    "  # TODO: use jinja2\n",
    "  flavours_list = ['sweet', 'citrus', 'fruity', 'spicy', 'berry', 'pine', 'herbal', 'sour', 'lemon', 'woody', 'grape', 'tropical', 'diesel', 'skunky', 'nutty', 'blueberry', 'vanilla', 'creamy', 'candy', 'cherry']\n",
    "  reliefs_list = ['depression', 'chronic pain', 'stress', 'insomnia', 'anxiety', 'fatigue', 'nausea', 'migraines', 'muscle spasms', 'headaches', 'ptsd', 'loss of appetite', 'add/adhd', 'inflammation', 'arthritis', 'bipolar disorder', 'cramps', 'pms', 'fibromyalgia', 'gastrointestinal disorder']\n",
    "  promt = f\"\"\"\n",
    "      generate 5 search query based on strain description below. All queries should be 3-5 words long. Do not include strain name.\n",
    "      Do not add word \"strain\".\n",
    "      Base query on flavours (not connstrained with this list): {random_shuffle(flavours_list)}\n",
    "      reliefs: {random_shuffle(reliefs_list)}\n",
    "      effects (body and mind)\n",
    "      {candidates}\n",
    "      Queries:\n",
    "  \"\"\"\n",
    "  return promt\n",
    "\n",
    "def promt_generation_2(candidates, query):\n",
    "  promt = f\"\"\"\n",
    "      Below you can find items with description in format `title: description`\n",
    "      {candidates}\n",
    "      Rerank items and return reranked item ids base on user query. Return only reranked items, comma-separate\n",
    "      Do not add any explanation, just result\n",
    "      User query: {query}\n",
    "      expected result: [title, title, title]\n",
    "      reranked:\n",
    "  \"\"\"\n",
    "  return promt\n",
    "\n",
    "def generate(gpt_prompt, verbose=False):\n",
    "    gpt_params = {\n",
    "        'model': 'gpt-3.5-turbo',\n",
    "        'max_tokens': 500,\n",
    "        'temperature': 0.7,\n",
    "        'top_p': 0.5,\n",
    "        'frequency_penalty': 0.5,\n",
    "    }\n",
    "    # gpt_promt = promt_generation(gen_candadates(db, ids))\n",
    "    if verbose:\n",
    "        print(gpt_promt)\n",
    "    messages = [\n",
    "        {\n",
    "          \"role\": \"system\",\n",
    "          \"content\": \"You are a helpful assistant for medicine shopping\",\n",
    "        },\n",
    "        {\n",
    "          \"role\": \"user\",\n",
    "          \"content\": gpt_prompt,\n",
    "        },\n",
    "    ]\n",
    "    gpt_params.update({'messages': messages})\n",
    "    res = gpt_query(gpt_params, verbose=False)\n",
    "    return res\n",
    "\n",
    "\n",
    "def load_reviews(reviews_file_path):\n",
    "    with open(reviews_file_path, 'r') as f:\n",
    "        reviews_dict = json.load(f)\n",
    "    return reviews_dict\n",
    "\n",
    "def get_item_reviews(item_name, reviews_dict):\n",
    "    reviews = [i['review'].replace('\\n', ' ') for i in reviews_dict if i['item_name'] == item_name]\n",
    "    return reviews\n",
    "\n",
    "def aggregate_reviews(content_df, reviews_dict):\n",
    "    res = {}\n",
    "    for name in content_df['item_name'].unique():\n",
    "      res[name] = {'reviews': ''.join(get_item_reviews(name, reviews_dict))}\n",
    "    return res\n",
    "\n",
    "def test_generation(reviews_agregated, random_strain):\n",
    "    prompt = promt_generation(reviews_agregated[random_strain]['reviews'])\n",
    "    generated_result = generate(prompt)\n",
    "    print(generated_result['recs'])\n",
    "    print()\n",
    "    reviews_agregated[random_strain]['reviews']\n",
    "\n",
    "def test_reranking(candidates, query):\n",
    "    [f\"{i['title']}: {i['explanation']}, {i['flavours']}\" for i in candidates]\n",
    "    prompt = promt_generation_2(candidates, query)\n",
    "    generated_result = generate(prompt)\n",
    "    print(generated_result['recs'])\n",
    "\n",
    "# reviews_dict = load_reviews(os.path.join(app_files_dir, 'content_reviews_green_bro.json'))\n",
    "# reviews_agregated = aggregate_reviews(content_db, reviews_dict)\n",
    "# # print(reviews_agregated['fire-og']['reviews'])\n",
    "\n",
    "# random_strain = np.random.choice(list(reviews_agregated.keys()))\n",
    "# test_generation(reviews_agregated, random_strain)\n",
    "\n",
    "test_reranking(candidates, 'avoid cherry')"
   ]
  },
  {
   "cell_type": "code",
   "execution_count": 203,
   "id": "d0c17d6d-d878-44b0-8a81-eb38cc213485",
   "metadata": {},
   "outputs": [
    {
     "ename": "IndexError",
     "evalue": "list index out of range",
     "output_type": "error",
     "traceback": [
      "\u001b[0;31m---------------------------------------------------------------------------\u001b[0m",
      "\u001b[0;31mIndexError\u001b[0m                                Traceback (most recent call last)",
      "Cell \u001b[0;32mIn[203], line 2\u001b[0m\n\u001b[1;32m      1\u001b[0m a \u001b[38;5;241m=\u001b[39m []\n\u001b[0;32m----> 2\u001b[0m \u001b[43ma\u001b[49m\u001b[43m[\u001b[49m\u001b[38;5;241;43m0\u001b[39;49m\u001b[43m]\u001b[49m\n",
      "\u001b[0;31mIndexError\u001b[0m: list index out of range"
     ]
    }
   ],
   "source": [
    "a = []\n",
    "a[0]"
   ]
  },
  {
   "cell_type": "markdown",
   "id": "9fec00f7-227b-4431-8b14-b446faf7a0aa",
   "metadata": {},
   "source": [
    "Search index"
   ]
  },
  {
   "cell_type": "code",
   "execution_count": 71,
   "id": "1a150c85-1a71-4181-89ea-99b34a3f9843",
   "metadata": {},
   "outputs": [
    {
     "name": "stdout",
     "output_type": "stream",
     "text": [
      "casey-jones\n"
     ]
    },
    {
     "data": {
      "text/plain": [
       "{'reviews': \" First off, an elevation of my mood, a little bit of rejuvenation to my body, and even my thoughts, I noticed quickly while smoking CJ. I was feeling a little sluggish before I smoked this strain. No more. The taste has some earthiness to it, but mostly that sweet citrus taste. If you're fond of sativas I would recommend trying CJ. Smoke this pot.  I got an eighth of Casey Jones and it kicks some serious backside. I felt very refreshed taking a puff of this light green, fuzzy bud and got notes of tangerine, citrus and even a bit of watermelon. I highly recommend Casey Jones as a daytime strain to inspire creativity and socialization.  I didn't have the pleasure of growing her, but I bought a half oz of 'b' buds and squished it. What a sweet strain. Sweet as in sugar sweet. It came out of the press as foam mostly it was so sugary. Then I burned it 1 time and it turned Into beautiful thick amber plastic. For a low-level thc strain, I was very satisfied. Ty  This strain is phenomenal,...all sativa fanatics MUST TRY this! Grade A+!  I have moderate depression and anxiety, and love sativa's, but this one made me anxious. I can take most sativa's, but not this one. The smell was bad too.  Best strain i ever smoked! The taste is so sweet and full of surpises! Buy on site  Great wake and babe Sativa. The Agent Orange wasn’t that great. It’s very smooth with not a big taste but an absolutely amazing body high you expect from a Sativa.  Great at soothing the frazzled mind and nerves at the end of the days work. Interesting unique taste, like licorice and cloves; don’t quote me on this but I didn’t notice anything citrus, blue, or purple in this strain. I’d buy this again, I would get at least an ounce if the price was right. This was for sale at the downtown dispensary by the university of Arizona,I was only able to get a few grams at the time on a generous first time patient discount. Thanks downtown dispensary!!  Purchased at Thrive disp. Anna il. From Wellness Group Pharms. I was hesitant to buy, do to previous purchase from WGP. Casey Jones : uplifting, focused, happy, a good feel good and enjoy the day smoke. Way to go Wellness, the last 3, Chocolope ( 👍 👍 👍) , Casey Jones ( 👍 👍 ) .  Just finished some CJ....wow such a great sativa high. Smooth,citrusy taste You've hit it again UM420 good job. \"}"
      ]
     },
     "execution_count": 71,
     "metadata": {},
     "output_type": "execute_result"
    }
   ],
   "source": [
    "key = list(reviews_agregated.keys())[0]\n",
    "print(key)\n",
    "reviews_agregated[key]"
   ]
  },
  {
   "cell_type": "markdown",
   "id": "d4991fde-3071-4994-b7b0-dedced35d4a8",
   "metadata": {},
   "source": [
    "Generate ground trurh"
   ]
  },
  {
   "cell_type": "code",
   "execution_count": 66,
   "id": "0b9e9bef-46e7-4702-847e-194248a8ee7a",
   "metadata": {},
   "outputs": [
    {
     "data": {
      "text/plain": [
       "{'reviews': \" My first time with the Chapo, was a multi-high experience the flavor, omg…. The throat on a few hits reminded me of the drainage you’d get from decent quality “coke”, very sweet head high, spurts of clear thought, energy, then my favorite “Couch Lock”, and the world for now ceases.  Smoked a pre-roll of el chapo OG and fucking hell my eyes got sooo heavy and got baked asf!  I have a chronic disease this indica strain is a cure all fo me and I’m a long time smoker!!  I really enjoy this strains ability to reduce pain.  El Chapo OG Kush (Face/Off OG x SFV OG x OG Kush) by Boss Status Genetics/Cali Buds.Average Cannabinoid Content: THC: 10-23%CBD: 0.00-0.50%Terpene Profile:Myrcene, Limonene, Pinene, beta-Caryophyllene Medicinal Benefits include:pain relief gastrointestinal issues nausea relief insomnia relief relaxation appetite stimulationdepression relief  Superb! The best strain I've had in 2019 except that Presidential Kush. Grade A!  El Chapo OG (AKA: Shorty) is an Indica. The tight lime green buds have burnt orange hairs & frosty layer of fine crystal trichomes. The scent & flavor is a earthy, citrus, & pine. The effects made me happy, relaxed, lazy, & sleepy. Good night time medicine. Medicate On :)  This is an unbeatable strain for me, considering I am a strong sativa lover. I've been appreciating cannabis for ten years and this is by far the best strain out there.HIGHLY RECCOMENDED TO TRY AT LEAST ONCE.#England  Best strain ever for pain!!!!  Very good strain straight fire \",\n",
       " 'queries': {'recs': '1. Sweet citrus pain relief\\n2. Relaxing earthy aroma\\n3. Energy and relaxation blend\\n4. Heavy eyes, clear thoughts\\n5. Best strain for pain',\n",
       "  'prompt_tokens': 571,\n",
       "  'total_tokens': 607,\n",
       "  'id': '757dc25ca3e5'}}"
      ]
     },
     "execution_count": 66,
     "metadata": {},
     "output_type": "execute_result"
    }
   ],
   "source": [
    "from IPython.display import clear_output\n",
    "\n",
    "def generate_and_save_ground_truth(input_dict, output_filename):\n",
    "    for i in input_dict:\n",
    "      reviews = input_dict[i]['reviews']\n",
    "      prompt = promt_generation(reviews)\n",
    "      input_dict[i]['queries'] = generate(prompt)\n",
    "    with open(output_filename, 'w') as f:\n",
    "      json.dump(input_dict, f)\n",
    "    print('Data generated')\n",
    "    return input_dict\n",
    "\n",
    "clear_output()\n",
    "output_filename = os.path.join(app_files_dir,'content_queries.json')\n",
    "user_queries_dict = generate_and_save_ground_truth(reviews_agregated, output_filename)\n",
    "user_queries_dict[random_strain]"
   ]
  },
  {
   "cell_type": "code",
   "execution_count": null,
   "id": "4c10b469-6ba4-4bb5-98ae-1a9467e8c7af",
   "metadata": {},
   "outputs": [],
   "source": [
    "\n",
    "output_file_path = os.path.join(app_files_dir,'ground_truth.json')"
   ]
  },
  {
   "cell_type": "code",
   "execution_count": 68,
   "id": "280af815-1a63-4efe-bcba-6c1a885db33b",
   "metadata": {},
   "outputs": [
    {
     "name": "stdout",
     "output_type": "stream",
     "text": [
      "1. Fruity pain relief options\n",
      "2. Energizing headache remedy\n",
      "3. Relaxing stress relief choices\n",
      "4. Uplifting mood support picks\n",
      "5. Cerebral anxiety solutions\n"
     ]
    }
   ],
   "source": [
    "#queries_dict = load_reviews(output_filename)\n",
    "random_strain = np.random.choice(list(reviews_agregated.keys()))\n",
    "\n",
    "print(queries_dict[random_strain]['queries']['recs'])"
   ]
  },
  {
   "cell_type": "code",
   "execution_count": 54,
   "id": "f6d1eb1a-d154-4dcc-9d63-765040f3e414",
   "metadata": {},
   "outputs": [
    {
     "name": "stdout",
     "output_type": "stream",
     "text": [
      "Num generates: 1455\n",
      "data saved to /Users/username/PycharmProjects/leaf-bro/data/pipelines-data/ground_truth.json\n"
     ]
    }
   ],
   "source": [
    "import re\n",
    "\n",
    "def clean_text(text):\n",
    "    cleaned_text = re.sub(r'^\\d+\\.\\s*', '', text)\n",
    "    return cleaned_text\n",
    "\n",
    "def prepare_ground_truth(queries_dict, data_path):\n",
    "    ground_truth = []\n",
    "    \n",
    "    for k in queries_dict:\n",
    "        queries = queries_dict[k]['queries']['recs'].split('\\n')\n",
    "        ground_truth += [{'answer': k, 'query': clean_text(q)} for q in queries]\n",
    "    print('Num generates: %d' % len(ground_truth))\n",
    "    with open(data_path, 'w') as f:\n",
    "      json.dump(ground_truth, f)\n",
    "    print('data saved to %s' % data_path)\n",
    "    return ground_truth\n",
    "output_file_path = os.path.join(app_files_dir,'ground_truth.json')\n",
    "ground_truth = prepare_ground_truth(queries_dict, output_file_path)"
   ]
  },
  {
   "cell_type": "code",
   "execution_count": 56,
   "id": "7740dc4e-8b44-431d-a06b-4e62a0a2e371",
   "metadata": {},
   "outputs": [
    {
     "name": "stdout",
     "output_type": "stream",
     "text": [
      "{'answer': 'gorilla-cookies', 'query': 'Citrus herbal pain relief'}\n"
     ]
    },
    {
     "data": {
      "text/plain": [
       "\" Great high that is good for a night downtown that lasts for hours  This one hits me more like an Indica than a Sativa despite it being Sativa leaning. I get the heavy couch-locking feeling of the Gorilla Glue with the euphoric aspect (mentally and physically) from the GSC, along with that nice head buzz. While remaining clear-headed, I do find myself struggling to keep my eyes open after a good few dabs.  Awesome strain I was bouncing around getting things done Happy and care free Pretty dumb to be honest but didnt care  After consuming gorilla cookies thc oil in a vape device, numerous times, as a medical & recently recreational user, gorilla cookies is an extremely high sativa dominant smoke that in my case gives me plenty of nervous energy but no focus to get things done! Slight couch lock that's easily overcome for most, I personally didn't like the restless energy & feelings of anxiety gorilla cookies always produces. Your experience may differ!I didn't feel any other benefits such as pain relief & it interfered with my insomniac medical needs to the point I needed at least double to triple a high indica strain to calm me back down physically. For those with any kind of heart or similar concerns, this one might better be skipped.  One of my favorite strains. It really spoils me when I can get it as it really works well for me. Buds very hard and thick. A small bud will really go a long way.2 to 3 hits is usually sufficient to get you well on your way. I use to lean toward the diesels until they got diluted and I found this one. Now this one is my go to. One of the smoothest highs nd long lasting. Not for the novice.  What a strain, two of my favourite strains together forming this delicious good looking flower. its effects are more sativa but definetly kicking a very good hybrid .with powerful couchlocking effects reminiscent of the gorilla glue #4 and the daze trippy side from the GSC. buds look so dank, a great dark olive tone with crazy aroma, again reminding me the gorilla glue and the gsc. its flavors are very similar too, i can definitely taste the rubber, nutty, herbal taste of the gorilla glue but with hints of mint cookies/dough. a delicious flavor. i love its effects, man this is an all day strain for sure. more sativa than indica but it is a hybrid for sure, youll feel both effects believe me. straight fire.  Great strain, helps with my back pain and is for an experienced smoker so be careful  Like The strain I’m not really a sativa guy lean more to indica but this helps a lot with the pain in my back and it’s a good relaxing head I slept for four hours after it wore off so it does have a little Indica lovely bud  Awsom, shit, I'm having a hard time thinking, but I feel very intelligent.  Good strong strain. Made me laugh at everything \""
      ]
     },
     "execution_count": 56,
     "metadata": {},
     "output_type": "execute_result"
    }
   ],
   "source": [
    "import numpy as np\n",
    "\n",
    "random_id = np.random.randint(0, len(ground_truth))\n",
    "print(ground_truth[random_id])\n",
    "\n",
    "queries_dict[ground_truth[random_id]['answer']]['reviews']"
   ]
  },
  {
   "cell_type": "code",
   "execution_count": null,
   "id": "a361a326-9b43-4682-bf7d-a3b98ca3dae4",
   "metadata": {},
   "outputs": [],
   "source": []
  },
  {
   "cell_type": "markdown",
   "id": "91a13477-569a-4af8-970d-b10149a5a734",
   "metadata": {},
   "source": [
    "# Project\n",
    "\n",
    "find a strain and motivate user to buy it"
   ]
  },
  {
   "cell_type": "code",
   "execution_count": 76,
   "id": "8906fdbe-7ed4-490a-9143-6b9ae9490e4b",
   "metadata": {},
   "outputs": [
    {
     "name": "stdout",
     "output_type": "stream",
     "text": [
      "291 291\n"
     ]
    }
   ],
   "source": [
    "def prepare_catalog(reviews_agregated):\n",
    "    index = []\n",
    "    corpus = []\n",
    "    for key, content in reviews_agregated.items():\n",
    "        index.append(key)\n",
    "        corpus.append(content['reviews'])\n",
    "    return index, corpus\n",
    "index, corpus = prepare_catalog(reviews_agregated)\n",
    "print(len(index), len(corpus))"
   ]
  },
  {
   "cell_type": "code",
   "execution_count": 87,
   "id": "5dc72435-1504-4d5f-b2b0-b90176e48ff9",
   "metadata": {},
   "outputs": [
    {
     "name": "stdout",
     "output_type": "stream",
     "text": [
      "(291, 768) 291\n"
     ]
    }
   ],
   "source": [
    "models_dir = os.path.join(app_files_dir, 'models')\n",
    "\n",
    "index_file_path = os.path.join(models_dir, 'embeds_index.json')\n",
    "embeds_file_path = os.path.join(models_dir, 'embeds.npy')\n",
    "with open(index_file_path, 'r') as f:\n",
    "    index = json.load(f)\n",
    "embeds = np.load(embeds_file_path)\n",
    "print(embeds.shape, len(index))"
   ]
  },
  {
   "cell_type": "code",
   "execution_count": 88,
   "id": "82b46730-4b3c-47b6-9994-582cd0742049",
   "metadata": {},
   "outputs": [
    {
     "name": "stderr",
     "output_type": "stream",
     "text": [
      "/Users/username/.pyenv/versions/3.10.13/envs/llmops-env/lib/python3.10/site-packages/threadpoolctl.py:1214: RuntimeWarning: \n",
      "Found Intel OpenMP ('libiomp') and LLVM OpenMP ('libomp') loaded at\n",
      "the same time. Both libraries are known to be incompatible and this\n",
      "can cause random crashes or deadlocks on Linux when loaded in the\n",
      "same Python program.\n",
      "Using threadpoolctl may cause crashes or deadlocks. For more\n",
      "information and possible workarounds, please see\n",
      "    https://github.com/joblib/threadpoolctl/blob/master/multiple_openmp.md\n",
      "\n",
      "  warnings.warn(msg, RuntimeWarning)\n"
     ]
    },
    {
     "name": "stdout",
     "output_type": "stream",
     "text": [
      "pretrained model loading...\n",
      "model loadind done\n"
     ]
    },
    {
     "data": {
      "text/plain": [
       "SentenceTransformer(\n",
       "  (0): Transformer({'max_seq_length': 512, 'do_lower_case': False}) with Transformer model: DistilBertModel \n",
       "  (1): Pooling({'word_embedding_dimension': 768, 'pooling_mode_cls_token': False, 'pooling_mode_mean_tokens': True, 'pooling_mode_max_tokens': False, 'pooling_mode_mean_sqrt_len_tokens': False})\n",
       "  (2): Normalize()\n",
       ")"
      ]
     },
     "execution_count": 88,
     "metadata": {},
     "output_type": "execute_result"
    }
   ],
   "source": [
    "def get_pytorch_model(models_dir, model_name='multi-qa-distilbert-cos-v1'):\n",
    "  from sentence_transformers import SentenceTransformer\n",
    "\n",
    "  model_path = os.path.join(models_dir, model_name)\n",
    "\n",
    "  if not os.path.exists(model_path):\n",
    "      print('huggingface model loading...')\n",
    "      embedder = SentenceTransformer(model_name)\n",
    "      embedder.save(model_path)\n",
    "  else:\n",
    "      print('pretrained model loading...')\n",
    "      embedder = SentenceTransformer(model_name_or_path=model_path)\n",
    "  print('model loadind done')\n",
    "\n",
    "  return embedder\n",
    "\n",
    "class VectorSearchEngine:\n",
    "    def __init__(self, documents, embeddings):\n",
    "        self.documents = documents\n",
    "        self.embeddings = embeddings\n",
    "\n",
    "    def search(self, v_query, num_results=10):\n",
    "        scores = self.embeddings.dot(v_query)\n",
    "        idx = np.argsort(-scores)[:num_results]\n",
    "        return [{'score': scores[i], 'doc': self.documents[i]} for i in idx]\n",
    "\n",
    "embedder = get_pytorch_model(models_dir)\n",
    "embedder"
   ]
  },
  {
   "cell_type": "code",
   "execution_count": 89,
   "id": "9f72ed93-bc19-4e55-adc2-610b36af0701",
   "metadata": {},
   "outputs": [],
   "source": [
    "search_engine = VectorSearchEngine(documents=index, embeddings=embeds)\n"
   ]
  },
  {
   "cell_type": "code",
   "execution_count": 91,
   "id": "17776ea6-c15d-46ab-950b-05c52e148b72",
   "metadata": {},
   "outputs": [
    {
     "data": {
      "text/plain": [
       "[{'score': 0.4901401, 'doc': 'lemon-tree'},\n",
       " {'score': 0.47702503, 'doc': 'golden-lemons'},\n",
       " {'score': 0.47451043, 'doc': 'hardcore-og'},\n",
       " {'score': 0.45465428, 'doc': 'orange-crush'},\n",
       " {'score': 0.4432276, 'doc': 'skywalker-og'}]"
      ]
     },
     "execution_count": 91,
     "metadata": {},
     "output_type": "execute_result"
    }
   ],
   "source": [
    "user_question = 'citrus relaxation'\n",
    "\n",
    "v = embedder.encode(user_question)\n",
    "\n",
    "search_engine.search(v, num_results=5)"
   ]
  },
  {
   "cell_type": "code",
   "execution_count": 129,
   "id": "3b41cf59-d1b0-4e4e-a0a4-e088c24c8bea",
   "metadata": {},
   "outputs": [
    {
     "name": "stdout",
     "output_type": "stream",
     "text": [
      "39 100\n"
     ]
    }
   ],
   "source": [
    "random_numbers = np.random.choice(np.arange(0, len(ground_truth) - 1), size=100, replace=False)\n",
    "res = []\n",
    "for random_id in random_numbers:\n",
    "    origin = ground_truth[random_id]['answer']\n",
    "    query = ground_truth[random_id]['query']\n",
    "    v = embedder.encode(query)\n",
    "    res.append( 1 if sum(origin==i['doc'] for i in search_engine.search(v, num_results=30)) > 0 else 0)\n",
    "\n",
    "print(sum(res), len(res))"
   ]
  },
  {
   "cell_type": "code",
   "execution_count": 131,
   "id": "7ab03784-bf46-499e-8af4-2d0a979261c7",
   "metadata": {},
   "outputs": [
    {
     "name": "stderr",
     "output_type": "stream",
     "text": [
      "/var/folders/6_/c5005cfj5_s0k2v7t69q1qsh0000gn/T/ipykernel_39617/649090524.py:1: DeprecationWarning: Calling nonzero on 0d arrays is deprecated, as it behaves surprisingly. Use `atleast_1d(cond).nonzero()` if the old behavior was intended. If the context of this warning is of the form `arr[nonzero(cond)]`, just use `arr[cond]`.\n",
      "  [ground_truth[i] for i in random_numbers[np.where(res==1)]]\n"
     ]
    },
    {
     "data": {
      "text/plain": [
       "[]"
      ]
     },
     "execution_count": 131,
     "metadata": {},
     "output_type": "execute_result"
    }
   ],
   "source": [
    "[ground_truth[i] for i in random_numbers[np.where(res==1)]]\n"
   ]
  },
  {
   "cell_type": "code",
   "execution_count": 166,
   "id": "24672f1a-5059-433b-9c7b-d37a09151076",
   "metadata": {},
   "outputs": [],
   "source": [
    "def eval_hitrate(golden_dataset):\n",
    "    res = []\n",
    "    for entry in golden_dataset:\n",
    "        v = embedder.encode(entry['query'])\n",
    "        res.append( 1 if sum(entry['origin']==i['doc'] for i in search_engine.search(v, num_results=30)) > 0 else 0)\n",
    "    print('Hit rate: %.3f, num entries: %d' % (sum(res)/len(res), len(res)))\n",
    "\n",
    "def generate_golden_set():\n",
    "    items_list = list(set([i['answer'] for i in ground_truth]))\n",
    "    random.shuffle(items_list)\n",
    "    random.shuffle(ground_truth)\n",
    "    result = []\n",
    "    test_queries = []\n",
    "    for i in items_list[:100]:\n",
    "        result.append(i)\n",
    "        test_queries.append([j['query'] for j in ground_truth if j['answer']==i][0])\n",
    "    golden_dataset = [{'origin': origin, 'query': query} for origin, query in zip(result, test_queries)]\n",
    "    return golden_dataset\n",
    "\n",
    "data_path = os.path.join(app_files_dir, 'golden_dataset.json')\n",
    "golden_dataset = [{'origin': origin, 'query': query} for origin, query in zip(result, test_queries)]\n",
    "with open(data_path, 'w') as f:\n",
    "  json.dump(golden_dataset, f)"
   ]
  },
  {
   "cell_type": "code",
   "execution_count": 160,
   "id": "c8139194-4da8-4cc7-b38c-ec66eee8e492",
   "metadata": {},
   "outputs": [
    {
     "data": {
      "text/plain": [
       "['alaskan-thunder-fuck',\n",
       " 'key-lime-pie',\n",
       " 'la-confidential',\n",
       " 'grape-pie',\n",
       " 'monster-cookies',\n",
       " 'white-og',\n",
       " 'purple-punch',\n",
       " 'island-sweet-skunk',\n",
       " 'gobbstopper',\n",
       " 'gelato-cake',\n",
       " 'white-widow',\n",
       " 'chocolate-diesel',\n",
       " 'lavender-jones',\n",
       " 'sour-berry',\n",
       " '101-headband',\n",
       " 'super-boof',\n",
       " 'sfv-og',\n",
       " 'cherry-pie',\n",
       " '101-headband',\n",
       " 'chocolate-diesel',\n",
       " 'kosher-kush',\n",
       " 'granddaddy-purple',\n",
       " 'master-kush',\n",
       " 'zoap',\n",
       " 'papaya-cake',\n",
       " 'tahoe-og',\n",
       " 'sour-tangie',\n",
       " 'lemon-skunk',\n",
       " 'slurricane',\n",
       " 'zkittlez-cake']"
      ]
     },
     "execution_count": 160,
     "metadata": {},
     "output_type": "execute_result"
    }
   ],
   "source": [
    "[i['answer'] for i in np.array(ground_truth)[np.where(np.array(res)==1)]]"
   ]
  },
  {
   "cell_type": "code",
   "execution_count": 162,
   "id": "c56dedb4-65b5-4cd8-8864-44de0dfd124e",
   "metadata": {},
   "outputs": [],
   "source": [
    "\n"
   ]
  },
  {
   "cell_type": "code",
   "execution_count": 163,
   "id": "71970db3-222c-48b5-82e6-548b1ee540a4",
   "metadata": {},
   "outputs": [],
   "source": [
    "# queries_dict['skywalker-og']['reviews']"
   ]
  },
  {
   "cell_type": "code",
   "execution_count": null,
   "id": "59a4fdc4-da51-44ed-a2c0-7294fd3fc612",
   "metadata": {},
   "outputs": [],
   "source": []
  }
 ],
 "metadata": {
  "kernelspec": {
   "display_name": "Python 3 (ipykernel)",
   "language": "python",
   "name": "python3"
  },
  "language_info": {
   "codemirror_mode": {
    "name": "ipython",
    "version": 3
   },
   "file_extension": ".py",
   "mimetype": "text/x-python",
   "name": "python",
   "nbconvert_exporter": "python",
   "pygments_lexer": "ipython3",
   "version": "3.11.5"
  }
 },
 "nbformat": 4,
 "nbformat_minor": 5
}
